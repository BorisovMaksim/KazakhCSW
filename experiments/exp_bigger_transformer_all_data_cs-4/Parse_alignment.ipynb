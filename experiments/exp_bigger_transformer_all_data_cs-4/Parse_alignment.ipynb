{
 "cells": [
  {
   "cell_type": "code",
   "execution_count": 288,
   "id": "e15a562a-540c-4c2c-998e-1a4f29b7bbfa",
   "metadata": {},
   "outputs": [],
   "source": [
    "from tqdm import tqdm\n",
    "from termcolor import colored\n",
    "import sys\n",
    "sys.path.append(\"../../\")\n",
    "\n",
    "from process_data.datasets import DATASETS"
   ]
  },
  {
   "cell_type": "code",
   "execution_count": 21,
   "id": "74efcf43-757c-46b1-bf86-1c0e34888d74",
   "metadata": {},
   "outputs": [
    {
     "data": {
      "text/plain": [
       "{'RTC': PosixPath('/home/itmo/datasets/RTC'),\n",
       " 'ted': PosixPath('/home/itmo/datasets/ted'),\n",
       " 'mix_test': PosixPath('/home/itmo/datasets/mix_test'),\n",
       " 'RTC_subset': PosixPath('/home/itmo/datasets/RTC_subset'),\n",
       " 'statmt': PosixPath('/home/itmo/datasets/statmt'),\n",
       " 'wikimatrix': PosixPath('/home/itmo/datasets/wikimatrix'),\n",
       " 'tmp': PosixPath('/home/itmo/datasets/tmp'),\n",
       " 'ntrex': PosixPath('/home/itmo/datasets/ntrex'),\n",
       " 'nu': PosixPath('/home/itmo/datasets/nu'),\n",
       " 'kaznu': PosixPath('/home/itmo/datasets/kaznu'),\n",
       " 'opus': PosixPath('/home/itmo/datasets/opus')}"
      ]
     },
     "execution_count": 21,
     "metadata": {},
     "output_type": "execute_result"
    }
   ],
   "source": [
    "DATASETS"
   ]
  },
  {
   "cell_type": "code",
   "execution_count": 28,
   "id": "06dca32a-046d-4ad6-9844-0715896d3a32",
   "metadata": {},
   "outputs": [
    {
     "name": "stderr",
     "output_type": "stream",
     "text": [
      "16048810it [00:05, 2816406.37it/s]\n"
     ]
    }
   ],
   "source": [
    "alignment_path = DATASETS['tmp'] / 'gdf.align'\n",
    "\n",
    "alignments = []\n",
    "with open(alignment_path) as f:\n",
    "    for line in tqdm(f):\n",
    "        alignments.append(line.rstrip('\\n'))"
   ]
  },
  {
   "cell_type": "code",
   "execution_count": 29,
   "id": "38cc4a75-015f-4a50-99ec-4c3f4616bcf4",
   "metadata": {},
   "outputs": [
    {
     "data": {
      "text/plain": [
       "'0-0 1-2 2-3 3-1 4-4 5-5 6-10 7-11 8-12 9-9 10-7 11-6 12-13'"
      ]
     },
     "execution_count": 29,
     "metadata": {},
     "output_type": "execute_result"
    }
   ],
   "source": [
    "alignments[0]"
   ]
  },
  {
   "cell_type": "code",
   "execution_count": 30,
   "id": "183db7c8-815d-4168-8f06-20fe6b0cb7c4",
   "metadata": {},
   "outputs": [
    {
     "data": {
      "text/plain": [
       "16048810"
      ]
     },
     "execution_count": 30,
     "metadata": {},
     "output_type": "execute_result"
    }
   ],
   "source": [
    "len(alignments)"
   ]
  },
  {
   "cell_type": "code",
   "execution_count": 15,
   "id": "876fe468-1661-4405-a6b2-c75029002adb",
   "metadata": {},
   "outputs": [],
   "source": [
    "def read_data(data_path, src_lang='kk', tgt_lang='ru'):\n",
    "        src_data = []\n",
    "        tgt_data = []\n",
    "        with open(str(data_path) + \".\" + src_lang) as f, open(str(data_path) + \".\" + tgt_lang) as g:\n",
    "            for src_line, tgt_line in zip(f, g):\n",
    "                if src_line != \"\" and tgt_line != \"\":\n",
    "                    src_data.append(src_line.replace(\"\\n\", \"\"))\n",
    "                    tgt_data.append(tgt_line.replace(\"\\n\", \"\"))\n",
    "        return src_data, tgt_data"
   ]
  },
  {
   "cell_type": "code",
   "execution_count": 16,
   "id": "761f1a97-8e27-4a61-a83e-348c13a66aca",
   "metadata": {},
   "outputs": [
    {
     "name": "stderr",
     "output_type": "stream",
     "text": [
      "100%|█████████████████████████████████████████████████████████████████████████████████████████████████████████████████████████████████████████████████████████████████████████████████████████████| 6/6 [00:21<00:00,  3.53s/it]\n"
     ]
    }
   ],
   "source": [
    "train_paths = [DATASETS['nu'], DATASETS['kaznu'], DATASETS['opus'], DATASETS['RTC'],  DATASETS['statmt'],  DATASETS['wikimatrix']] \n",
    "train_paths = [p /  'processed' / 'train' / 'kk-ru_processed' for p in train_paths]\n",
    "train_data = [read_data(p) for p in tqdm(train_paths)]"
   ]
  },
  {
   "cell_type": "code",
   "execution_count": 31,
   "id": "ccecab19-3ff3-433c-af5b-32ce5f0a8fd5",
   "metadata": {},
   "outputs": [
    {
     "data": {
      "text/plain": [
       "[860421, 80627, 2177833, 12752816, 13460, 163653]"
      ]
     },
     "execution_count": 31,
     "metadata": {},
     "output_type": "execute_result"
    }
   ],
   "source": [
    "train_data_lengths = [len(src_data) for src_data, tgt_data in train_data]\n",
    "train_data_lengths "
   ]
  },
  {
   "cell_type": "code",
   "execution_count": 32,
   "id": "62729bb8-8339-46df-a523-d0ddc1ff5f41",
   "metadata": {},
   "outputs": [
    {
     "data": {
      "text/plain": [
       "16048810"
      ]
     },
     "execution_count": 32,
     "metadata": {},
     "output_type": "execute_result"
    }
   ],
   "source": [
    "sum(train_data_lengths)"
   ]
  },
  {
   "cell_type": "code",
   "execution_count": 17,
   "id": "6094ffc7-04dc-4689-92fe-72b6a42fbcb6",
   "metadata": {},
   "outputs": [],
   "source": [
    "train_data_indexes = [860421, 941048, 3118881, 15871697, 15885157, 16048810]"
   ]
  },
  {
   "cell_type": "code",
   "execution_count": 36,
   "id": "41bc62c0-e896-4e98-812d-c41e43d8b5b8",
   "metadata": {},
   "outputs": [],
   "source": [
    "train_data_alignments = []\n",
    "for i, end_index in enumerate(train_data_indexes):\n",
    "    if i == 0:\n",
    "        train_data_alignments.append(alignments[ : end_index])\n",
    "    else:\n",
    "        train_data_alignments.append(alignments[train_data_indexes[i - 1] : end_index])"
   ]
  },
  {
   "cell_type": "code",
   "execution_count": 37,
   "id": "a4a944b7-86b4-46dd-9aa8-343eef30ab1c",
   "metadata": {},
   "outputs": [
    {
     "data": {
      "text/plain": [
       "[860421, 80627, 2177833, 12752816, 13460, 163653]"
      ]
     },
     "execution_count": 37,
     "metadata": {},
     "output_type": "execute_result"
    }
   ],
   "source": [
    "train_data_alignments_length = [len(a) for a in train_data_alignments]\n",
    "train_data_alignments_length"
   ]
  },
  {
   "cell_type": "code",
   "execution_count": 257,
   "id": "31a98b98-8dac-4198-a082-6a40f4c6608b",
   "metadata": {},
   "outputs": [
    {
     "name": "stdout",
     "output_type": "stream",
     "text": [
      "11\n",
      "Салтанатты ашылу рәсімінде филармонияның би ұжымы қазақ ұлттық биін биледі . \n",
      "\n",
      "14\n",
      "Торжественный момент открытия был ознаменован замечательным национальным танцем в исполнении танцевального коллектива филармонии .\n"
     ]
    },
    {
     "data": {
      "text/plain": [
       "[['0', '0'],\n",
       " ['1', '1'],\n",
       " ['1', '2'],\n",
       " ['2', '1'],\n",
       " ['3', '3'],\n",
       " ['3', '4'],\n",
       " ['3', '5'],\n",
       " ['4', '3'],\n",
       " ['5', '3'],\n",
       " ['7', '6'],\n",
       " ['8', '7'],\n",
       " ['9', '8'],\n",
       " ['10', '13'],\n",
       " ['13', '10']]"
      ]
     },
     "execution_count": 257,
     "metadata": {},
     "output_type": "execute_result"
    }
   ],
   "source": [
    "i = 0\n",
    "j = 206\n",
    "example = train_data_alignments[i][j].split()\n",
    "example_src_text, example_tgt_text = train_data[i][0][j].split(), train_data[i][1][j].split()\n",
    "\n",
    "print(len(example_src_text))\n",
    "print(\" \".join(example_src_text), \"\\n\")\n",
    "\n",
    "print(len(example_tgt_text))\n",
    "print(\" \".join(example_tgt_text))\n",
    "      \n",
    "example_splitted = [x.split(\"-\") for x in example]\n",
    "example_splitted"
   ]
  },
  {
   "cell_type": "code",
   "execution_count": 269,
   "id": "548b949b-e78f-4cb5-addf-b361c9c1741e",
   "metadata": {},
   "outputs": [
    {
     "name": "stdout",
     "output_type": "stream",
     "text": [
      "{0: [0], 1: [1, 2], 2: [1], 3: [3, 4, 5], 4: [3], 5: [3], 7: [6], 8: [7], 9: [8], 10: [13]}\n",
      "0 <-> [0]\n",
      "Салтанатты <- Торжественный\n",
      "Торжественный -> Салтанатты\n",
      "\n",
      "1 <-> [1, 2]\n",
      "ашылу <- момент открытия\n",
      "момент -> ашылу рәсімінде\n",
      "\n",
      "3 <-> [3, 4, 5]\n",
      "филармонияның <- был ознаменован замечательным\n",
      "был -> филармонияның би ұжымы\n",
      "\n",
      "7 <-> [6]\n",
      "ұлттық <- национальным\n",
      "танцем -> қазақ\n",
      "\n",
      "8 <-> [7]\n",
      "биін <- танцем\n",
      "в -> ұлттық\n",
      "\n",
      "9 <-> [8]\n",
      "биледі <- в\n",
      "исполнении -> биін\n",
      "\n",
      "10 <-> [13]\n",
      ". <- .\n",
      "танцевального -> \n",
      "\n"
     ]
    }
   ],
   "source": [
    "src2tgt_units = {}\n",
    "tgt2src_units = {}\n",
    "\n",
    "\n",
    "for i, (src_index, tgt_index) in enumerate(example_splitted):\n",
    "    src_index, tgt_index = int(src_index), int(tgt_index)\n",
    "    if src_index < len(example_src_text) and tgt_index < len(example_tgt_text):\n",
    "        # print(example_src_text[src_index], \"<->\", example_tgt_text[tgt_index])\n",
    "        if src_index in src2tgt_units:\n",
    "            src2tgt_units[src_index] += [tgt_index]\n",
    "        else:\n",
    "            src2tgt_units[src_index] = [tgt_index]\n",
    "            \n",
    "        if tgt_index in tgt2src_units:\n",
    "            tgt2src_units[tgt_index] += [src_index]\n",
    "        else:\n",
    "            tgt2src_units[tgt_index] = [src_index]\n",
    "\n",
    "units = src2tgt_units.copy()\n",
    "for src_index, tgt_indexes in src2tgt_units.items():\n",
    "    if len(tgt_indexes) > 1:\n",
    "        for tgt_index in tgt_indexes:\n",
    "            if tgt_index != src_index and tgt_index in units and len(units[tgt_index]) == 1:\n",
    "                units.pop(tgt_index)\n",
    "print(src2tgt_units)\n",
    "\n",
    "for src_index, tgt_indexes in units.items():\n",
    "    print(src_index, \"<->\", tgt_indexes)\n",
    "    print(f\"{example_src_text[src_index]} <- {' '.join([example_tgt_text[tgt_index] for tgt_index in tgt_indexes])}\")\n",
    "    print(f\"{example_tgt_text[src_index]} -> {' '.join([example_src_text[src_index] if src_index < len(example_src_text) else '' for src_index in tgt_indexes])}\\n\")"
   ]
  },
  {
   "cell_type": "code",
   "execution_count": 338,
   "id": "33bf6540-7241-474a-a55d-7179ebc74f6a",
   "metadata": {},
   "outputs": [],
   "source": [
    "import random\n",
    "\n",
    "def generate_csw(alignment, src_line, tgt_line, percent=15, color=False, print_alignment=False):\n",
    "    alignment = [x.split(\"-\") for x in alignment.split()]\n",
    "    \n",
    "    src_line = src_line.split()\n",
    "    tgt_line = tgt_line.split()\n",
    "    \n",
    "    src2tgt_units = {}\n",
    "    for i, (src_index, tgt_index) in enumerate(alignment):\n",
    "        src_index, tgt_index = int(src_index), int(tgt_index)\n",
    "        if src_index < len(example_src_text) and tgt_index < len(example_tgt_text):\n",
    "            if src_index in src2tgt_units:\n",
    "                src2tgt_units[src_index] += [tgt_index]\n",
    "            else:\n",
    "                src2tgt_units[src_index] = [tgt_index]\n",
    "            \n",
    "    units = src2tgt_units.copy()\n",
    "    for src_index, tgt_indexes in src2tgt_units.items():\n",
    "        if len(tgt_indexes) > 1:\n",
    "            for tgt_index in tgt_indexes:\n",
    "                if tgt_index != src_index and tgt_index in units and len(units[tgt_index]) == 1:\n",
    "                    units.pop(tgt_index)\n",
    "                    \n",
    "    num_replacements = int(len(src_line) * percent / 100) if len(src_line) >= 7 else 1\n",
    "    src_indexes = list(units.keys())\n",
    "    random.shuffle(src_indexes)\n",
    "\n",
    "    for src_index in src_indexes[:num_replacements]:\n",
    "        tgt_indexes = units[src_index]\n",
    "        \n",
    "        src2tgt_alignment = random.random() > 0.5\n",
    "\n",
    "        if src2tgt_alignment:\n",
    "            if src_index >= len(src_line):\n",
    "                continue\n",
    "            replacement = ' '.join([tgt_line[tgt_index] for tgt_index in tgt_indexes if tgt_index < len(tgt_line)])\n",
    "            if print_alignment:\n",
    "                print(f\"{src_line[src_index]} -> {replacement}\")\n",
    "            src_line[src_index] = colored(replacement, 'green') if color else replacement\n",
    "        else:\n",
    "            replacement = tgt_line[src_index] if src_index < len(tgt_line) else \"\"\n",
    "            if print_alignment:\n",
    "                src_replacement = ' '.join([src_line[tgt_index] for tgt_index in tgt_indexes if tgt_index < len(src_line)])\n",
    "                print(f\"{src_replacement} <- {replacement}\")\n",
    "\n",
    "            if tgt_indexes[0] >= len(src_line):\n",
    "                continue\n",
    "            src_line[tgt_indexes[0]] =  colored(replacement, 'green') if color else replacement\n",
    "        \n",
    "            for src_index in tgt_indexes[1:]:\n",
    "                if src_index < len(src_line): \n",
    "                    src_line.pop(src_index)\n",
    "    return \" \".join(src_line)"
   ]
  },
  {
   "cell_type": "code",
   "execution_count": 327,
   "id": "4b090f04-ce7b-4ebd-a46d-e6da7a3853a3",
   "metadata": {},
   "outputs": [
    {
     "name": "stderr",
     "output_type": "stream",
     "text": [
      "860421it [00:20, 41640.30it/s]\n",
      "80627it [00:01, 40738.83it/s]\n",
      "2177833it [00:18, 117852.15it/s]\n",
      "12752816it [02:29, 85296.07it/s]\n",
      "13460it [00:00, 45538.08it/s]\n",
      "163653it [00:02, 75074.11it/s]\n"
     ]
    }
   ],
   "source": [
    "csw_train_datasets = []\n",
    "\n",
    "for i, (src_dataset, tgt_dataset) in enumerate(train_data):\n",
    "    csw_dataset = []\n",
    "    alignment_dataset = train_data_alignments[i]\n",
    "    for src_line, tgt_line, alignment in tqdm(zip(src_dataset, tgt_dataset, alignment_dataset)):\n",
    "        csw_line = generate_csw(alignment, src_line, tgt_line)\n",
    "        csw_dataset.append(csw_line)\n",
    "    csw_train_datasets.append(csw_dataset)\n",
    "        "
   ]
  },
  {
   "cell_type": "code",
   "execution_count": 336,
   "id": "ed1ac956-128f-47a5-bd95-0fea3225f69b",
   "metadata": {},
   "outputs": [
    {
     "name": "stderr",
     "output_type": "stream",
     "text": [
      "860421it [00:02, 380274.29it/s]\n",
      "80627it [00:00, 356148.24it/s]\n",
      "2177833it [00:02, 763401.76it/s]\n",
      "12752816it [00:18, 691093.76it/s]\n",
      "13460it [00:00, 339648.36it/s]\n",
      "163653it [00:00, 563137.40it/s]\n"
     ]
    }
   ],
   "source": [
    "for i, path in enumerate(train_paths):\n",
    "    csw_dataset = csw_train_datasets[i]\n",
    "    save_path = str(path).replace('kk-ru_processed', 'cs-4-ru_processed')\n",
    "    with open(save_path + \".kk\", 'w') as f_src, open(save_path + \".ru\", 'w') as f_tgt:\n",
    "        for src_line, tgt_line in tqdm(zip(csw_dataset, train_data[i][1])):\n",
    "            f_src.write(src_line.replace(\"\\n\", \"\") + \"\\n\")\n",
    "            f_tgt.write(tgt_line.replace(\"\\n\", \"\") + \"\\n\")"
   ]
  },
  {
   "cell_type": "code",
   "execution_count": 334,
   "id": "0894ff79-f247-4359-92f7-73438a85dcf8",
   "metadata": {},
   "outputs": [
    {
     "data": {
      "text/plain": [
       "860421"
      ]
     },
     "execution_count": 334,
     "metadata": {},
     "output_type": "execute_result"
    }
   ],
   "source": [
    "len(csw_train_datasets[0])"
   ]
  },
  {
   "cell_type": "code",
   "execution_count": 335,
   "id": "47fd22be-9254-4288-ae85-f17ceb139db2",
   "metadata": {},
   "outputs": [
    {
     "data": {
      "text/plain": [
       "860421"
      ]
     },
     "execution_count": 335,
     "metadata": {},
     "output_type": "execute_result"
    }
   ],
   "source": [
    "len(train_data[0][0])"
   ]
  },
  {
   "cell_type": "code",
   "execution_count": 341,
   "id": "e76835da-4400-4ad6-9f29-bfb065272238",
   "metadata": {},
   "outputs": [
    {
     "name": "stdout",
     "output_type": "stream",
     "text": [
      "біраз -> проделала\n",
      "- 2005 жылдан бастап бұл ұйым біраз жол жүріп өтті .\n",
      "- 2005 жылдан бастап бұл ұйым \u001b[32mпроделала\u001b[0m жол жүріп өтті .\n",
      "- С 2005 года данная организация проделала очень большой путь . \n",
      "\n",
      "иммунитет -> до\n",
      "сақталады -> сохраняется\n",
      "Вакциналарға иммунитет тудыру үшін 2 күннен 7-15 күнге дейін уақыт керек , иммунитет 6-12 айға сақталады .\n",
      "Вакциналарға иммунитет тудыру үшін 2 күннен 7-15 күнге дейін уақыт керек , \u001b[32mдо\u001b[0m 6-12 айға \u001b[32mсохраняется\u001b[0m .\n",
      "Выработка иммунитета на введение вакцин составляет от 2 до 7–15 дней и сохраняется от 6 до 12 месяцев . \n",
      "\n",
      "Ресей -> \n",
      "Президент Нұрсұлтан Назарбаев Ресей Ғылым академиясы экономика институтының Құрмет белгісімен марапатталды\n",
      "Президент Нұрсұлтан Назарбаев \u001b[32m\u001b[0m Ғылым академиясы экономика институтының Құрмет белгісімен марапатталды\n",
      "Институт экономики РАН наградил Президента Нурсултана Назарбаева Почетным знаком \n",
      "\n",
      "Нұр <- противодействию\n",
      "мүшелері -> члены\n",
      " <- коррупции\n",
      "басшылары -> руководители\n",
      "Кеңес отырысына « Нұр Отан » партиясы облыстық филиалы төрағасының орынбасары Н.С.Ағниязов , мемлекеттік мекеме басшылары , сыбайлас жемқорлыққа қарсы әрекет ету жөніндегі қоғамдық Кеңес мүшелері қатысты .\n",
      "Кеңес отырысына « \u001b[32mпротиводействию\u001b[0m Отан » партиясы облыстық филиалы төрағасының орынбасары Н.С.Ағниязов , мемлекеттік мекеме \u001b[32mруководители\u001b[0m , сыбайлас жемқорлыққа қарсы әрекет ету жөніндегі қоғамдық Кеңес \u001b[32mчлены\u001b[0m қатысты .\n",
      "В работе засеадния приняли участие первый заместитель председателя АОФ партии « Нұр Отан » Н. Агниязов , руководители государственных органов , и члены Общественного Совета по противодействию коррупции . \n",
      "\n",
      "мектептегі -> школьной\n",
      " <- детства\n",
      ". -> .\n",
      "Қоғамдық тыңдау барысында ана мен баланы қорғау бойынша қарастырылатын кешенді шаралар , мектептегі медицина , гендерлік және отбасылық-демографиялық саясат мәселелері талқыланды .\n",
      "Қоғамдық тыңдау барысында ана мен баланы қорғау бойынша қарастырылатын кешенді шаралар , \u001b[32mшкольной\u001b[0m медицина , гендерлік және отбасылық-демографиялық саясат мәселелері талқыланды \u001b[32m.\u001b[0m\n",
      "Как сообщили в Министерстве , в ходе общественных слушаний были рассмотрены предпринимаемые меры по охране материнства и детства , вопросы развития школьной медицины , гендерной и семейно-демографической политики . \n",
      "\n",
      "Иранда -> Иран\n",
      "\u001b[32mИран\u001b[0m <- Иран\n",
      "21-22 күндері <- 21-\n",
      "Ақпанның 21-22 күндері « Қазақстан темір жолы » ҰК » АҚ президенті Асқар Мамин бастаған делегациясы Иранда жұмыс сапарымен болды .\n",
      "Ақпанның \u001b[32m21-\u001b[0m « Қазақстан темір жолы » ҰК » АҚ президенті Асқар Мамин бастаған делегациясы \u001b[32mИран\u001b[0m жұмыс сапарымен болды .\n",
      "21- 22 февраля делегация АО « НК « Қазақстан темір жолы » во главе с президентом компании Аскаром Маминым с рабочим визитом посетила Иран , сообщили в пресс-службе нацкомпании . \n",
      "\n",
      "таңдауы -> Астана-тандауы\n",
      "Астана <- Конкурс\n",
      "« Астана таңдауы » байқауы қала тұрғындары арасынан 7 мамандықтың үздіктерін іздеуді жалғастыруда .\n",
      "« \u001b[32mКонкурс\u001b[0m \u001b[32mАстана-тандауы\u001b[0m » байқауы қала тұрғындары арасынан 7 мамандықтың үздіктерін іздеуді жалғастыруда .\n",
      "Конкурс « Астана-тандауы » продолжает искать и находить лучших представителей 7 профессий среди жителей города . \n",
      "\n",
      "ол -> есть\n",
      "Стратегияның жобасы дайын , енді ол құжатты ұйымға мүше мемлекеттермен келiсу ғана қалды .\n",
      "Стратегияның жобасы дайын , енді \u001b[32mесть\u001b[0m құжатты ұйымға мүше мемлекеттермен келiсу ғана қалды .\n",
      "Так как уже проект есть , он должен сейчас пройти согласования в государствах - участниках организации . \n",
      "\n",
      "коммуникациялар <- Об\n",
      "Ашықбаев етті <- РК\n",
      "Бұл туралы бүгін Орталық коммуникациялар қызметінің брифингінде Сыртқы істер министрінің орынбасары Ержан Ашықбаев мәлім етті .\n",
      "Бұл туралы бүгін Орталық \u001b[32mОб\u001b[0m қызметінің брифингінде Сыртқы істер министрінің орынбасары Ержан \u001b[32mРК\u001b[0m мәлім .\n",
      "Об этом в ходе брифинга в СЦК сказал Заместитель министра иностранных дел РК Ержан Ашикбаев . \n",
      "\n",
      "болады -> будут\n",
      "іріктеліп -> отберет\n",
      "20 -> 20\n",
      "Екі күн өткен соң тренерлер ішінен 100 адам іріктеліп , оның 80-ні өңірлерде оқытуды жүргізеді , 20 теренер резервте тұратын болады .\n",
      "Екі күн өткен соң тренерлер ішінен 100 адам \u001b[32mотберет\u001b[0m , оның 80-ні өңірлерде оқытуды жүргізеді , \u001b[32m20\u001b[0m теренер резервте тұратын \u001b[32mбудут\u001b[0m .\n",
      "Через два дня из их числа комиссия отберет 100 тренеров , 80 из них будут участвовать в проекте , поедут в регионы обучать население , остальные 20 войдут в резерв . \n",
      "\n",
      ", <- Напомним\n",
      "кетейік -> Напомним\n",
      "Айта кетейік , елордада қардың еруіне байланысты су тасқынына қарсы іс-шаралар бойынша күшейтілген жұмыстар жүргізіліп жатыр .\n",
      "Айта \u001b[32mНапомним\u001b[0m \u001b[32mНапомним\u001b[0m елордада қардың еруіне байланысты су тасқынына қарсы іс-шаралар бойынша күшейтілген жұмыстар жүргізіліп жатыр .\n",
      "Напомним , что в столице ведутся усиленные работы по противопаводковым мероприятиям в связи с быстрым таянием снегов . \n",
      "\n",
      "173 <- 173\n",
      "әзірленіп -> разработаны\n",
      "Б.Нұрымбетов кәсіптік стандарттар негізінде 173 білім беру бағдарламалары әзірленіп , бекітілетінін айтып өтті .\n",
      "Б.Нұрымбетов кәсіптік стандарттар негізінде \u001b[32m173\u001b[0m білім беру бағдарламалары \u001b[32mразработаны\u001b[0m , бекітілетінін айтып өтті .\n",
      "Б. Нурымбетов сообщил , что на основании профстандартов будут разработаны и утверждены 173 образовательных программ . \n",
      "\n",
      ". -> .\n",
      "Сондай-ақ , Мемлекет басшысы осыған дейінгі Қазақстан-Чехия бизнес-форумынан кейін 2 жыл өткендігін айтты .\n",
      "Сондай-ақ , Мемлекет басшысы осыған дейінгі Қазақстан-Чехия бизнес-форумынан кейін 2 жыл өткендігін айтты \u001b[32m.\u001b[0m\n",
      "Кроме того , Глава государства отметил , что с момента прошлого казахстанско-чешского бизнес-форума прошло лишь 2 года . \n",
      "\n",
      "болмауына -> не допустить\n",
      "Бөлімшелер жүргізген жұмыс жол-көлік оқиғалары мен қайғылы оқиғалардың болмауына септігін тигізді .\n",
      "Бөлімшелер жүргізген жұмыс жол-көлік оқиғалары мен қайғылы оқиғалардың \u001b[32mне допустить\u001b[0m септігін тигізді .\n",
      "Проведенная работа подразделений позволила не допустить дорожно-транспортных происшествий и несчастных случаев . \n",
      "\n",
      ". <- .\n",
      "жылға -> год\n",
      "\u001b[32m.\u001b[0m -> .\n",
      "( <- (\n",
      "Павлодар облысы әкімдігі және Еуразиялық Топ ( ERG ) арасында Әлеуметтік жобаларды жүзеге асыру бойынша 2015 жылға арналған меморандумға қол қойылды , деп хабарлады облыс әкімдігі .\n",
      "Павлодар облысы әкімдігі және Еуразиялық Топ \u001b[32m(\u001b[0m ERG ) арасында Әлеуметтік жобаларды жүзеге асыру бойынша 2015 \u001b[32mгод\u001b[0m арналған меморандумға қол қойылды , деп хабарлады облыс әкімдігі \u001b[32m.\u001b[0m\n",
      "В Павлодаре заключен Меморандум о сотрудничестве в реализации социальных проектов на 2015 год между акиматом Павлодарской области и ERG ( Eurasian Resources Group ) , сообщили в акимате . \n",
      "\n",
      "бағаланып <- \n",
      "Бұл жоба - 978 млн . теңгеге бағаланып отыр .\n",
      "Бұл жоба - 978 млн . теңгеге \u001b[32m\u001b[0m отыр .\n",
      "Он оценивается в сумму 978 млн тенге . \n",
      "\n",
      "алғаш <- впервые\n",
      "« Біз алғаш рет әлемдік біріншіліктерде жүлделі орындарға ие бола бастадық .\n",
      "« Біз \u001b[32mвпервые\u001b[0m рет әлемдік біріншіліктерде жүлделі орындарға ие бола бастадық .\n",
      "« Мы впервые на мировых первенствах начали занимать призовые места . \n",
      "\n",
      "дайындыққа <- подготовкой\n",
      "Әскери жаттығу атулары мен тікелей әскери дайындыққа қатысты басқа да шаралар көбейді .\n",
      "Әскери жаттығу атулары мен тікелей әскери \u001b[32mподготовкой\u001b[0m қатысты басқа да шаралар көбейді .\n",
      "Больше стало боевых стрельб , полевых выходов и прочих мероприятий , непосредственно связанных с боевой подготовкой . \n",
      "\n",
      "қырғауыл -> содержатся взрослых\n",
      "Қазіргі кезде вольерде 400 қырғауыл мен 1500-ден астам балапан бар .\n",
      "Қазіргі кезде вольерде 400 \u001b[32mсодержатся взрослых\u001b[0m мен 1500-ден астам балапан бар .\n",
      "Сейчас в вольерах содержатся 400 взрослых особей и более 1 500 цыплят фазанов . \n",
      "\n",
      "жасай -> не\n",
      "солардың -> таких\n",
      "тұралап <- нормальный\n",
      "13-і <- 13\n",
      "Ал қалыпты жұмыс жасай алмай жатқан , тұралап қалған проблемалы жобаларға келер болсақ , олардың саны 35 болған еді , ал қазір солардың тек 13-і қалды .\n",
      "Ал қалыпты жұмыс \u001b[32mне\u001b[0m алмай жатқан , \u001b[32mнормальный\u001b[0m қалған проблемалы жобаларға келер болсақ , олардың саны 35 болған еді , ал қазір \u001b[32mтаких\u001b[0m тек \u001b[32m13\u001b[0m қалды .\n",
      "Если говорить по проблемным проектам , которые стоят и не могут полностью выйти на нормальный ритм работы , таких было 35 , сейчас их осталось 13 . \n",
      "\n",
      "түзетүлер -> местного самоуправления\n",
      "Шымкентте заңнамадағы жергілікті өзін-өзі басқаруды дамыту мәселелері бойынша түзетүлер талқыланды\n",
      "Шымкентте заңнамадағы жергілікті өзін-өзі басқаруды дамыту мәселелері бойынша \u001b[32mместного самоуправления\u001b[0m талқыланды\n",
      "В Шымкенте обсудили поправки в законодательство по вопросам местного самоуправления \n",
      "\n",
      ". -> .\n",
      "мәселеге <- этой\n",
      "» -> »\n",
      "Сондай-ақ , түсіндіру жұмыстарын жүргізіп , осы мәселеге назар аударту үшін әлеуметтік жарнама түсіру қажет » , – деді ол .\n",
      "Сондай-ақ , түсіндіру жұмыстарын жүргізіп , осы \u001b[32mэтой\u001b[0m назар аударту үшін әлеуметтік жарнама түсіру қажет \u001b[32m»\u001b[0m , – деді ол \u001b[32m.\u001b[0m\n",
      "Также необходима работа разъяснительного характера , социальная реклама для привлечения внимания к этой проблеме » , - заявила она . \n",
      "\n",
      "мен -> и служащих\n",
      "\u001b[32mи служащих\u001b[0m мемлекеттік <- служащих\n",
      "Тәуелсіздік күні қарсаңында Елбасы Жарлығымен Қорғаныс министрлігінің 30 әскери қызметшісі мен қызметкері мемлекеттік наградалармен марапатталған болатын .\n",
      "Тәуелсіздік күні қарсаңында Елбасы Жарлығымен Қорғаныс министрлігінің 30 әскери қызметшісі \u001b[32mслужащих\u001b[0m қызметкері наградалармен марапатталған болатын .\n",
      "Всего в канун Дня независимости Указом Главы государства государственными наградами были награждены 30 военнослужащих и служащих Министерства обороны Республики Казахстан . \n",
      "\n",
      " <- Карим\n",
      "Кәрім <- сказал\n",
      "Астанадағы -> в\n",
      "Қазақстан ДСҰ мүшесі ретінде қолайлы бизнес ортасын дамыту үшін барлық шараларды қабылдауда , деп хабарлады ҚР Премьер – Министрі Кәрім Мәсімов Астанадағы Қазақстан-Сербия бизнес-форумында .\n",
      "Қазақстан ДСҰ мүшесі ретінде қолайлы бизнес ортасын дамыту үшін барлық шараларды қабылдауда , деп хабарлады ҚР Премьер – Министрі \u001b[32mсказал\u001b[0m Мәсімов \u001b[32mв\u001b[0m Қазақстан-Сербия бизнес-форумында .\n",
      "Казахстан , как член ВТО , предпринимает все усилия , чтобы поддерживать и развивать благоприятную среду для бизнеса , сказал Премьер – Министр РК Карим Масимов на казахстанско-сербском бизнес-форуме в Астане . \n",
      "\n",
      "Қарулы -> \n",
      "қолбасшылығының -> Регионального\n",
      "« -> «\n",
      "« Биылғы жиынға Қазақстан Қарулы Күштері « Оңтүстік » өңірлік қолбасшылығының , Аэроұтқыр әскерлерлерінің әскери қызметшілері тартылған » , - деп хабарламада нақтыланған .\n",
      "\u001b[32m«\u001b[0m Биылғы жиынға Қазақстан \u001b[32m\u001b[0m Күштері « Оңтүстік » өңірлік \u001b[32mРегионального\u001b[0m , Аэроұтқыр әскерлерлерінің әскери қызметшілері тартылған » , - деп хабарламада нақтыланған .\n",
      "« К сборам привлечены военнослужащие Регионального командования « Юг » и Аэромобильных войск . \n",
      "\n",
      "арналған -> на\n",
      "кіреді -> входит\n",
      "Мал шаруашылығы кешеніне 100-120 бас малға арналған 2 сиыр қорасы мен 80 бас малға есептелген 4 база кіреді .\n",
      "Мал шаруашылығы кешеніне 100-120 бас малға \u001b[32mна\u001b[0m 2 сиыр қорасы мен 80 бас малға есептелген 4 база \u001b[32mвходит\u001b[0m .\n",
      "В животноводческий комплекс входит 2 коровника на 100-120 голов , и 4 скотобазы на 80 голов . \n",
      "\n",
      "келеді <- сообщает\n",
      "істеп <- успешно\n",
      "Елімізде көмір өндіру саласында 33 компания табысты жұмыс істеп келеді , деп хабарлады ҚР инвестиция және даму минстрлігі .\n",
      "Елімізде көмір өндіру саласында 33 компания табысты жұмыс \u001b[32mуспешно\u001b[0m \u001b[32mсообщает\u001b[0m , деп хабарлады ҚР инвестиция және даму минстрлігі .\n",
      "В республике по добыче угля успешно работают 33 компании , сообщает Министерство по инвестициям и развитию РК . \n",
      "\n",
      "Аширов -> Мы во многие города\n",
      "Нұркен Аширов , « Тарту » тобының әншісі :\n",
      "Нұркен \u001b[32mМы во многие города\u001b[0m , « Тарту » тобының әншісі :\n",
      "Мы были приглашены во многие города Казахстана , но решили , что в первую очередь мы должны выступить с концертами в столице » . \n",
      "\n",
      "маслихат -> маслихата\n",
      "қабылдауына <- .\n",
      "Тоқтағалиев <- сотрудники\n",
      "Аудандық филиалдың қоғамдық қабылдау бөлмесінің қызметкерлері Тоқтағалиев Азаматты аудандық маслихат депутаты Домбаланов Турсынғазының азаматтарды жеке сұрақтарына бойынша қабылдауына тіркеді .\n",
      "Аудандық филиалдың қоғамдық қабылдау бөлмесінің қызметкерлері \u001b[32mсотрудники\u001b[0m Азаматты аудандық \u001b[32mмаслихата\u001b[0m депутаты Домбаланов Турсынғазының азаматтарды жеке сұрақтарына бойынша \u001b[32m.\u001b[0m тіркеді .\n",
      "В этот же день сотрудники общественной приемной записали АзаматаТоктогалиева на прием граждан к депутату районного маслихата Турсынгазы Домбалалову . \n",
      "\n",
      "екеніне -> что\n",
      "экономикалық -> экономической\n",
      "қаңтарында -> января\n",
      "туралы <- о\n",
      "декларацияға <- Декларации\n",
      "Н. <- –\n",
      "Қазақстан Президенті Н. Назарбаев Еуразия экономикалық ықпалдастық туралы декларацияға қол қойылуы Кедендік одақтың табысы , Бірыңғай экономикалық кеңістік үдерісінің 2012 жылдың 1 қаңтарында іс жүзіне енуінің көрінісі , ықпалдасудың келесі сатысына көшудегі міндет – Еуразиялық экономикалық одақтың құрылуы екеніне тоқталып өтті .\n",
      "Қазақстан Президенті \u001b[32m–\u001b[0m Назарбаев Еуразия \u001b[32mэкономической\u001b[0m ықпалдастық \u001b[32mо\u001b[0m \u001b[32mДекларации\u001b[0m қол қойылуы Кедендік одақтың табысы , Бірыңғай экономикалық кеңістік үдерісінің 2012 жылдың 1 \u001b[32mянваря\u001b[0m іс жүзіне енуінің көрінісі , ықпалдасудың келесі сатысына көшудегі міндет – Еуразиялық экономикалық одақтың құрылуы \u001b[32mчто\u001b[0m тоқталып өтті .\n",
      "Нурсултан Назарбаев отметил , что в подписанной Декларации о Евразийской экономической интеграции констатированы успехи Таможенного союза , подтверждены намерения начать с 1 января 2012 года процесс практического формирования Единого экономического пространства , определены задачи по переходу к следующему этапу интеграции – созданию Евразийского экономического союза . \n",
      "\n"
     ]
    }
   ],
   "source": [
    "from random import randrange\n",
    "\n",
    "i = 0\n",
    "j = 301\n",
    "\n",
    "for j in  random.sample(range(1, 50000), 30):\n",
    "    example = train_data_alignments[i][j]\n",
    "    example_src_text, example_tgt_text = train_data[i][0][j], train_data[i][1][j]\n",
    "    \n",
    "    csw_example = generate_csw(example, example_src_text, example_tgt_text, color=True, print_alignment=True)\n",
    "    \n",
    "    \n",
    "    print(example_src_text)\n",
    "    print(csw_example)\n",
    "    print(example_tgt_text, \"\\n\")"
   ]
  },
  {
   "cell_type": "code",
   "execution_count": null,
   "id": "847f0923-e26b-468f-91f7-48ecb7db65ea",
   "metadata": {},
   "outputs": [],
   "source": [
    "53\n",
    "100"
   ]
  },
  {
   "cell_type": "code",
   "execution_count": 237,
   "id": "d3b5ced1-68fe-46b8-8fb3-715df96aea8f",
   "metadata": {},
   "outputs": [
    {
     "data": {
      "text/plain": [
       "{0: [0],\n",
       " 1: [12],\n",
       " 2: [13],\n",
       " 3: [14],\n",
       " 4: [15],\n",
       " 5: [11],\n",
       " 6: [10],\n",
       " 7: [8],\n",
       " 8: [9],\n",
       " 9: [16],\n",
       " 10: [17],\n",
       " 11: [5],\n",
       " 12: [1],\n",
       " 13: [2],\n",
       " 14: [3],\n",
       " 15: [4],\n",
       " 17: [32],\n",
       " 18: [33],\n",
       " 19: [31],\n",
       " 20: [28],\n",
       " 21: [27],\n",
       " 22: [22],\n",
       " 23: [24],\n",
       " 24: [25],\n",
       " 26: [23],\n",
       " 27: [20],\n",
       " 28: [21],\n",
       " 29: [18],\n",
       " 30: [34]}"
      ]
     },
     "execution_count": 237,
     "metadata": {},
     "output_type": "execute_result"
    }
   ],
   "source": [
    "src2tgt_units"
   ]
  },
  {
   "cell_type": "code",
   "execution_count": null,
   "id": "241922f9-03c3-4c3f-b109-ffdb74486aa5",
   "metadata": {},
   "outputs": [],
   "source": []
  },
  {
   "cell_type": "code",
   "execution_count": 214,
   "id": "8e8ce9d1-caec-4fa2-a76c-5b88696f4a44",
   "metadata": {},
   "outputs": [
    {
     "data": {
      "text/plain": [
       "{0: [0],\n",
       " 3: [1, 2],\n",
       " 4: [1],\n",
       " 5: [2],\n",
       " 1: [3, 4],\n",
       " 2: [3, 5],\n",
       " 9: [6],\n",
       " 10: [6],\n",
       " 11: [6],\n",
       " 8: [7],\n",
       " 7: [8],\n",
       " 6: [9, 10, 11],\n",
       " 22: [14],\n",
       " 17: [16],\n",
       " 16: [17],\n",
       " 23: [18]}"
      ]
     },
     "execution_count": 214,
     "metadata": {},
     "output_type": "execute_result"
    }
   ],
   "source": [
    "tgt2src_units"
   ]
  },
  {
   "cell_type": "code",
   "execution_count": 174,
   "id": "a0b1ce2d-cbef-42d8-8ee9-3849260b29ff",
   "metadata": {},
   "outputs": [
    {
     "name": "stdout",
     "output_type": "stream",
     "text": [
      "Қазақстан -> Казахстан\n",
      "әлемдегі -> в\n",
      "дамыған -> наиболее\n",
      "отыз -> тридцати\n",
      "елдің -> стран\n",
      "қатарына -> число\n",
      "үшін -> чтобы\n",
      "жағдай -> любых\n",
      "болса -> при\n",
      "құрылымдық -> Структурные\n",
      "реформалар -> реформы\n",
      "жалғаса -> продолжаться\n",
      "тиіс -> должны\n",
      "» -> »\n",
      ", -> ,\n",
      "- -> -\n",
      "деді -> развитых\n",
      "Қ.Тоқаев -> подчеркнул\n",
      ", -> ,\n"
     ]
    },
    {
     "ename": "IndexError",
     "evalue": "list index out of range",
     "output_type": "error",
     "traceback": [
      "\u001b[0;31m---------------------------------------------------------------------------\u001b[0m",
      "\u001b[0;31mIndexError\u001b[0m                                Traceback (most recent call last)",
      "Cell \u001b[0;32mIn[174], line 4\u001b[0m\n\u001b[1;32m      2\u001b[0m src_index, tgt_index \u001b[38;5;241m=\u001b[39m \u001b[38;5;28mint\u001b[39m(alignment[\u001b[38;5;241m0\u001b[39m]), \u001b[38;5;28mint\u001b[39m(alignment[\u001b[38;5;241m1\u001b[39m])\n\u001b[1;32m      3\u001b[0m \u001b[38;5;28;01mif\u001b[39;00m src_index \u001b[38;5;241m<\u001b[39m \u001b[38;5;28mlen\u001b[39m(example_src_text):\n\u001b[0;32m----> 4\u001b[0m     \u001b[38;5;28mprint\u001b[39m(example_src_text[src_index], \u001b[38;5;124m\"\u001b[39m\u001b[38;5;124m->\u001b[39m\u001b[38;5;124m\"\u001b[39m, \u001b[43mexample_tgt_text\u001b[49m\u001b[43m[\u001b[49m\u001b[43mtgt_index\u001b[49m\u001b[43m]\u001b[49m)\n",
      "\u001b[0;31mIndexError\u001b[0m: list index out of range"
     ]
    }
   ],
   "source": [
    "for i, alignment in enumerate(example_splitted):\n",
    "    src_index, tgt_index = int(alignment[0]), int(alignment[1])\n",
    "    if src_index < len(example_src_text):\n",
    "        print(example_src_text[src_index], \"->\", example_tgt_text[tgt_index])"
   ]
  },
  {
   "cell_type": "code",
   "execution_count": null,
   "id": "441bec75-d5f9-43d5-a1e6-aa92d58ed64d",
   "metadata": {},
   "outputs": [],
   "source": []
  }
 ],
 "metadata": {
  "kernelspec": {
   "display_name": "Python 3 (ipykernel)",
   "language": "python",
   "name": "python3"
  },
  "language_info": {
   "codemirror_mode": {
    "name": "ipython",
    "version": 3
   },
   "file_extension": ".py",
   "mimetype": "text/x-python",
   "name": "python",
   "nbconvert_exporter": "python",
   "pygments_lexer": "ipython3",
   "version": "3.10.13"
  }
 },
 "nbformat": 4,
 "nbformat_minor": 5
}
