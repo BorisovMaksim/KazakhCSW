{
 "cells": [
  {
   "cell_type": "code",
   "execution_count": 1,
   "id": "a8264077-7ab5-4c8a-8592-b09236a01573",
   "metadata": {},
   "outputs": [],
   "source": [
    "from fairseq.models.transformer import TransformerModel\n",
    "from termcolor import colored\n",
    "import os "
   ]
  },
  {
   "cell_type": "code",
   "execution_count": 2,
   "id": "2872b566-a3ec-4115-9eb5-8053033c19f5",
   "metadata": {},
   "outputs": [],
   "source": [
    "\n",
    "model_dir = \"./\"\n",
    "data_dir = \"./fairseq_data/\"\n",
    "checkpoint_file = './checkpoint/m2m/checkpoint_best.pt'"
   ]
  },
  {
   "cell_type": "code",
   "execution_count": 3,
   "id": "01a9b0f6-e107-45e3-a219-ca55f24f3079",
   "metadata": {},
   "outputs": [
    {
     "name": "stderr",
     "output_type": "stream",
     "text": [
      "2024-01-03 20:00:08 | INFO | fairseq.file_utils | loading archive file ./\n",
      "2024-01-03 20:00:19 | INFO | fairseq.data.multilingual.multilingual_data_manager | parsed the language list as they are ordered in the option: ['kk', 'ru']\n",
      "2024-01-03 20:00:19 | INFO | fairseq.data.multilingual.multilingual_data_manager | [kk] dictionary: 48858 types\n",
      "2024-01-03 20:00:19 | INFO | fairseq.data.multilingual.multilingual_data_manager | [ru] dictionary: 48858 types\n",
      "2024-01-03 20:00:37 | INFO | fairseq.models.fairseq_model | {'_name': None, 'common': {'_name': None, 'no_progress_bar': False, 'log_interval': 50, 'log_format': 'simple', 'log_file': None, 'aim_repo': None, 'aim_run_hash': None, 'tensorboard_logdir': None, 'wandb_project': 'kk-ru-csw', 'azureml_logging': False, 'seed': 222, 'cpu': False, 'tpu': False, 'bf16': False, 'memory_efficient_bf16': False, 'fp16': True, 'memory_efficient_fp16': False, 'fp16_no_flatten_grads': False, 'fp16_init_scale': 128, 'fp16_scale_window': None, 'fp16_scale_tolerance': 0.0, 'on_cpu_convert_precision': False, 'min_loss_scale': 0.0001, 'threshold_loss_scale': None, 'amp': False, 'amp_batch_retries': 2, 'amp_init_scale': 128, 'amp_scale_window': None, 'user_dir': None, 'empty_cache_freq': 0, 'all_gather_list_size': 16384, 'model_parallel_size': 1, 'quantization_config_path': None, 'profile': False, 'reset_logging': False, 'suppress_crashes': False, 'use_plasma_view': False, 'plasma_path': '/tmp/plasma'}, 'common_eval': {'_name': None, 'path': None, 'post_process': None, 'quiet': False, 'model_overrides': '{}', 'results_path': None}, 'distributed_training': {'_name': None, 'distributed_world_size': 1, 'distributed_num_procs': 1, 'distributed_rank': 0, 'distributed_backend': 'nccl', 'distributed_init_method': None, 'distributed_port': -1, 'device_id': 0, 'distributed_no_spawn': False, 'ddp_backend': 'no_c10d', 'ddp_comm_hook': 'none', 'bucket_cap_mb': 25, 'fix_batches_to_gpus': False, 'find_unused_parameters': False, 'gradient_as_bucket_view': False, 'fast_stat_sync': False, 'heartbeat_timeout': -1, 'broadcast_buffers': False, 'slowmo_momentum': None, 'slowmo_base_algorithm': 'localsgd', 'localsgd_frequency': 3, 'nprocs_per_node': 1, 'pipeline_model_parallel': False, 'pipeline_balance': None, 'pipeline_devices': None, 'pipeline_chunks': 0, 'pipeline_encoder_balance': None, 'pipeline_encoder_devices': None, 'pipeline_decoder_balance': None, 'pipeline_decoder_devices': None, 'pipeline_checkpoint': 'never', 'zero_sharding': 'none', 'fp16': True, 'memory_efficient_fp16': False, 'tpu': False, 'no_reshard_after_forward': False, 'fp32_reduce_scatter': False, 'cpu_offload': False, 'use_sharded_state': False, 'not_fsdp_flatten_parameters': False}, 'dataset': {'_name': None, 'num_workers': 1, 'skip_invalid_size_inputs_valid_test': False, 'max_tokens': 1800, 'batch_size': None, 'required_batch_size_multiple': 8, 'required_seq_len_multiple': 1, 'dataset_impl': None, 'data_buffer_size': 10, 'train_subset': 'train', 'valid_subset': 'test3', 'combine_valid_subsets': None, 'ignore_unused_valid_subsets': False, 'validate_interval': 1, 'validate_interval_updates': 0, 'validate_after_updates': 0, 'fixed_validation_seed': None, 'disable_validation': False, 'max_tokens_valid': 1800, 'batch_size_valid': None, 'max_valid_steps': None, 'curriculum': 0, 'gen_subset': 'test', 'num_shards': 1, 'shard_id': 0, 'grouped_shuffling': False, 'update_epoch_batch_itr': False, 'update_ordered_indices_seed': False}, 'optimization': {'_name': None, 'max_epoch': 0, 'max_update': 983680, 'stop_time_hours': 0.0, 'clip_norm': 0.0, 'sentence_avg': False, 'update_freq': [1], 'lr': [3e-05], 'stop_min_lr': -1.0, 'use_bmuf': False, 'skip_remainder_batch': False, 'debug_param_names': False}, 'checkpoint': {'_name': None, 'save_dir': './checkpoint/m2m/', 'restore_file': 'checkpoint_last.pt', 'continue_once': None, 'finetune_from_model': None, 'reset_dataloader': False, 'reset_lr_scheduler': False, 'reset_meters': False, 'reset_optimizer': False, 'optimizer_overrides': '{}', 'save_interval': 1, 'save_interval_updates': 0, 'keep_interval_updates': -1, 'keep_interval_updates_pattern': -1, 'keep_last_epochs': -1, 'keep_best_checkpoints': -1, 'no_save': False, 'no_epoch_checkpoints': True, 'no_last_checkpoints': True, 'no_save_optimizer_state': False, 'best_checkpoint_metric': 'loss', 'maximize_best_checkpoint_metric': False, 'patience': 10, 'checkpoint_suffix': '', 'checkpoint_shard_count': 1, 'load_checkpoint_on_all_dp_ranks': False, 'write_checkpoints_asynchronously': False, 'model_parallel_size': 1}, 'bmuf': {'_name': None, 'block_lr': 1.0, 'block_momentum': 0.875, 'global_sync_iter': 50, 'warmup_iterations': 500, 'use_nbm': False, 'average_sync': False, 'distributed_world_size': 1}, 'generation': {'_name': None, 'beam': 5, 'beam_mt': 0, 'nbest': 1, 'max_len_a': 0.0, 'max_len_b': 200, 'max_len_a_mt': 0.0, 'max_len_b_mt': 200, 'min_len': 1, 'match_source_len': False, 'unnormalized': False, 'no_early_stop': False, 'no_beamable_mm': False, 'lenpen': 1.0, 'lenpen_mt': 1.0, 'unkpen': 0.0, 'replace_unk': None, 'sacrebleu': False, 'score_reference': False, 'prefix_size': 0, 'no_repeat_ngram_size': 0, 'sampling': False, 'sampling_topk': -1, 'sampling_topp': -1.0, 'constraints': None, 'temperature': 1.0, 'diverse_beam_groups': -1, 'diverse_beam_strength': 0.5, 'diversity_rate': -1.0, 'print_alignment': None, 'print_step': False, 'lm_path': None, 'lm_weight': 0.0, 'iter_decode_eos_penalty': 0.0, 'iter_decode_max_iter': 10, 'iter_decode_force_max_iter': False, 'iter_decode_with_beam': 1, 'iter_decode_with_external_reranker': False, 'retain_iter_history': False, 'retain_dropout': False, 'retain_dropout_modules': None, 'decoding_format': None, 'no_seed_provided': False, 'eos_token': None}, 'eval_lm': {'_name': None, 'output_word_probs': False, 'output_word_stats': False, 'context_window': 0, 'softmax_batch': 9223372036854775807}, 'interactive': {'_name': None, 'buffer_size': 0, 'input': '-'}, 'model': Namespace(no_progress_bar=False, log_interval=50, log_format='simple', log_file=None, aim_repo=None, aim_run_hash=None, tensorboard_logdir=None, wandb_project='kk-ru-csw', azureml_logging=False, seed=222, cpu=False, tpu=False, bf16=False, memory_efficient_bf16=False, fp16=True, memory_efficient_fp16=False, fp16_no_flatten_grads=False, fp16_init_scale=128, fp16_scale_window=None, fp16_scale_tolerance=0.0, on_cpu_convert_precision=False, min_loss_scale=0.0001, threshold_loss_scale=None, amp=False, amp_batch_retries=2, amp_init_scale=128, amp_scale_window=None, user_dir=None, empty_cache_freq=0, all_gather_list_size=16384, model_parallel_size=1, quantization_config_path=None, profile=False, reset_logging=False, suppress_crashes=False, use_plasma_view=False, plasma_path='/tmp/plasma', criterion='label_smoothed_cross_entropy', tokenizer=None, bpe='sentencepiece', optimizer='adam', lr_scheduler='inverse_sqrt', scoring='bleu', task='translation_multi_simple_epoch', num_workers=1, skip_invalid_size_inputs_valid_test=False, max_tokens=1800, batch_size=None, required_batch_size_multiple=8, required_seq_len_multiple=1, dataset_impl=None, data_buffer_size=10, train_subset='train', valid_subset='test3', combine_valid_subsets=None, ignore_unused_valid_subsets=False, validate_interval=1, validate_interval_updates=0, validate_after_updates=0, fixed_validation_seed=None, disable_validation=False, max_tokens_valid=1800, batch_size_valid=None, max_valid_steps=None, curriculum=0, gen_subset='test', num_shards=1, shard_id=0, grouped_shuffling=False, update_epoch_batch_itr=False, update_ordered_indices_seed=False, distributed_world_size=1, distributed_num_procs=1, distributed_rank=0, distributed_backend='nccl', distributed_init_method=None, distributed_port=-1, device_id=0, distributed_no_spawn=False, ddp_backend='no_c10d', ddp_comm_hook='none', bucket_cap_mb=25, fix_batches_to_gpus=False, find_unused_parameters=False, gradient_as_bucket_view=False, fast_stat_sync=False, heartbeat_timeout=-1, broadcast_buffers=False, slowmo_momentum=None, slowmo_base_algorithm='localsgd', localsgd_frequency=3, nprocs_per_node=1, pipeline_model_parallel=False, pipeline_balance=None, pipeline_devices=None, pipeline_chunks=0, pipeline_encoder_balance=None, pipeline_encoder_devices=None, pipeline_decoder_balance=None, pipeline_decoder_devices=None, pipeline_checkpoint='never', zero_sharding='none', no_reshard_after_forward=False, fp32_reduce_scatter=False, cpu_offload=False, use_sharded_state=False, not_fsdp_flatten_parameters=False, arch='transformer_wmt_en_de_big', max_epoch=0, max_update=983680, stop_time_hours=0, clip_norm=0.0, sentence_avg=False, update_freq=[1], lr=[3e-05], stop_min_lr=-1.0, use_bmuf=False, skip_remainder_batch=False, debug_param_names=False, save_dir='./checkpoint/m2m/', restore_file='checkpoint_last.pt', continue_once=None, finetune_from_model=None, reset_dataloader=False, reset_lr_scheduler=False, reset_meters=False, reset_optimizer=False, optimizer_overrides='{}', save_interval=1, save_interval_updates=0, keep_interval_updates=-1, keep_interval_updates_pattern=-1, keep_last_epochs=-1, keep_best_checkpoints=-1, no_save=False, no_epoch_checkpoints=True, no_last_checkpoints=True, no_save_optimizer_state=False, best_checkpoint_metric='loss', maximize_best_checkpoint_metric=False, patience=10, checkpoint_suffix='', checkpoint_shard_count=1, load_checkpoint_on_all_dp_ranks=False, write_checkpoints_asynchronously=False, store_ema=False, ema_decay=0.9999, ema_start_update=0, ema_seed_model=None, ema_update_freq=1, ema_fp32=False, source_lang=None, target_lang=None, lang_pairs='kk-ru', keep_inference_langtok=False, sampling_method='temperature', sampling_temperature=1.5, data='/home/itmo/Projects/KazakhCSW/experiments/exp_bigger_transformer_all_data_cs-4/fairseq_data', langs=['kk', 'ru'], lang_dict=None, source_dict=None, target_dict=None, lang_tok_style='multilingual', load_alignments=False, left_pad_source='True', left_pad_target='False', upsample_primary=1, truncate_source=False, encoder_langtok='src', decoder_langtok=True, lang_tok_replacing_bos_eos=False, enable_lang_ids=False, enable_reservsed_directions_shared_datasets=False, extra_data=None, extra_lang_pairs=None, fixed_dictionary=None, langtoks_specs=['main'], langtoks=None, sampling_weights_from_file=None, sampling_weights=None, virtual_epoch_size=None, virtual_data_size=None, label_smoothing=0.2, report_accuracy=False, ignore_prefix_size=0, adam_betas='(0.9, 0.98)', adam_eps=1e-06, weight_decay=0.0, use_old_adam=False, fp16_adam_stats=False, warmup_updates=2500, warmup_init_lr=-1, pad=1, eos=2, unk=3, encoder_normalize_before=True, decoder_normalize_before=True, dropout=0.3, attention_dropout=0.1, encoder_layers=24, decoder_layers=24, encoder_ffn_embed_dim=8192, decoder_ffn_embed_dim=8192, encoder_layerdrop=0.05, decoder_layerdrop=0.05, share_decoder_input_output_embed=True, share_all_embeddings=True, no_seed_provided=False, encoder_embed_dim=1024, encoder_attention_heads=16, decoder_embed_dim=1024, decoder_attention_heads=16, encoder_embed_path=None, encoder_learned_pos=False, decoder_embed_path=None, decoder_learned_pos=False, activation_dropout=0.0, activation_fn='relu', adaptive_softmax_cutoff=None, adaptive_softmax_dropout=0, merge_src_tgt_embed=False, no_token_positional_embeddings=False, adaptive_input=False, no_cross_attention=False, cross_self_attention=False, decoder_output_dim=1024, decoder_input_dim=1024, no_scale_embedding=False, layernorm_embedding=False, tie_adaptive_weights=False, checkpoint_activations=False, offload_activations=False, encoder_layers_to_keep=None, decoder_layers_to_keep=None, quant_noise_pq=0, quant_noise_pq_block_size=8, quant_noise_scalar=0, _name='transformer_wmt_en_de_big', max_source_positions=1024, max_target_positions=1024, sentencepiece_model='./spm.model'), 'task': Namespace(no_progress_bar=False, log_interval=50, log_format='simple', log_file=None, aim_repo=None, aim_run_hash=None, tensorboard_logdir=None, wandb_project='kk-ru-csw', azureml_logging=False, seed=222, cpu=False, tpu=False, bf16=False, memory_efficient_bf16=False, fp16=True, memory_efficient_fp16=False, fp16_no_flatten_grads=False, fp16_init_scale=128, fp16_scale_window=None, fp16_scale_tolerance=0.0, on_cpu_convert_precision=False, min_loss_scale=0.0001, threshold_loss_scale=None, amp=False, amp_batch_retries=2, amp_init_scale=128, amp_scale_window=None, user_dir=None, empty_cache_freq=0, all_gather_list_size=16384, model_parallel_size=1, quantization_config_path=None, profile=False, reset_logging=False, suppress_crashes=False, use_plasma_view=False, plasma_path='/tmp/plasma', criterion='label_smoothed_cross_entropy', tokenizer=None, bpe='sentencepiece', optimizer='adam', lr_scheduler='inverse_sqrt', scoring='bleu', task='translation_multi_simple_epoch', num_workers=1, skip_invalid_size_inputs_valid_test=False, max_tokens=1800, batch_size=None, required_batch_size_multiple=8, required_seq_len_multiple=1, dataset_impl=None, data_buffer_size=10, train_subset='train', valid_subset='test3', combine_valid_subsets=None, ignore_unused_valid_subsets=False, validate_interval=1, validate_interval_updates=0, validate_after_updates=0, fixed_validation_seed=None, disable_validation=False, max_tokens_valid=1800, batch_size_valid=None, max_valid_steps=None, curriculum=0, gen_subset='test', num_shards=1, shard_id=0, grouped_shuffling=False, update_epoch_batch_itr=False, update_ordered_indices_seed=False, distributed_world_size=1, distributed_num_procs=1, distributed_rank=0, distributed_backend='nccl', distributed_init_method=None, distributed_port=-1, device_id=0, distributed_no_spawn=False, ddp_backend='no_c10d', ddp_comm_hook='none', bucket_cap_mb=25, fix_batches_to_gpus=False, find_unused_parameters=False, gradient_as_bucket_view=False, fast_stat_sync=False, heartbeat_timeout=-1, broadcast_buffers=False, slowmo_momentum=None, slowmo_base_algorithm='localsgd', localsgd_frequency=3, nprocs_per_node=1, pipeline_model_parallel=False, pipeline_balance=None, pipeline_devices=None, pipeline_chunks=0, pipeline_encoder_balance=None, pipeline_encoder_devices=None, pipeline_decoder_balance=None, pipeline_decoder_devices=None, pipeline_checkpoint='never', zero_sharding='none', no_reshard_after_forward=False, fp32_reduce_scatter=False, cpu_offload=False, use_sharded_state=False, not_fsdp_flatten_parameters=False, arch='transformer_wmt_en_de_big', max_epoch=0, max_update=983680, stop_time_hours=0, clip_norm=0.0, sentence_avg=False, update_freq=[1], lr=[3e-05], stop_min_lr=-1.0, use_bmuf=False, skip_remainder_batch=False, debug_param_names=False, save_dir='./checkpoint/m2m/', restore_file='checkpoint_last.pt', continue_once=None, finetune_from_model=None, reset_dataloader=False, reset_lr_scheduler=False, reset_meters=False, reset_optimizer=False, optimizer_overrides='{}', save_interval=1, save_interval_updates=0, keep_interval_updates=-1, keep_interval_updates_pattern=-1, keep_last_epochs=-1, keep_best_checkpoints=-1, no_save=False, no_epoch_checkpoints=True, no_last_checkpoints=True, no_save_optimizer_state=False, best_checkpoint_metric='loss', maximize_best_checkpoint_metric=False, patience=10, checkpoint_suffix='', checkpoint_shard_count=1, load_checkpoint_on_all_dp_ranks=False, write_checkpoints_asynchronously=False, store_ema=False, ema_decay=0.9999, ema_start_update=0, ema_seed_model=None, ema_update_freq=1, ema_fp32=False, source_lang=None, target_lang=None, lang_pairs=['kk-ru'], keep_inference_langtok=False, sampling_method='temperature', sampling_temperature=1.5, data='/home/itmo/Projects/KazakhCSW/experiments/exp_bigger_transformer_all_data_cs-4/fairseq_data', langs=['kk', 'ru'], lang_dict=None, source_dict=None, target_dict=None, lang_tok_style='multilingual', load_alignments=False, left_pad_source=False, left_pad_target=False, upsample_primary=1, truncate_source=False, encoder_langtok='src', decoder_langtok=True, lang_tok_replacing_bos_eos=False, enable_lang_ids=False, enable_reservsed_directions_shared_datasets=False, extra_data=None, extra_lang_pairs=None, fixed_dictionary=None, langtoks_specs=['main'], langtoks={'main': ('src', 'tgt')}, sampling_weights_from_file=None, sampling_weights=None, virtual_epoch_size=None, virtual_data_size=None, label_smoothing=0.2, report_accuracy=False, ignore_prefix_size=0, adam_betas='(0.9, 0.98)', adam_eps=1e-06, weight_decay=0.0, use_old_adam=False, fp16_adam_stats=False, warmup_updates=2500, warmup_init_lr=-1, pad=1, eos=2, unk=3, encoder_normalize_before=True, decoder_normalize_before=True, dropout=0.3, attention_dropout=0.1, encoder_layers=24, decoder_layers=24, encoder_ffn_embed_dim=8192, decoder_ffn_embed_dim=8192, encoder_layerdrop=0.05, decoder_layerdrop=0.05, share_decoder_input_output_embed=True, share_all_embeddings=True, no_seed_provided=False, encoder_embed_dim=1024, encoder_attention_heads=16, decoder_embed_dim=1024, decoder_attention_heads=16, encoder_embed_path=None, encoder_learned_pos=False, decoder_embed_path=None, decoder_learned_pos=False, activation_dropout=0.0, activation_fn='relu', adaptive_softmax_cutoff=None, adaptive_softmax_dropout=0, merge_src_tgt_embed=False, no_token_positional_embeddings=False, adaptive_input=False, no_cross_attention=False, cross_self_attention=False, decoder_output_dim=1024, decoder_input_dim=1024, no_scale_embedding=False, layernorm_embedding=False, tie_adaptive_weights=False, checkpoint_activations=False, offload_activations=False, encoder_layers_to_keep=None, decoder_layers_to_keep=None, quant_noise_pq=0, quant_noise_pq_block_size=8, quant_noise_scalar=0, max_source_positions=1024, max_target_positions=1024, _name='translation_multi_simple_epoch', shuffle_instance=False, sentencepiece_model='./spm.model'), 'criterion': {'_name': 'label_smoothed_cross_entropy', 'label_smoothing': 0.2, 'report_accuracy': False, 'ignore_prefix_size': 0, 'sentence_avg': False}, 'optimizer': {'_name': 'adam', 'adam_betas': '(0.9, 0.98)', 'adam_eps': 1e-06, 'weight_decay': 0.0, 'use_old_adam': False, 'fp16_adam_stats': False, 'tpu': False, 'lr': [3e-05]}, 'lr_scheduler': {'_name': 'inverse_sqrt', 'warmup_updates': 2500, 'warmup_init_lr': -1.0, 'lr': [3e-05]}, 'scoring': {'_name': 'bleu', 'pad': 1, 'eos': 2, 'unk': 3}, 'bpe': {'_name': 'sentencepiece', 'sentencepiece_model': './spm.model', 'sentencepiece_enable_sampling': False, 'sentencepiece_alpha': None}, 'tokenizer': None, 'ema': {'_name': None, 'store_ema': False, 'ema_decay': 0.9999, 'ema_start_update': 0, 'ema_seed_model': None, 'ema_update_freq': 1, 'ema_fp32': False}}\n",
      "2024-01-03 20:00:38 | INFO | fairseq.tasks.translation_multi_simple_epoch | loading data for train epoch=1/None\n",
      "2024-01-03 20:00:38 | INFO | fairseq.tasks.translation_multi_simple_epoch | mem usage: used=27082.3203125Mb; avail=372389.67578125Mb\n",
      "2024-01-03 20:00:38 | INFO | fairseq.data.multilingual.multilingual_data_manager | langtoks settings: {'main': ('src', 'tgt')}\n",
      "2024-01-03 20:00:38 | INFO | fairseq.data.multilingual.multilingual_data_manager | [train] num of shards: {'main:kk-ru': 1}\n",
      "2024-01-03 20:00:38 | INFO | fairseq.data.multilingual.multilingual_data_manager | main:kk-ru src_langtok: 48856; tgt_langtok: 48857\n",
      "2024-01-03 20:00:39 | INFO | fairseq.data.data_utils | loaded 14,920,505 examples from: /home/itmo/Projects/KazakhCSW/experiments/exp_bigger_transformer_all_data_cs-4/fairseq_data/train.kk-ru.kk\n",
      "2024-01-03 20:00:40 | INFO | fairseq.data.data_utils | loaded 14,920,505 examples from: /home/itmo/Projects/KazakhCSW/experiments/exp_bigger_transformer_all_data_cs-4/fairseq_data/train.kk-ru.ru\n",
      "2024-01-03 20:00:40 | INFO | fairseq.data.multilingual.multilingual_data_manager | /home/itmo/Projects/KazakhCSW/experiments/exp_bigger_transformer_all_data_cs-4/fairseq_data train kk-ru 14920505 examples\n",
      "2024-01-03 20:00:40 | INFO | fairseq.data.multilingual.multilingual_data_manager | estimated total data sizes of all shards used in sampling ratios: [('main:kk-ru', 14920505)]. Note that if the data a shard has not been loaded yet, use the max known data size to approximate\n",
      "2024-01-03 20:00:40 | INFO | fairseq.data.multilingual.sampling_method | selected sampler: temperature\n",
      "2024-01-03 20:00:40 | INFO | fairseq.data.multilingual.multilingual_data_manager | | Upsample ratios: [('main:kk-ru', 1.0)]\n",
      "2024-01-03 20:00:42 | INFO | fairseq.data.multilingual.sampled_multi_dataset | [train] Raw sizes: {'main:kk-ru': 14920505}; raw total size: 14920505\n",
      "2024-01-03 20:00:42 | INFO | fairseq.data.multilingual.sampled_multi_dataset | [train] Resampled sizes: {'main:kk-ru': 14920505}; resampled total size: 14920505\n",
      "2024-01-03 20:00:42 | INFO | fairseq.data.multilingual.sampled_multi_dataset | [train] Upsampling ratios: {'main:kk-ru': 1.0}\n",
      "2024-01-03 20:00:42 | INFO | fairseq.data.multilingual.sampled_multi_dataset | [train] virtual dataset established time: 0:00:01.497076\n"
     ]
    }
   ],
   "source": [
    "\n",
    "\n",
    "model = TransformerModel.from_pretrained(\n",
    "    model_dir,\n",
    "    checkpoint_file=checkpoint_file,\n",
    "    data_name_or_path=data_dir,\n",
    "    bpe='sentencepiece', \n",
    "    sentencepiece_model='./spm.model'\n",
    ")\n",
    "model.task.load_dataset('train')\n",
    "data_bin = model.task.datasets['train']"
   ]
  },
  {
   "cell_type": "code",
   "execution_count": 4,
   "id": "dd2bac44-56d8-40ba-aa65-a51e28410258",
   "metadata": {},
   "outputs": [],
   "source": [
    "src_data = data_bin.datasets[0].src.dataset\n",
    "tgt_data = data_bin.datasets[0].tgt.dataset"
   ]
  },
  {
   "cell_type": "code",
   "execution_count": 5,
   "id": "1ca858be-ab05-4b0f-88f1-2bb1ec0188c2",
   "metadata": {},
   "outputs": [],
   "source": [
    "all_src_data = list(src_data)"
   ]
  },
  {
   "cell_type": "code",
   "execution_count": 14,
   "id": "88510a6a-2cf9-4430-97e9-237ec1a4440d",
   "metadata": {},
   "outputs": [],
   "source": [
    "all_tgt_data = list(tgt_data)"
   ]
  },
  {
   "cell_type": "code",
   "execution_count": 6,
   "id": "0e8dc70b-21ff-4f1a-910d-6ffe9afc8ad4",
   "metadata": {},
   "outputs": [],
   "source": [
    "# import numpy as np\n",
    "# all_src_data = np.array(all_src_data)"
   ]
  },
  {
   "cell_type": "code",
   "execution_count": 7,
   "id": "5e7b9f1e-1da7-4cf0-a452-381b7ff3aa6f",
   "metadata": {},
   "outputs": [
    {
     "data": {
      "text/plain": [
       "14920505"
      ]
     },
     "execution_count": 7,
     "metadata": {},
     "output_type": "execute_result"
    }
   ],
   "source": [
    "len(all_src_data)"
   ]
  },
  {
   "cell_type": "code",
   "execution_count": 8,
   "id": "5e624e1c-9d87-44ac-b709-be3108a87e7a",
   "metadata": {},
   "outputs": [],
   "source": [
    "from tqdm import tqdm\n",
    "\n",
    "model.eval()\n",
    "model = model.cuda(1)"
   ]
  },
  {
   "cell_type": "code",
   "execution_count": 13,
   "id": "93bb8751-78df-4dc9-a1ff-80fd903ba1f4",
   "metadata": {},
   "outputs": [
    {
     "data": {
      "text/plain": [
       "'« Меня алыстағы ауыл глубинки ретінде как акима дағдарысқа қарсы Ұлт жоспарын орындауда « Қазақстан - 2050 » Стратегиясын жүзеге асыру бағыты бойынша айтқан сөздері қатты әсер етті .'"
      ]
     },
     "execution_count": 13,
     "metadata": {},
     "output_type": "execute_result"
    }
   ],
   "source": [
    "model.decode(all_src_data[2])"
   ]
  },
  {
   "cell_type": "code",
   "execution_count": null,
   "id": "b459d4ca-96f1-4468-a6e2-5c79b10a5833",
   "metadata": {},
   "outputs": [],
   "source": []
  },
  {
   "cell_type": "code",
   "execution_count": null,
   "id": "8ab510b4-3908-499d-aa6c-c708892bc0ca",
   "metadata": {},
   "outputs": [],
   "source": [
    "all_src_data_unique = np.unique(all_src_data)"
   ]
  },
  {
   "cell_type": "code",
   "execution_count": null,
   "id": "34336bca-56fc-430b-8788-b792581ef101",
   "metadata": {},
   "outputs": [],
   "source": [
    "len(all_src_data) - len(all_src_data_unique)"
   ]
  },
  {
   "cell_type": "code",
   "execution_count": null,
   "id": "aae5b5bf-ecfc-4098-bd07-349b0aaf5d38",
   "metadata": {},
   "outputs": [],
   "source": [
    "len(all_src_data_unique)  / len(all_src_data) * 100 "
   ]
  },
  {
   "cell_type": "code",
   "execution_count": null,
   "id": "75bac0ed-f44d-429a-982e-d0f89177d045",
   "metadata": {},
   "outputs": [],
   "source": []
  },
  {
   "cell_type": "code",
   "execution_count": null,
   "id": "5c496c19-e7f0-4868-8968-aedc1488fb2d",
   "metadata": {},
   "outputs": [],
   "source": []
  },
  {
   "cell_type": "code",
   "execution_count": 16,
   "id": "68c32d40-18f0-47a9-85e9-c2bccd8ccbe5",
   "metadata": {},
   "outputs": [
    {
     "name": "stderr",
     "output_type": "stream",
     "text": [
      "  0%|                                                                                                                    | 275/14920505 [00:00<3:00:48, 1375.36it/s]"
     ]
    },
    {
     "name": "stdout",
     "output_type": "stream",
     "text": [
      "« 1 января бастап біздің государства Еуразиялық экономикалық одақ аясында ықпалдасатын болады .\n",
      "« С 1 января наши государства будут взаимодействовать в рамках Евразийского экономического союза . \n",
      "\n"
     ]
    },
    {
     "name": "stderr",
     "output_type": "stream",
     "text": [
      "  1%|▊                                                                                                                | 100202/14920505 [01:15<3:13:40, 1275.36it/s]"
     ]
    },
    {
     "name": "stdout",
     "output_type": "stream",
     "text": [
      "Гүлшара Әбдіқалықова современных жағдайдағы әйелдер рөлінің многогранность на олардың жан-жақты дамуы мен жасампаздық әлеуетін Также асыру үшін жағдай жасау қажеттігіне назар аударды .\n",
      "Также Г.Абдыкаликова обратила внимание на многогранность роли женщин в современных условиях и необходимость создания условий для их всестороннего развития и реализации созидательного потенциала . \n",
      "\n"
     ]
    },
    {
     "name": "stderr",
     "output_type": "stream",
     "text": [
      "  1%|█▌                                                                                                               | 200212/14920505 [02:38<3:10:38, 1286.96it/s]"
     ]
    },
    {
     "name": "stdout",
     "output_type": "stream",
     "text": [
      "Жеке прививаем отандық өнімді ғана тұтынамын .\n",
      "Мы прививаем людям чувство патриотизма . \n",
      "\n"
     ]
    },
    {
     "name": "stderr",
     "output_type": "stream",
     "text": [
      "  2%|██▎                                                                                                              | 300212/14920505 [03:57<3:09:16, 1287.38it/s]"
     ]
    },
    {
     "name": "stdout",
     "output_type": "stream",
     "text": [
      "Ең Первое – бұл земли оформление мен барлық мәліметтерді халықаралық көрме бюросына предоставить , екінші должны бұл біздің негізгі мақсатымыз – тіркеу досьесін қорғау , бұл біз атқаратын жұмыстың негізгі қағидасы .\n",
      "Первое – это оформление земли , которое мы должны предоставить Международному бюро выставок , все данные , Вторая основная наша задача – защитить регистрационное досье , это основное положение деятельности , что мы сбираемся делать . \n",
      "\n"
     ]
    },
    {
     "name": "stderr",
     "output_type": "stream",
     "text": [
      "  3%|███                                                                                                              | 400131/14920505 [05:17<3:12:33, 1256.80it/s]"
     ]
    },
    {
     "name": "stdout",
     "output_type": "stream",
     "text": [
      "Н.Назарбаев басшысы : Жәрдемақы көлемі әр отбасының табысына зависимости бекітіледі ( ФОТО )\n",
      "Н.Назарбаев : Размеры пособий будут назначаться в зависимости от уровня дохода каждой семьи ( ФОТО ) \n",
      "\n"
     ]
    },
    {
     "name": "stderr",
     "output_type": "stream",
     "text": [
      "  3%|███▊                                                                                                             | 500210/14920505 [06:40<3:20:20, 1199.60it/s]"
     ]
    },
    {
     "name": "stdout",
     "output_type": "stream",
     "text": [
      "Ішімдік ішкен и мас напитков напитков орындарда жүрген 2 мыңға жуық адам әкімшілік ответственности К , Тыйым салынған жерлерде темекі шеккені үшін 800-ге жуық адамға қатысты әкімшілік хаттамалар толтырылды .\n",
      "К административной ответственности за распитие алкогольных напитков и появление в пьяном виде привлекли около 2 тысяч граждан , за курение в неустановленных местах в отношении почти 800 человек были составлены административные протоколы . \n",
      "\n"
     ]
    },
    {
     "name": "stderr",
     "output_type": "stream",
     "text": [
      "  4%|████▌                                                                                                            | 600172/14920505 [08:02<3:08:35, 1265.50it/s]"
     ]
    },
    {
     "name": "stdout",
     "output_type": "stream",
     "text": [
      "Қазақ тілін республика аумағында және одан тысқары жерлерде ілгерілетуге бағытталған общественных бастамаларды стимулировании , соның ішінде жобаларға демеушілік жасау арқылы қолдау қордың негізгі задача заключается .\n",
      "Ключевая задача фонда заключается в стимулировании и поддержке общественных инициатив , в том числе путем спонсирования проектов , направленных на продвижение казахского языка как на территории республики , так и за ее пределами . \n",
      "\n"
     ]
    },
    {
     "name": "stderr",
     "output_type": "stream",
     "text": [
      "  5%|█████▎                                                                                                           | 700174/14920505 [09:23<3:11:23, 1238.29it/s]"
     ]
    },
    {
     "name": "stdout",
     "output_type": "stream",
     "text": [
      "« Әңгімелесу барысында В Назарбаев и Владимир Путин екіжақты ынтымақтастықтың өзекті мәселелерін және желтоқсанның аяғында Жоғары Еуразиялық экономикалық кеңес аясында Мәскеуде өтетін алдағы жоғары деңгейдегі кездесудің жайын обсудили » , - делінген хабарламада .\n",
      "« В ходе беседы Нурсултан Назарбаев и Владимир Путин обсудили актуальные вопросы двустороннего сотрудничества и предстоящую в конце декабря встречу в верхах в Москве в рамках Высшего Евразийского экономического совета » , – говорится в сообщении . \n",
      "\n"
     ]
    },
    {
     "name": "stderr",
     "output_type": "stream",
     "text": [
      "  5%|██████                                                                                                           | 800119/14920505 [10:45<3:10:49, 1233.31it/s]"
     ]
    },
    {
     "name": "stdout",
     "output_type": "stream",
     "text": [
      "Бір Группой ғалым ежелгі дәуірден бастап Тәуелсіздік алғанға дейінгі аралықтағы ұлттық тарихты по , сондай-ақ Қазақстанның жаңа тарихына арналған учебников подготовке жұмысын бастады .\n",
      "Группой ученых начата работа по подготовке базовых учебников по национальной истории с древнейших времен до обретения Независимости , а также по новейшей истории Казахстана . \n",
      "\n"
     ]
    },
    {
     "name": "stderr",
     "output_type": "stream",
     "text": [
      "  6%|██████▊                                                                                                          | 900153/14920505 [12:07<3:16:42, 1187.95it/s]"
     ]
    },
    {
     "name": "stdout",
     "output_type": "stream",
     "text": [
      "23.04.2015 Павлодар облысының әкімі Канат Бозымбаев ерлер командалары арасында шайбалы хоккей бойынша өткен Қазақстан чемпионатында победой победой жеткізген павлодарлық спортшыларды құттықтады , деп хабарлайды Перейти тілшісі . өту » »\n",
      "Перейти » » 23.04.2015 Канат Бозумбаев поздравил хоккеистов с победой на чемпионате Казахстана по хоккею с шайбой , передает корреспондент pavlodarnews.kz . Перейти » » \n",
      "\n"
     ]
    },
    {
     "name": "stderr",
     "output_type": "stream",
     "text": [
      "  7%|███████▌                                                                                                        | 1000315/14920505 [12:46<1:17:05, 3009.54it/s]"
     ]
    },
    {
     "name": "stdout",
     "output_type": "stream",
     "text": [
      "более\n",
      "более \n",
      "\n"
     ]
    },
    {
     "name": "stderr",
     "output_type": "stream",
     "text": [
      "  7%|████████▎                                                                                                       | 1100482/14920505 [13:17<1:09:55, 3293.65it/s]"
     ]
    },
    {
     "name": "stdout",
     "output_type": "stream",
     "text": [
      "« Самал-2\n",
      "АО « БТА Банк» \n",
      "\n"
     ]
    },
    {
     "name": "stderr",
     "output_type": "stream",
     "text": [
      "  8%|█████████                                                                                                       | 1200256/14920505 [13:53<1:49:58, 2079.42it/s]"
     ]
    },
    {
     "name": "stdout",
     "output_type": "stream",
     "text": [
      "ДМК WPC 6007-3\n",
      "WPC кат 6007-3 \n",
      "\n"
     ]
    },
    {
     "name": "stderr",
     "output_type": "stream",
     "text": [
      "  9%|█████████▊                                                                                                      | 1300446/14920505 [14:32<1:07:58, 3339.69it/s]"
     ]
    },
    {
     "name": "stdout",
     "output_type": "stream",
     "text": [
      "События\n",
      "События \n",
      "\n"
     ]
    },
    {
     "name": "stderr",
     "output_type": "stream",
     "text": [
      "  9%|██████████▌                                                                                                     | 1400647/14920505 [15:03<1:08:11, 3304.65it/s]"
     ]
    },
    {
     "name": "stdout",
     "output_type": "stream",
     "text": [
      "БАЛЕАРЕС\n",
      "БАЛЕАРЕС \n",
      "\n"
     ]
    },
    {
     "name": "stderr",
     "output_type": "stream",
     "text": [
      " 10%|███████████▎                                                                                                    | 1500494/14920505 [15:34<1:14:08, 3016.98it/s]"
     ]
    },
    {
     "name": "stdout",
     "output_type": "stream",
     "text": [
      "Главная\n",
      "Главная \n",
      "\n"
     ]
    },
    {
     "name": "stderr",
     "output_type": "stream",
     "text": [
      " 11%|████████████                                                                                                    | 1600533/14920505 [16:05<1:08:57, 3219.39it/s]"
     ]
    },
    {
     "name": "stdout",
     "output_type": "stream",
     "text": [
      "Біз, Мехмет Дүрсүн, сіздің Бюро ваши адвокат ретінде шешіп, болашақ проблемаларды алдын аласыз.\n",
      "Мы, Адвокатское Бюро Мехмет Дурсуна, решим ваши юридические проблемы и предотвратим возможные юридические будущие проблемы. \n",
      "\n"
     ]
    },
    {
     "name": "stderr",
     "output_type": "stream",
     "text": [
      " 11%|████████████▊                                                                                                   | 1700549/14920505 [16:36<1:09:06, 3188.54it/s]"
     ]
    },
    {
     "name": "stdout",
     "output_type": "stream",
     "text": [
      "фотоаппарат\n",
      "фотоаппарат \n",
      "\n"
     ]
    },
    {
     "name": "stderr",
     "output_type": "stream",
     "text": [
      " 12%|█████████████▌                                                                                                  | 1800432/14920505 [17:07<1:06:08, 3305.65it/s]"
     ]
    },
    {
     "name": "stdout",
     "output_type": "stream",
     "text": [
      "Жеке Boeing 727-31 FSX & &\n",
      "Пакет ATR 42-500 & 72-500 FSX & P3D \n",
      "\n"
     ]
    },
    {
     "name": "stderr",
     "output_type": "stream",
     "text": [
      " 13%|██████████████▎                                                                                                 | 1900468/14920505 [17:38<1:02:18, 3482.42it/s]"
     ]
    },
    {
     "name": "stdout",
     "output_type": "stream",
     "text": [
      "Лауазымына геодезиста\n",
      "Занять вакансию геодезиста \n",
      "\n"
     ]
    },
    {
     "name": "stderr",
     "output_type": "stream",
     "text": [
      " 13%|███████████████                                                                                                 | 2000361/14920505 [18:10<1:04:15, 3350.79it/s]"
     ]
    },
    {
     "name": "stdout",
     "output_type": "stream",
     "text": [
      "Загрузка...\n",
      "Загрузка... \n",
      "\n"
     ]
    },
    {
     "name": "stderr",
     "output_type": "stream",
     "text": [
      " 14%|███████████████▊                                                                                                | 2100390/14920505 [18:42<1:06:07, 3231.60it/s]"
     ]
    },
    {
     "name": "stdout",
     "output_type": "stream",
     "text": [
      "«ЕЭК» АҚ бөлімшелерінде халықаралық ISO 50001, контрольный OHSAS 18001 стандарттары талаптарына сәйестік және ISO 9001 ресертификациялық сыртқы на аудиті аяқталды.\n",
      "IВ подразделениях АО «ЕЭК» завершился контрольный внешний аудит на соответствие требованиям международных стандартов ISO 50001, ISO14001, OHSAS 18001 и ресертификационный аудит по ISO 9001. \n",
      "\n"
     ]
    },
    {
     "name": "stderr",
     "output_type": "stream",
     "text": [
      " 15%|████████████████▌                                                                                               | 2200391/14920505 [19:13<1:06:37, 3181.75it/s]"
     ]
    },
    {
     "name": "stdout",
     "output_type": "stream",
     "text": [
      "Нанесение сіз шын мәнінде, бар,? жақсарту үшін бөлме бақытты күйде болса, онда, важно ұсыныстардың сначала көріңіз.\n",
      "Нанесение румян сначала может показаться сложным процессом, но важно пользоваться правильными инструментами. \n",
      "\n"
     ]
    },
    {
     "name": "stderr",
     "output_type": "stream",
     "text": [
      " 15%|█████████████████▎                                                                                              | 2300576/14920505 [19:45<1:07:54, 3097.20it/s]"
     ]
    },
    {
     "name": "stdout",
     "output_type": "stream",
     "text": [
      "iGaming Titanfall в\n",
      "iGaming в каталоге \n",
      "\n"
     ]
    },
    {
     "name": "stderr",
     "output_type": "stream",
     "text": [
      " 16%|██████████████████                                                                                              | 2400429/14920505 [20:17<1:06:42, 3128.22it/s]"
     ]
    },
    {
     "name": "stdout",
     "output_type": "stream",
     "text": [
      "Алматы қаласының басқармасының 21 жылға арналған жұмыс жоспары\n",
      "21 Августа 2014 \n",
      "\n"
     ]
    },
    {
     "name": "stderr",
     "output_type": "stream",
     "text": [
      " 17%|██████████████████▊                                                                                             | 2500401/14920505 [20:57<1:30:35, 2284.97it/s]"
     ]
    },
    {
     "name": "stdout",
     "output_type": "stream",
     "text": [
      "сезона соңында ол ESPN сәйкес жылдың ең жақсы баскетболиста-школьника звание алды, сонымен қатар жылдың символдық ұлттық құрамасына кірді [5] .\n",
      "По итогам сезона он получил звание лучшего баскетболиста-школьника года по версии ESPN, а также был включён в символическую сборную года[5]. \n",
      "\n"
     ]
    },
    {
     "name": "stderr",
     "output_type": "stream",
     "text": [
      " 17%|███████████████████▌                                                                                            | 2600630/14920505 [21:29<1:00:38, 3386.18it/s]"
     ]
    },
    {
     "name": "stdout",
     "output_type": "stream",
     "text": [
      "Статья 10. объектілері\n",
      "Статья 10. Управление выделенными активами \n",
      "\n"
     ]
    },
    {
     "name": "stderr",
     "output_type": "stream",
     "text": [
      " 18%|████████████████████▎                                                                                           | 2700290/14920505 [22:00<1:01:34, 3308.02it/s]"
     ]
    },
    {
     "name": "stdout",
     "output_type": "stream",
     "text": [
      "_ Теги: сыйақы, код!, coinflip, монеталар, авария, csbets, csgobird, Тегін, джекпот, балл, сыйақылар, рулетка, tremorgames, сенімді Post навигация\n",
      "_ Теги: бонус, код!, coinflip, монеты, авария, csbets, csgobird, свободно, куш, точки, награды, рулетка, tremorgames, доверенный сообщение навигации \n",
      "\n"
     ]
    },
    {
     "name": "stderr",
     "output_type": "stream",
     "text": [
      " 19%|█████████████████████                                                                                           | 2800573/14920505 [22:31<1:00:05, 3361.71it/s]"
     ]
    },
    {
     "name": "stdout",
     "output_type": "stream",
     "text": [
      "Банковский перевод:\n",
      "Банковский перевод: \n",
      "\n"
     ]
    },
    {
     "name": "stderr",
     "output_type": "stream",
     "text": [
      " 19%|█████████████████████▊                                                                                          | 2900451/14920505 [23:06<1:19:05, 2532.82it/s]"
     ]
    },
    {
     "name": "stdout",
     "output_type": "stream",
     "text": [
      "- мы күтіп ждём\n",
      "- мы ждём в \n",
      "\n"
     ]
    },
    {
     "name": "stderr",
     "output_type": "stream",
     "text": [
      " 20%|██████████████████████▌                                                                                         | 3000303/14920505 [23:49<1:22:13, 2416.03it/s]"
     ]
    },
    {
     "name": "stdout",
     "output_type": "stream",
     "text": [
      "\"Астровитянин\"дің авторы - \"Астровитянка\" (Ник Горькавый) Горькавый) адал қарақшы.\n",
      "Автор \"Астровитянки\" (Ник Горькавый) — порядочный негодяй. 4 утра, а я прочитал только половину книги. Похоже, моему орга \n",
      "\n"
     ]
    },
    {
     "name": "stderr",
     "output_type": "stream",
     "text": [
      " 21%|███████████████████████▎                                                                                        | 3100262/14920505 [24:29<1:20:15, 2454.38it/s]"
     ]
    },
    {
     "name": "stdout",
     "output_type": "stream",
     "text": [
      "БЛИЧЕМАНЫ! Айтыңдаршы, БЛИЧЕМАНЫ! ең арамдалған құсқұс не?\n",
      "БЛИЧЕМАНЫ! СКАЖИТЕ, ЧТО ЭТО САМЫЙ ОХУЕННЫЙ КОСПЛЕЙ КУЧИКИ?) \n",
      "\n"
     ]
    },
    {
     "name": "stderr",
     "output_type": "stream",
     "text": [
      " 21%|████████████████████████                                                                                        | 3200328/14920505 [25:09<1:16:09, 2564.80it/s]"
     ]
    },
    {
     "name": "stdout",
     "output_type": "stream",
     "text": [
      "у у еді ғой!\n",
      "у тебя ж была!) \n",
      "\n"
     ]
    },
    {
     "name": "stderr",
     "output_type": "stream",
     "text": [
      " 22%|████████████████████████▊                                                                                       | 3300337/14920505 [25:48<1:17:35, 2496.12it/s]"
     ]
    },
    {
     "name": "stdout",
     "output_type": "stream",
     "text": [
      "Мен Мюнхенге және менің кішкентай пәтерімге, менің могу мені күтіп тұр что ойламадым!\n",
      "Вернулась! Даже не думала что могу так обрадоваться Мюнхену и моей маленькой квартирке, в которой меня ждет мой цветочек!) \n",
      "\n"
     ]
    },
    {
     "name": "stderr",
     "output_type": "stream",
     "text": [
      " 23%|█████████████████████████▌                                                                                      | 3400277/14920505 [26:28<1:15:45, 2534.16it/s]"
     ]
    },
    {
     "name": "stdout",
     "output_type": "stream",
     "text": [
      "почему нет?:D\n",
      "почему нет?:D \n",
      "\n"
     ]
    },
    {
     "name": "stderr",
     "output_type": "stream",
     "text": [
      " 23%|██████████████████████████▎                                                                                     | 3500487/14920505 [27:08<1:18:10, 2434.91it/s]"
     ]
    },
    {
     "name": "stdout",
     "output_type": "stream",
     "text": [
      "Они теңізге выйдут\n",
      "Они выйдут в море. \n",
      "\n"
     ]
    },
    {
     "name": "stderr",
     "output_type": "stream",
     "text": [
      " 24%|███████████████████████████                                                                                     | 3600411/14920505 [27:48<1:16:32, 2464.70it/s]"
     ]
    },
    {
     "name": "stdout",
     "output_type": "stream",
     "text": [
      "математике бойынша проверочная жұмысы 4 сынып демидов\n",
      "проверочная работа по математике 4 класс демидова \n",
      "\n"
     ]
    },
    {
     "name": "stderr",
     "output_type": "stream",
     "text": [
      " 25%|███████████████████████████▊                                                                                    | 3700380/14920505 [28:28<1:14:05, 2523.88it/s]"
     ]
    },
    {
     "name": "stdout",
     "output_type": "stream",
     "text": [
      "Ешқайда нуу ,не үлкен отбасың, сен бөтен емессің.\n",
      "нуу ,не грусти,ты в большой семье,ты не чужой :з \n",
      "\n"
     ]
    },
    {
     "name": "stderr",
     "output_type": "stream",
     "text": [
      " 25%|████████████████████████████▌                                                                                   | 3800409/14920505 [29:09<1:14:18, 2494.38it/s]"
     ]
    },
    {
     "name": "stdout",
     "output_type": "stream",
     "text": [
      "Каспийске едем)))\n",
      "мы в Каспийск едем))) \n",
      "\n"
     ]
    },
    {
     "name": "stderr",
     "output_type": "stream",
     "text": [
      " 26%|█████████████████████████████▎                                                                                  | 3900237/14920505 [29:49<1:12:30, 2532.93it/s]"
     ]
    },
    {
     "name": "stdout",
     "output_type": "stream",
     "text": [
      "сказко аңыз бер\" байқауының әңгіме Сборник - Анонс: көмегімен\n",
      "Сборник сказко конкурса \"Подари ребенку сказку\" - Анонс: с помощью \n",
      "\n"
     ]
    },
    {
     "name": "stderr",
     "output_type": "stream",
     "text": [
      " 27%|██████████████████████████████                                                                                  | 4000474/14920505 [30:29<1:14:18, 2449.53it/s]"
     ]
    },
    {
     "name": "stdout",
     "output_type": "stream",
     "text": [
      "тамаша фильм және сүйікті человек\n",
      "отличный фильм и любимый человек :] \n",
      "\n"
     ]
    },
    {
     "name": "stderr",
     "output_type": "stream",
     "text": [
      " 27%|██████████████████████████████▊                                                                                 | 4100309/14920505 [31:09<1:09:55, 2579.00it/s]"
     ]
    },
    {
     "name": "stdout",
     "output_type": "stream",
     "text": [
      "На Людиново адамбақ мейрамы\n",
      "На празднике#масленница Людиново \n",
      "\n"
     ]
    },
    {
     "name": "stderr",
     "output_type": "stream",
     "text": [
      " 28%|███████████████████████████████▌                                                                                | 4200283/14920505 [31:49<1:12:56, 2449.40it/s]"
     ]
    },
    {
     "name": "stdout",
     "output_type": "stream",
     "text": [
      "СКА ТЫ ЗАЙПАЛ\n",
      "СКА ТЫ ЗАИПАЛ \n",
      "\n"
     ]
    },
    {
     "name": "stderr",
     "output_type": "stream",
     "text": [
      " 29%|████████████████████████████████▎                                                                               | 4300331/14920505 [32:36<1:12:31, 2440.70it/s]"
     ]
    },
    {
     "name": "stdout",
     "output_type": "stream",
     "text": [
      "Мен енді патшаның перине ұйықтап келемін\n",
      "Сплю теперь на царской перине \n",
      "\n"
     ]
    },
    {
     "name": "stderr",
     "output_type": "stream",
     "text": [
      " 29%|█████████████████████████████████                                                                               | 4400327/14920505 [33:16<1:09:08, 2536.05it/s]"
     ]
    },
    {
     "name": "stdout",
     "output_type": "stream",
     "text": [
      "vkontakte майнкрафт maincraft ойынының аватарлары аватарки\n",
      "аватарки из игры майнкрафт для вконтакте 0 \n",
      "\n"
     ]
    },
    {
     "name": "stderr",
     "output_type": "stream",
     "text": [
      " 30%|█████████████████████████████████▊                                                                              | 4500422/14920505 [33:56<1:07:02, 2590.46it/s]"
     ]
    },
    {
     "name": "stdout",
     "output_type": "stream",
     "text": [
      "Өрт Погорелова сняли\n",
      "Погорелова сняли \n",
      "\n"
     ]
    },
    {
     "name": "stderr",
     "output_type": "stream",
     "text": [
      " 31%|██████████████████████████████████▌                                                                             | 4600259/14920505 [34:36<1:11:04, 2419.93it/s]"
     ]
    },
    {
     "name": "stdout",
     "output_type": "stream",
     "text": [
      "Бір қыз мені поштадағы әпке такая, назвала\n",
      "Какая-то девочка на почте назвала меня тетей. Сама такая, слышь D:&lt; \n",
      "\n"
     ]
    },
    {
     "name": "stderr",
     "output_type": "stream",
     "text": [
      " 32%|███████████████████████████████████▎                                                                            | 4700465/14920505 [35:16<1:06:44, 2552.38it/s]"
     ]
    },
    {
     "name": "stdout",
     "output_type": "stream",
     "text": [
      "Сөйтіп, мен сразу затупил чет және бұл все ұялы телефондарға кіріп жатқанын көрмей қалдым. Шас бізді тапқан. Сізді API-ге қарай қулай аламыз ба?\n",
      "угу, чет сразу затупил и не увидел там как все это дело вонзается в мобилки. щас нашел ужо. тебя по API тиранить можно? :) \n",
      "\n"
     ]
    },
    {
     "name": "stderr",
     "output_type": "stream",
     "text": [
      " 32%|████████████████████████████████████                                                                            | 4800327/14920505 [35:58<1:07:18, 2506.03it/s]"
     ]
    },
    {
     "name": "stdout",
     "output_type": "stream",
     "text": [
      "отбасы семейство будет\n",
      "веселое будет семейство \n",
      "\n"
     ]
    },
    {
     "name": "stderr",
     "output_type": "stream",
     "text": [
      " 33%|████████████████████████████████████▊                                                                           | 4900272/14920505 [36:38<1:04:51, 2575.03it/s]"
     ]
    },
    {
     "name": "stdout",
     "output_type": "stream",
     "text": [
      "Пупсик:3 3\n",
      "Пупсик:3 \n",
      "\n"
     ]
    },
    {
     "name": "stderr",
     "output_type": "stream",
     "text": [
      " 34%|█████████████████████████████████████▌                                                                          | 5000403/14920505 [37:18<1:06:16, 2494.41it/s]"
     ]
    },
    {
     "name": "stdout",
     "output_type": "stream",
     "text": [
      "Ватман,оқыршылардымен ватман,прохождение ватман,прохождение стиль\n",
      "ватман,прохождение с комментариями гагатун стайл \n",
      "\n"
     ]
    },
    {
     "name": "stderr",
     "output_type": "stream",
     "text": [
      " 34%|██████████████████████████████████████▎                                                                         | 5100468/14920505 [37:59<1:05:26, 2500.78it/s]"
     ]
    },
    {
     "name": "stdout",
     "output_type": "stream",
     "text": [
      "суда алдында көптеген журналистер собралось\n",
      "Уже много журналистов собралось у суда \n",
      "\n"
     ]
    },
    {
     "name": "stderr",
     "output_type": "stream",
     "text": [
      " 35%|███████████████████████████████████████                                                                         | 5200419/14920505 [38:39<1:06:17, 2443.93it/s]"
     ]
    },
    {
     "name": "stdout",
     "output_type": "stream",
     "text": [
      "чем?))\n",
      "с чем?)) \n",
      "\n"
     ]
    },
    {
     "name": "stderr",
     "output_type": "stream",
     "text": [
      " 36%|███████████████████████████████████████▊                                                                        | 5300461/14920505 [39:19<1:03:42, 2516.84it/s]"
     ]
    },
    {
     "name": "stdout",
     "output_type": "stream",
     "text": [
      "смотрите қарамаңыз, сіз там жерде уже және бәрі көрінді, алға қарай барыңыз, ол жерде қызықты болады.\n",
      "Не смотрите в прошлое – вы там уже были и все видели , идите в перед , там будет интереснее. \n",
      "\n"
     ]
    },
    {
     "name": "stderr",
     "output_type": "stream",
     "text": [
      " 36%|████████████████████████████████████████▌                                                                       | 5400407/14920505 [39:59<1:03:26, 2500.79it/s]"
     ]
    },
    {
     "name": "stdout",
     "output_type": "stream",
     "text": [
      "давай поспорим!?\n",
      "давай поспорим!? \n",
      "\n"
     ]
    },
    {
     "name": "stderr",
     "output_type": "stream",
     "text": [
      " 37%|█████████████████████████████████████████▎                                                                      | 5500496/14920505 [40:38<1:01:52, 2537.26it/s]"
     ]
    },
    {
     "name": "stdout",
     "output_type": "stream",
     "text": [
      "огооо)а мы таныспыз ба?\n",
      "огооо)а мы знакомы?;3 \n",
      "\n"
     ]
    },
    {
     "name": "stderr",
     "output_type": "stream",
     "text": [
      " 38%|██████████████████████████████████████████                                                                      | 5600367/14920505 [41:18<1:01:31, 2524.42it/s]"
     ]
    },
    {
     "name": "stdout",
     "output_type": "stream",
     "text": [
      "такие бәрі ақылды шо еркек.\n",
      "все такие тут умные шо пиздец \n",
      "\n"
     ]
    },
    {
     "name": "stderr",
     "output_type": "stream",
     "text": [
      " 38%|██████████████████████████████████████████▊                                                                     | 5700342/14920505 [41:58<1:01:00, 2518.88it/s]"
     ]
    },
    {
     "name": "stdout",
     "output_type": "stream",
     "text": [
      "я тебя жақсы түсінемін!\n",
      "я тебя прекрасно понимаю! \n",
      "\n"
     ]
    },
    {
     "name": "stderr",
     "output_type": "stream",
     "text": [
      " 39%|███████████████████████████████████████████▌                                                                    | 5800438/14920505 [42:38<1:00:38, 2506.53it/s]"
     ]
    },
    {
     "name": "stdout",
     "output_type": "stream",
     "text": [
      "Бұл сколько барлық жағдайды күшейту керек, бірақ жол қозғалысы даже ала болжауға болмайды.\n",
      "а я даже не знаю, на сколько опоздаю. Теоретически все должно быть гуд, но движение на дорогах непредсказуемо. \n",
      "\n"
     ]
    },
    {
     "name": "stderr",
     "output_type": "stream",
     "text": [
      " 40%|████████████████████████████████████████████▎                                                                   | 5900303/14920505 [43:18<1:01:15, 2454.21it/s]"
     ]
    },
    {
     "name": "stdout",
     "output_type": "stream",
     "text": [
      "СҚҚЖ вокзалдары мен темір жол станцияларында безопасности шаралары усиленные\n",
      "На вокзалах и ж/д-станциях СЗФО введены усиленные меры безопасности \n",
      "\n"
     ]
    },
    {
     "name": "stderr",
     "output_type": "stream",
     "text": [
      " 40%|█████████████████████████████████████████████                                                                   | 6000338/14920505 [43:58<1:00:29, 2457.86it/s]"
     ]
    },
    {
     "name": "stdout",
     "output_type": "stream",
     "text": [
      "ор начнётся\n",
      "ор начнётся \n",
      "\n"
     ]
    },
    {
     "name": "stderr",
     "output_type": "stream",
     "text": [
      " 41%|█████████████████████████████████████████████▊                                                                  | 6100373/14920505 [44:38<1:00:16, 2439.11it/s]"
     ]
    },
    {
     "name": "stdout",
     "output_type": "stream",
     "text": [
      "Б МОСKBЕ (АХТИЦЕЛЛЮЛЬЮЛЬЬНЫҢ және т.б.). Тел.8(967) o25-4o-о5 суреттердегі мойны массажы талшықты:.sCL\n",
      "МАСCAЖ B МОСKBЕ (АHТИЦЕЛЛЮЛИTHЫЙ и др.). Tел.8(967)o25-4o-о5 массаж шеи в картинках волоколамская: .sCL \n",
      "\n"
     ]
    },
    {
     "name": "stderr",
     "output_type": "stream",
     "text": [
      " 42%|██████████████████████████████████████████████▌                                                                 | 6200366/14920505 [45:18<1:00:00, 2422.19it/s]"
     ]
    },
    {
     "name": "stdout",
     "output_type": "stream",
     "text": [
      "мың, екі двести лошадей\n",
      "тысяча блять двести лошадей \n",
      "\n"
     ]
    },
    {
     "name": "stderr",
     "output_type": "stream",
     "text": [
      " 42%|████████████████████████████████████████████████▏                                                                 | 6300394/14920505 [45:58<56:05, 2561.42it/s]"
     ]
    },
    {
     "name": "stdout",
     "output_type": "stream",
     "text": [
      "дёгтя ложка ұяшық\n",
      "ложка дёгтя в бочке мёда \n",
      "\n"
     ]
    },
    {
     "name": "stderr",
     "output_type": "stream",
     "text": [
      " 43%|████████████████████████████████████████████████▉                                                                 | 6400315/14920505 [46:38<58:38, 2421.21it/s]"
     ]
    },
    {
     "name": "stdout",
     "output_type": "stream",
     "text": [
      "Анаммен по бардық, қуаныштымыз, ақшамыз көп болды, бірақ ештеңе сатып алмадық.\n",
      "Прошлись с мамочкой по магазинам,довольныыыыые) денег потратили кучу,а ничё не купили) \n",
      "\n"
     ]
    },
    {
     "name": "stderr",
     "output_type": "stream",
     "text": [
      " 44%|█████████████████████████████████████████████████▋                                                                | 6500364/14920505 [47:18<55:53, 2510.72it/s]"
     ]
    },
    {
     "name": "stdout",
     "output_type": "stream",
     "text": [
      "Песни Скачать Әже шақырады\n",
      "Скачать Песни тётя звонит \n",
      "\n"
     ]
    },
    {
     "name": "stderr",
     "output_type": "stream",
     "text": [
      " 44%|██████████████████████████████████████████████████▍                                                               | 6600431/14920505 [47:58<55:50, 2483.15it/s]"
     ]
    },
    {
     "name": "stdout",
     "output_type": "stream",
     "text": [
      "та! Уханч лағы алға басуда, Раханың ядролық жауын-шашындығына.\n",
      "Өө та! Лаг Шинжлэх Ухаанч мэндчилээ дэвшүүлж байхад даа. раха ядаргаатай наасан. \n",
      "\n"
     ]
    },
    {
     "name": "stderr",
     "output_type": "stream",
     "text": [
      " 45%|███████████████████████████████████████████████████▏                                                              | 6700398/14920505 [48:40<54:32, 2512.17it/s]"
     ]
    },
    {
     "name": "stdout",
     "output_type": "stream",
     "text": [
      "к закону түзетулер Alienist кітабы\n",
      "поправки к закону 69фз книга алиенист \n",
      "\n"
     ]
    },
    {
     "name": "stderr",
     "output_type": "stream",
     "text": [
      " 46%|███████████████████████████████████████████████████▉                                                              | 6800295/14920505 [49:20<52:55, 2556.84it/s]"
     ]
    },
    {
     "name": "stdout",
     "output_type": "stream",
     "text": [
      "ракеты!\n",
      "ракеты! \n",
      "\n"
     ]
    },
    {
     "name": "stderr",
     "output_type": "stream",
     "text": [
      " 46%|████████████████████████████████████████████████████▋                                                             | 6900283/14920505 [50:00<53:31, 2497.29it/s]"
     ]
    },
    {
     "name": "stdout",
     "output_type": "stream",
     "text": [
      "- же где\n",
      "Ну где же вы? \n",
      "\n"
     ]
    },
    {
     "name": "stderr",
     "output_type": "stream",
     "text": [
      " 47%|█████████████████████████████████████████████████████▍                                                            | 7000454/14920505 [50:40<52:49, 2498.67it/s]"
     ]
    },
    {
     "name": "stdout",
     "output_type": "stream",
     "text": [
      "Жарым сағат ішінде шашты и макияжды часа!!!\n",
      "Причёска и мэйк за пол часа!!! Быстро и качественно \n",
      "\n"
     ]
    },
    {
     "name": "stderr",
     "output_type": "stream",
     "text": [
      " 48%|██████████████████████████████████████████████████████▎                                                           | 7100461/14920505 [51:20<52:18, 2491.33it/s]"
     ]
    },
    {
     "name": "stdout",
     "output_type": "stream",
     "text": [
      "Бұл жерде бо үшін өте маңызды, байсанаа бұл жерде біз үшін маңызды.\n",
      "Би бо л тэгж тоглож байсанаа санахгүй байна. Гэхдээ ийм тоглоомтой байсанаа санаж байнаа. \n",
      "\n"
     ]
    },
    {
     "name": "stderr",
     "output_type": "stream",
     "text": [
      " 48%|███████████████████████████████████████████████████████                                                           | 7200268/14920505 [52:00<50:29, 2548.47it/s]"
     ]
    },
    {
     "name": "stdout",
     "output_type": "stream",
     "text": [
      "Хахахахаха как апаларын шауып как\n",
      "хахахаххахахах обосрала как могла своих сестер \n",
      "\n"
     ]
    },
    {
     "name": "stderr",
     "output_type": "stream",
     "text": [
      " 49%|███████████████████████████████████████████████████████▊                                                          | 7300516/14920505 [52:40<49:09, 2583.46it/s]"
     ]
    },
    {
     "name": "stdout",
     "output_type": "stream",
     "text": [
      "Сіздер уходите,хотя жақын боламыз деп уәде беріп, кетіп барасыз.\n",
      "все вы уходите,хотя обещаете быть рядом. вы такие молодцы. \n",
      "\n"
     ]
    },
    {
     "name": "stderr",
     "output_type": "stream",
     "text": [
      " 50%|████████████████████████████████████████████████████████▌                                                         | 7400464/14920505 [53:20<50:48, 2467.02it/s]"
     ]
    },
    {
     "name": "stdout",
     "output_type": "stream",
     "text": [
      "Ендеше, Лизаға на барайық.\n",
      "ну давай, почему бы на Лизу не погнать. \n",
      "\n"
     ]
    },
    {
     "name": "stderr",
     "output_type": "stream",
     "text": [
      " 50%|█████████████████████████████████████████████████████████▎                                                        | 7500264/14920505 [54:00<48:40, 2540.72it/s]"
     ]
    },
    {
     "name": "stdout",
     "output_type": "stream",
     "text": [
      "жалпы, бүгін 20.12. 2013\n",
      "вообще то сегодня 20.12. 2013 \n",
      "\n"
     ]
    },
    {
     "name": "stderr",
     "output_type": "stream",
     "text": [
      " 51%|██████████████████████████████████████████████████████████                                                        | 7600280/14920505 [54:40<49:34, 2460.72it/s]"
     ]
    },
    {
     "name": "stdout",
     "output_type": "stream",
     "text": [
      "РОЗЫПИСТОЛЕТЫ\n",
      "РОЗЫПИСТОЛЕТЫ \n",
      "\n"
     ]
    },
    {
     "name": "stderr",
     "output_type": "stream",
     "text": [
      " 52%|██████████████████████████████████████████████████████████▊                                                       | 7700332/14920505 [55:20<49:45, 2418.22it/s]"
     ]
    },
    {
     "name": "stdout",
     "output_type": "stream",
     "text": [
      "B МOCKVE MACSAJ (AHTITILLYLYTN және дp.). TEL.8(967) о25-4о-o5 целлюлита массажы целлюлит поляны:.mXP\n",
      "МACСAЖ B МOCKВE (AHTИЦEЛЛЮЛИTНЫЙ и дp.). Tел.8(967)о25-4о-o5 медовый массаж целлюлита полянка: .mXP \n",
      "\n"
     ]
    },
    {
     "name": "stderr",
     "output_type": "stream",
     "text": [
      " 52%|███████████████████████████████████████████████████████████▌                                                      | 7800349/14920505 [56:00<48:14, 2459.59it/s]"
     ]
    },
    {
     "name": "stdout",
     "output_type": "stream",
     "text": [
      "Компанию Марк Йонтс басқарды.\n",
      "Компанию возглавлял Марк Йонтс. \n",
      "\n"
     ]
    },
    {
     "name": "stderr",
     "output_type": "stream",
     "text": [
      " 53%|████████████████████████████████████████████████████████████▎                                                     | 7900329/14920505 [56:41<47:23, 2468.78it/s]"
     ]
    },
    {
     "name": "stdout",
     "output_type": "stream",
     "text": [
      "2014 В интерьердегі ең модным түстер, без сары түстер болады. Біз көп сандаған қарағай түстерін көрдік.\n",
      "В интерьере самым модным в 2014 году, без сомнения, будет желтый цвет. Мы видели большое количество оттенков коричн.. \n",
      "\n"
     ]
    },
    {
     "name": "stderr",
     "output_type": "stream",
     "text": [
      " 54%|█████████████████████████████████████████████████████████████▏                                                    | 8000379/14920505 [57:21<47:15, 2440.28it/s]"
     ]
    },
    {
     "name": "stdout",
     "output_type": "stream",
     "text": [
      "Анелька семитке қарсы әрекет үшін 5 матчқа жест\n",
      "Анелька отстранили на 5 матчей за антисемитский жест \n",
      "\n"
     ]
    },
    {
     "name": "stderr",
     "output_type": "stream",
     "text": [
      " 54%|█████████████████████████████████████████████████████████████▉                                                    | 8100421/14920505 [58:03<45:56, 2474.25it/s]"
     ]
    },
    {
     "name": "stdout",
     "output_type": "stream",
     "text": [
      "Привет!Как дела?\n",
      "Привет!Как дела? \n",
      "\n"
     ]
    },
    {
     "name": "stderr",
     "output_type": "stream",
     "text": [
      " 55%|██████████████████████████████████████████████████████████████▋                                                   | 8200295/14920505 [58:43<44:19, 2527.23it/s]"
     ]
    },
    {
     "name": "stdout",
     "output_type": "stream",
     "text": [
      "карандашом картинки автоматтар\n",
      "картинки карандашом автоматы \n",
      "\n"
     ]
    },
    {
     "name": "stderr",
     "output_type": "stream",
     "text": [
      " 56%|███████████████████████████████████████████████████████████████▍                                                  | 8300407/14920505 [59:23<42:23, 2602.55it/s]"
     ]
    },
    {
     "name": "stdout",
     "output_type": "stream",
     "text": [
      "Сәбике, Любаша!) кеш, жақсы көңіл всем)\n",
      "Добрый вечер, Любаша!) Хорошего настроения всем) \n",
      "\n"
     ]
    },
    {
     "name": "stderr",
     "output_type": "stream",
     "text": [
      " 56%|███████████████████████████████████████████████████████████████                                                 | 8400257/14920505 [1:00:03<42:43, 2543.39it/s]"
     ]
    },
    {
     "name": "stdout",
     "output_type": "stream",
     "text": [
      "Ойынды жүгірту need for speed carbon\n",
      "Скачать Игры need for speed carbon \n",
      "\n"
     ]
    },
    {
     "name": "stderr",
     "output_type": "stream",
     "text": [
      " 57%|███████████████████████████████████████████████████████████████▊                                                | 8500296/14920505 [1:00:43<43:15, 2473.88it/s]"
     ]
    },
    {
     "name": "stdout",
     "output_type": "stream",
     "text": [
      "Тамақ беру программах О\n",
      "О программах питания \n",
      "\n"
     ]
    },
    {
     "name": "stderr",
     "output_type": "stream",
     "text": [
      " 58%|████████████████████████████████████████████████████████████████▌                                               | 8600238/14920505 [1:01:24<59:16, 1776.94it/s]"
     ]
    },
    {
     "name": "stdout",
     "output_type": "stream",
     "text": [
      "Сізге де, анама, ыстықлығыңыз За Спасибо, ол әлі күнге дейін ыстық.\n",
      "Спасибо, мама, За твоё тепло, что греет и по сей день. Я тоже всё тебе отдам до капли последней. \n",
      "\n"
     ]
    },
    {
     "name": "stderr",
     "output_type": "stream",
     "text": [
      " 58%|█████████████████████████████████████████████████████████████████▎                                              | 8700377/14920505 [1:02:11<42:10, 2457.94it/s]"
     ]
    },
    {
     "name": "stdout",
     "output_type": "stream",
     "text": [
      "БЕЗДЕГІЛІ pou ДЕНЬГИ БІРІЛІК\n",
      "pou ЧИТЫ ДЕНЬГИ СКАЧАТЬ БЕСПЛАТНО \n",
      "\n"
     ]
    },
    {
     "name": "stderr",
     "output_type": "stream",
     "text": [
      " 59%|██████████████████████████████████████████████████████████████████                                              | 8800496/14920505 [1:02:51<40:43, 2504.26it/s]"
     ]
    },
    {
     "name": "stdout",
     "output_type": "stream",
     "text": [
      "Гей көрші мені аяқ киім қашықтығымен ұстап алуға грозился тыйым салды. что істедім?\n",
      "гей-сосед грозился отпиздить меня ложкой для обуви. что я делаю не так? \n",
      "\n"
     ]
    },
    {
     "name": "stderr",
     "output_type": "stream",
     "text": [
      " 60%|██████████████████████████████████████████████████████████████████▊                                             | 8900409/14920505 [1:03:32<41:31, 2416.28it/s]"
     ]
    },
    {
     "name": "stdout",
     "output_type": "stream",
     "text": [
      "2 күннен кейін трендтік проекта іске қосылады\n",
      "Запуск трендового проекта через 2 дня \n",
      "\n"
     ]
    },
    {
     "name": "stderr",
     "output_type": "stream",
     "text": [
      " 60%|███████████████████████████████████████████████████████████████████▌                                            | 9000453/14920505 [1:04:12<41:26, 2380.68it/s]"
     ]
    },
    {
     "name": "stdout",
     "output_type": "stream",
     "text": [
      "Уақыт осындай, көзге бір нәрсе, одно, глаза нәрсе.\n",
      "время такое, в глаза одно, а за глаза другое \n",
      "\n"
     ]
    },
    {
     "name": "stderr",
     "output_type": "stream",
     "text": [
      " 61%|████████████████████████████████████████████████████████████████████▎                                           | 9100387/14920505 [1:04:52<40:40, 2385.18it/s]"
     ]
    },
    {
     "name": "stdout",
     "output_type": "stream",
     "text": [
      "Бәрі кр, деп жазды, мен кст суретін түсірдім.\n",
      "все писали кр, а я радугу рисовал Не очень кст получилась :с \n",
      "\n"
     ]
    },
    {
     "name": "stderr",
     "output_type": "stream",
     "text": [
      " 62%|█████████████████████████████████████████████████████████████████████                                           | 9200389/14920505 [1:05:32<38:45, 2459.24it/s]"
     ]
    },
    {
     "name": "stdout",
     "output_type": "stream",
     "text": [
      "Барлығын істей аламын, барлығын сумею, алайын - жүрегім тастан не\n",
      "Все я сумею, все смогу - Сердце мое не камень) \n",
      "\n"
     ]
    },
    {
     "name": "stderr",
     "output_type": "stream",
     "text": [
      " 62%|█████████████████████████████████████████████████████████████████████▊                                          | 9300294/14920505 [1:06:12<36:54, 2537.98it/s]"
     ]
    },
    {
     "name": "stdout",
     "output_type": "stream",
     "text": [
      "Тамбурин. Мен әрдайым эта хрень. ұшырадым.\n",
      "тамбурин. меня всегда бесила эта хрень. \n",
      "\n"
     ]
    },
    {
     "name": "stderr",
     "output_type": "stream",
     "text": [
      " 63%|██████████████████████████████████████████████████████████████████████▌                                         | 9400323/14920505 [1:07:00<36:33, 2516.48it/s]"
     ]
    },
    {
     "name": "stdout",
     "output_type": "stream",
     "text": [
      "жасыл кофе мен зығыр полный курс қанша пакеттер\n",
      "зелёное кофе с имбирём полный курс сколько пачек \n",
      "\n"
     ]
    },
    {
     "name": "stderr",
     "output_type": "stream",
     "text": [
      " 64%|███████████████████████████████████████████████████████████████████████▎                                        | 9500491/14920505 [1:07:40<35:28, 2546.40it/s]"
     ]
    },
    {
     "name": "stdout",
     "output_type": "stream",
     "text": [
      "Сбербанк начнет желісін 2016 жылдан с қысқартуға кіріседі: Сбербанктiң 2016 жылдан бастап ба...\n",
      "Сбербанк начнет сокращать банкоматную сеть с 2016 года: Сбербанк с 2016 года планирует постепенно сокращать ба... \n",
      "\n"
     ]
    },
    {
     "name": "stderr",
     "output_type": "stream",
     "text": [
      " 64%|████████████████████████████████████████████████████████████████████████                                        | 9600281/14920505 [1:08:20<36:09, 2452.82it/s]"
     ]
    },
    {
     "name": "stdout",
     "output_type": "stream",
     "text": [
      "Слалом Слалом\n",
      "Слалом детка \n",
      "\n"
     ]
    },
    {
     "name": "stderr",
     "output_type": "stream",
     "text": [
      " 65%|████████████████████████████████████████████████████████████████████████▊                                       | 9700188/14920505 [1:09:06<52:32, 1655.81it/s]"
     ]
    },
    {
     "name": "stdout",
     "output_type": "stream",
     "text": [
      "Lenovo компаниясы ThinkPad S531 бизнес бизнес-ноутбука Ресейде сатуды S531 жариялады.\n",
      "Компания Lenovo объявила о старте продаж бизнес-ноутбука ThinkPad S531 в России. \n",
      "\n"
     ]
    },
    {
     "name": "stderr",
     "output_type": "stream",
     "text": [
      " 66%|█████████████████████████████████████████████████████████████████████████▌                                      | 9800480/14920505 [1:09:49<34:46, 2454.24it/s]"
     ]
    },
    {
     "name": "stdout",
     "output_type": "stream",
     "text": [
      "оО ангаститься тоқтат\n",
      "хватит ангаститься оО \n",
      "\n"
     ]
    },
    {
     "name": "stderr",
     "output_type": "stream",
     "text": [
      " 66%|██████████████████████████████████████████████████████████████████████████▎                                     | 9900298/14920505 [1:10:29<33:28, 2499.47it/s]"
     ]
    },
    {
     "name": "stdout",
     "output_type": "stream",
     "text": [
      "вчерашнего түні мен бүгінге дейін біз Мандаринмен бірге ночи барып, 3 Крч, мен оның несик лифчик,...\n",
      "Со вчерашнего вечера до сегодняшнего часа ночи мы упарывались в вк с Мандарином :3 Крч, я его мэджик лифчик, ... \n",
      "\n"
     ]
    },
    {
     "name": "stderr",
     "output_type": "stream",
     "text": [
      " 67%|██████████████████████████████████████████████████████████████████████████▍                                    | 10000294/14920505 [1:11:09<33:38, 2438.13it/s]"
     ]
    },
    {
     "name": "stdout",
     "output_type": "stream",
     "text": [
      "сердце шипер жүрегім Ларри осы сәттерді ұстап қала алмайды.\n",
      "Мое шипперское сердце не выдержит от тех моментов Ларри \n",
      "\n"
     ]
    },
    {
     "name": "stderr",
     "output_type": "stream",
     "text": [
      " 68%|███████████████████████████████████████████████████████████████████████████▏                                   | 10100367/14920505 [1:11:50<32:43, 2455.40it/s]"
     ]
    },
    {
     "name": "stdout",
     "output_type": "stream",
     "text": [
      "(Иә, сондай-ақ) с отырды, ал 12нен кейін барады!)\n",
      "да тоже) посидела с родителями, а после 12 пошла погуляла!) \n",
      "\n"
     ]
    },
    {
     "name": "stderr",
     "output_type": "stream",
     "text": [
      " 68%|███████████████████████████████████████████████████████████████████████████▉                                   | 10200277/14920505 [1:12:30<46:34, 1689.02it/s]"
     ]
    },
    {
     "name": "stdout",
     "output_type": "stream",
     "text": [
      "Мен көптен бері метроға кайф эйе\n",
      "Давно в метро не ездил, кайф \n",
      "\n"
     ]
    },
    {
     "name": "stderr",
     "output_type": "stream",
     "text": [
      " 69%|████████████████████████████████████████████████████████████████████████████▋                                  | 10300422/14920505 [1:13:12<31:27, 2447.73it/s]"
     ]
    },
    {
     "name": "stdout",
     "output_type": "stream",
     "text": [
      "бактериялар органикалық бактерии азғын разрушители презентация\n",
      "бактерии крохотные разрушители органических веществ презентация \n",
      "\n"
     ]
    },
    {
     "name": "stderr",
     "output_type": "stream",
     "text": [
      " 70%|█████████████████████████████████████████████████████████████████████████████▎                                 | 10400321/14920505 [1:13:52<30:54, 2437.09it/s]"
     ]
    },
    {
     "name": "stdout",
     "output_type": "stream",
     "text": [
      "Искитимские кинотеатры\n",
      "Искитимские кинотеатры \n",
      "\n"
     ]
    },
    {
     "name": "stderr",
     "output_type": "stream",
     "text": [
      " 70%|██████████████████████████████████████████████████████████████████████████████                                 | 10500365/14920505 [1:14:33<30:05, 2447.81it/s]"
     ]
    },
    {
     "name": "stdout",
     "output_type": "stream",
     "text": [
      "с Ди Кому твит береді?\n",
      "Кому твит с ВанДи?? \n",
      "\n"
     ]
    },
    {
     "name": "stderr",
     "output_type": "stream",
     "text": [
      " 71%|██████████████████████████████████████████████████████████████████████████████▊                                | 10600388/14920505 [1:15:13<28:25, 2533.24it/s]"
     ]
    },
    {
     "name": "stdout",
     "output_type": "stream",
     "text": [
      "Мен кісінің человек екеніне көнбеймін.\n",
      "не могу привыкнуть,что кот - это человек \n",
      "\n"
     ]
    },
    {
     "name": "stderr",
     "output_type": "stream",
     "text": [
      " 72%|███████████████████████████████████████████████████████████████████████████████▌                               | 10700406/14920505 [1:15:53<28:50, 2439.19it/s]"
     ]
    },
    {
     "name": "stdout",
     "output_type": "stream",
     "text": [
      "Сізге тебя, мен сізге 911 нөміріне смску жаздым ғой)\n",
      "и тебя, я тебе смску на номер 911 писала же) \n",
      "\n"
     ]
    },
    {
     "name": "stderr",
     "output_type": "stream",
     "text": [
      " 72%|████████████████████████████████████████████████████████████████████████████████▎                              | 10800320/14920505 [1:16:33<26:39, 2575.25it/s]"
     ]
    },
    {
     "name": "stdout",
     "output_type": "stream",
     "text": [
      "Бар. правда өз пойду өтеймін.\n",
      "Все.я правда пойду со своей депрессией \n",
      "\n"
     ]
    },
    {
     "name": "stderr",
     "output_type": "stream",
     "text": [
      " 73%|█████████████████████████████████████████████████████████████████████████████████                              | 10900257/14920505 [1:17:13<26:50, 2496.61it/s]"
     ]
    },
    {
     "name": "stdout",
     "output_type": "stream",
     "text": [
      "Мен своих қатты жақсы көремін, ОБОЖААЮ.\n",
      "Я так люблю своих друзей, прям ОБОЖААЮ. \n",
      "\n"
     ]
    },
    {
     "name": "stderr",
     "output_type": "stream",
     "text": [
      " 74%|█████████████████████████████████████████████████████████████████████████████████▊                             | 11000426/14920505 [1:17:53<27:04, 2412.96it/s]"
     ]
    },
    {
     "name": "stdout",
     "output_type": "stream",
     "text": [
      "Владимир Миклушевскийдің пікірінше, команданың атауы сияқты форму, таңдауды край миклушевского, ғана таңдауы керек\n",
      "по мнению владимира миклушевского, выбирать форму, как и название команды, должны именно жители края \n",
      "\n"
     ]
    },
    {
     "name": "stderr",
     "output_type": "stream",
     "text": [
      " 74%|██████████████████████████████████████████████████████████████████████████████████▌                            | 11100348/14920505 [1:18:33<25:32, 2493.39it/s]"
     ]
    },
    {
     "name": "stdout",
     "output_type": "stream",
     "text": [
      "Фигли тілін не мове?\n",
      "Фигли не на мове? \n",
      "\n"
     ]
    },
    {
     "name": "stderr",
     "output_type": "stream",
     "text": [
      " 75%|███████████████████████████████████████████████████████████████████████████████████▎                           | 11200298/14920505 [1:19:15<26:00, 2383.24it/s]"
     ]
    },
    {
     "name": "stdout",
     "output_type": "stream",
     "text": [
      "Бірінші жұпты ұйықтату это клёво\n",
      "проспать первую пару - это так клёво \n",
      "\n"
     ]
    },
    {
     "name": "stderr",
     "output_type": "stream",
     "text": [
      " 76%|████████████████████████████████████████████████████████████████████████████████████                           | 11300360/14920505 [1:19:55<23:34, 2559.36it/s]"
     ]
    },
    {
     "name": "stdout",
     "output_type": "stream",
     "text": [
      "С өткен сайын уақыт жылдам әрі жылдам ұшып бара все түсіндім.\n",
      "С каждым годом осознаю,что время летит все быстрей и быстрей. \n",
      "\n"
     ]
    },
    {
     "name": "stderr",
     "output_type": "stream",
     "text": [
      " 76%|████████████████████████████████████████████████████████████████████████████████████▊                          | 11400396/14920505 [1:20:36<24:11, 2424.60it/s]"
     ]
    },
    {
     "name": "stdout",
     "output_type": "stream",
     "text": [
      "Жаңа 2014 жыл, ақша, С\n",
      "С новым 2014 годом! Деньжат! С праздником! \n",
      "\n"
     ]
    },
    {
     "name": "stderr",
     "output_type": "stream",
     "text": [
      " 77%|█████████████████████████████████████████████████████████████████████████████████████▌                         | 11500512/14920505 [1:21:17<22:24, 2544.38it/s]"
     ]
    },
    {
     "name": "stdout",
     "output_type": "stream",
     "text": [
      "Петр Чех, Эден Азар, Фрэнк Лэмпард, Джон Терри және Фернандо Торрес \"Симпсондар\" мультсериалдарының бір сериясының кейіпкерлері болады\n",
      "Петр Чех, Эден Азар, Фрэнк Лэмпард, Джон Терри и Фернандо Торрес, станут героями одной из серий мультсериала \"Симпсоны\" \n",
      "\n"
     ]
    },
    {
     "name": "stderr",
     "output_type": "stream",
     "text": [
      " 78%|██████████████████████████████████████████████████████████████████████████████████████▎                        | 11600304/14920505 [1:21:56<21:55, 2522.98it/s]"
     ]
    },
    {
     "name": "stdout",
     "output_type": "stream",
     "text": [
      "Эй, хей туған күніңізге сәлем!!!!!! ❄️\n",
      "Хей хей с днем рождения !!!!!! ❄️ \n",
      "\n"
     ]
    },
    {
     "name": "stderr",
     "output_type": "stream",
     "text": [
      " 78%|███████████████████████████████████████████████████████████████████████████████████████                        | 11700252/14920505 [1:22:40<21:49, 2458.98it/s]"
     ]
    },
    {
     "name": "stdout",
     "output_type": "stream",
     "text": [
      "Ходорковский Швейцарию виза алды\n",
      "Ходорковский получил визу в Швейцарию \n",
      "\n"
     ]
    },
    {
     "name": "stderr",
     "output_type": "stream",
     "text": [
      " 79%|███████████████████████████████████████████████████████████████████████████████████████▊                       | 11800264/14920505 [1:23:20<20:44, 2506.63it/s]"
     ]
    },
    {
     "name": "stdout",
     "output_type": "stream",
     "text": [
      "Сүйіктім, мила,как сен ойлағандай әдемі не\n",
      "Милая,ты не так мила,как ты думаешь,ты вообще похожа на быдло. \n",
      "\n"
     ]
    },
    {
     "name": "stderr",
     "output_type": "stream",
     "text": [
      " 80%|████████████████████████████████████████████████████████████████████████████████████████▌                      | 11900416/14920505 [1:24:00<20:06, 2502.54it/s]"
     ]
    },
    {
     "name": "stdout",
     "output_type": "stream",
     "text": [
      "Македегі жігіт 10 рет считал норманы санап білмеді, какой, төрт рет шашылды.\n",
      "Чувак в Маке капец какой, 10 раз все считал и не мог норм посчитать, и извенился раза 4 \n",
      "\n"
     ]
    },
    {
     "name": "stderr",
     "output_type": "stream",
     "text": [
      " 80%|█████████████████████████████████████████████████████████████████████████████████████████▎                     | 12000440/14920505 [1:24:40<19:48, 2456.56it/s]"
     ]
    },
    {
     "name": "stdout",
     "output_type": "stream",
     "text": [
      "Қыз. Милос Милос головой.\n",
      "девушку. Милос нетерпеливо головой. вы знаете ваш \n",
      "\n"
     ]
    },
    {
     "name": "stderr",
     "output_type": "stream",
     "text": [
      " 81%|██████████████████████████████████████████████████████████████████████████████████████████                     | 12100429/14920505 [1:25:24<18:20, 2562.98it/s]"
     ]
    },
    {
     "name": "stdout",
     "output_type": "stream",
     "text": [
      "Егер телевизор, қосылғаннан кейін тамаша актерлер, қызықты іс-әрекеттер және ақылды диалогтар с фильм көрсеңіз, онда бұл...\n",
      "Если, включив телевизор, вы видите фильм с хорошими актерами, увлекательным действием и остроумным диалогом, — это скоре... \n",
      "\n"
     ]
    },
    {
     "name": "stderr",
     "output_type": "stream",
     "text": [
      " 82%|██████████████████████████████████████████████████████████████████████████████████████████▊                    | 12200337/14920505 [1:26:03<17:49, 2543.78it/s]"
     ]
    },
    {
     "name": "stdout",
     "output_type": "stream",
     "text": [
      "Тағы бір Changan - Чанган Ресей Changan шықты\n",
      "Еще один «китаец» - Changan - выехал на российские дороги \n",
      "\n"
     ]
    },
    {
     "name": "stderr",
     "output_type": "stream",
     "text": [
      " 82%|███████████████████████████████████████████████████████████████████████████████████████████▌                   | 12300278/14920505 [1:26:43<16:47, 2600.42it/s]"
     ]
    },
    {
     "name": "stdout",
     "output_type": "stream",
     "text": [
      "\"@VangaNews: Теледидар желісі кезінде Путин кететін жылдың цифры өткен\n",
      "\"@VangaNews: Во время прямой линии на телевизоре проступили цифры года, когда Путин уйдет \n",
      "\n"
     ]
    },
    {
     "name": "stderr",
     "output_type": "stream",
     "text": [
      " 83%|████████████████████████████████████████████████████████████████████████████████████████████▎                  | 12400465/14920505 [1:27:23<16:20, 2571.25it/s]"
     ]
    },
    {
     "name": "stdout",
     "output_type": "stream",
     "text": [
      "MOCKWE-де массаж (АХТИЦЛЛЮЛЮЛИТІЛІ және др.). Тел.8(967)o25-4о-o5 топтық массаж:\n",
      "MАССАЖ В MOCKВЕ (АHTИЦEЛЛЮЛИTHЫЙ и др.). Тел.8(967)o25-4о-o5 групповой массаж: .nLx \n",
      "\n"
     ]
    },
    {
     "name": "stderr",
     "output_type": "stream",
     "text": [
      " 84%|████████████████████████████████████████████████████████████████████████████████████████████▉                  | 12500385/14920505 [1:28:02<16:10, 2493.21it/s]"
     ]
    },
    {
     "name": "stdout",
     "output_type": "stream",
     "text": [
      "Бойшылық онлайн игры\n",
      "Бойцовские онлайн игры \n",
      "\n"
     ]
    },
    {
     "name": "stderr",
     "output_type": "stream",
     "text": [
      " 84%|█████████████████████████████████████████████████████████████████████████████████████████████▋                 | 12600319/14920505 [1:28:42<14:50, 2605.98it/s]"
     ]
    },
    {
     "name": "stdout",
     "output_type": "stream",
     "text": [
      "тобой бірге Быть өте жақсы\n",
      "Быть с тобой восхитительно \n",
      "\n"
     ]
    },
    {
     "name": "stderr",
     "output_type": "stream",
     "text": [
      " 85%|██████████████████████████████████████████████████████████████████████████████████████████████▍                | 12700445/14920505 [1:29:22<14:30, 2549.32it/s]"
     ]
    },
    {
     "name": "stdout",
     "output_type": "stream",
     "text": [
      "Ал олар им жастаған?\n",
      "а с кока им примерно лет? \n",
      "\n"
     ]
    },
    {
     "name": "stderr",
     "output_type": "stream",
     "text": [
      " 86%|███████████████████████████████████████████████████████████████████████████████████████████████▏               | 12800445/14920505 [1:30:02<14:00, 2521.37it/s]"
     ]
    },
    {
     "name": "stdout",
     "output_type": "stream",
     "text": [
      "Қағаз түріндегі Конфетки и кг мармелад, аее)\n",
      "Конфетки в виде членов и кг мармелада, аее) \n",
      "\n"
     ]
    },
    {
     "name": "stderr",
     "output_type": "stream",
     "text": [
      " 86%|███████████████████████████████████████████████████████████████████████████████████████████████▉               | 12900392/14920505 [1:30:42<13:29, 2494.54it/s]"
     ]
    },
    {
     "name": "stdout",
     "output_type": "stream",
     "text": [
      "анасы ұлын ине ұстап алды\n",
      "мама мыла сына ине удержалась \n",
      "\n"
     ]
    },
    {
     "name": "stderr",
     "output_type": "stream",
     "text": [
      " 87%|████████████████████████████████████████████████████████████████████████████████████████████████▋              | 13000323/14920505 [1:31:21<12:38, 2532.05it/s]"
     ]
    },
    {
     "name": "stdout",
     "output_type": "stream",
     "text": [
      "Моя суббота.\n",
      "Моя суббота. \n",
      "\n"
     ]
    },
    {
     "name": "stderr",
     "output_type": "stream",
     "text": [
      " 88%|█████████████████████████████████████████████████████████████████████████████████████████████████▍             | 13100299/14920505 [1:32:01<12:04, 2513.49it/s]"
     ]
    },
    {
     "name": "stdout",
     "output_type": "stream",
     "text": [
      "Қурағайлар :D\n",
      "журавлей делать? :D \n",
      "\n"
     ]
    },
    {
     "name": "stderr",
     "output_type": "stream",
     "text": [
      " 88%|██████████████████████████████████████████████████████████████████████████████████████████████████▏            | 13200300/14920505 [1:32:43<11:24, 2513.00it/s]"
     ]
    },
    {
     "name": "stdout",
     "output_type": "stream",
     "text": [
      "Айналастан того, қорғаудың 7 негізгі правил\n",
      "7 главных правил того, как защититься от бродячих собак \n",
      "\n"
     ]
    },
    {
     "name": "stderr",
     "output_type": "stream",
     "text": [
      " 89%|██████████████████████████████████████████████████████████████████████████████████████████████████▉            | 13300254/14920505 [1:33:23<10:53, 2478.49it/s]"
     ]
    },
    {
     "name": "stdout",
     "output_type": "stream",
     "text": [
      "иди үйге шық, маскүнем!\"\n",
      "\"собака иди домой ты пьяная!\" О ИРА \n",
      "\n"
     ]
    },
    {
     "name": "stderr",
     "output_type": "stream",
     "text": [
      " 90%|███████████████████████████████████████████████████████████████████████████████████████████████████▋           | 13400500/14920505 [1:34:10<09:58, 2539.01it/s]"
     ]
    },
    {
     "name": "stdout",
     "output_type": "stream",
     "text": [
      "я пришлааа\n",
      "я пришлааа \n",
      "\n"
     ]
    },
    {
     "name": "stderr",
     "output_type": "stream",
     "text": [
      " 90%|████████████████████████████████████████████████████████████████████████████████████████████████████▍          | 13500284/14920505 [1:34:50<09:32, 2480.26it/s]"
     ]
    },
    {
     "name": "stdout",
     "output_type": "stream",
     "text": [
      "Мен идиота:3 этого жақсы көремін:3\n",
      "Обожаю этого идиота:3 \n",
      "\n"
     ]
    },
    {
     "name": "stderr",
     "output_type": "stream",
     "text": [
      " 91%|█████████████████████████████████████████████████████████████████████████████████████████████████████▏         | 13600306/14920505 [1:35:30<08:41, 2531.70it/s]"
     ]
    },
    {
     "name": "stdout",
     "output_type": "stream",
     "text": [
      "қызықты игр атауын напишите бірақ бұл кішіпейілді:\n",
      "напишите название интересных игр в вк,а то скучно :з \n",
      "\n"
     ]
    },
    {
     "name": "stderr",
     "output_type": "stream",
     "text": [
      " 92%|█████████████████████████████████████████████████████████████████████████████████████████████████████▉         | 13700435/14920505 [1:36:10<08:10, 2486.18it/s]"
     ]
    },
    {
     "name": "stdout",
     "output_type": "stream",
     "text": [
      "Азаттық женщин» елі (2006). Менің бағам 5 10. ★★★★★☆☆☆☆☆\n",
      "«В стране женщин» (2006). Моя оценка 5 из 10 ★★★★★☆☆☆☆☆ \n",
      "\n"
     ]
    },
    {
     "name": "stderr",
     "output_type": "stream",
     "text": [
      " 92%|██████████████████████████████████████████████████████████████████████████████████████████████████████▋        | 13800370/14920505 [1:36:49<07:30, 2488.50it/s]"
     ]
    },
    {
     "name": "stdout",
     "output_type": "stream",
     "text": [
      "Кремлдегі бір дерекқор возможной кетуі мүмкін екендігі туралы данные жоққа шығарды: Ранее дейін \"Ведомости\" газеті ел басшылығында...\n",
      "Источник в Кремле опроверг данные о возможной отставке Полтавченко: Ранее газета \"Ведомости\" написала, что в руководстве страны якобы... \n",
      "\n"
     ]
    },
    {
     "name": "stderr",
     "output_type": "stream",
     "text": [
      " 93%|███████████████████████████████████████████████████████████████████████████████████████████████████████▍       | 13900299/14920505 [1:37:29<09:42, 1752.29it/s]"
     ]
    },
    {
     "name": "stdout",
     "output_type": "stream",
     "text": [
      "айтьюнс?\n",
      "айтьюнс? \n",
      "\n"
     ]
    },
    {
     "name": "stderr",
     "output_type": "stream",
     "text": [
      " 94%|████████████████████████████████████████████████████████████████████████████████████████████████████████▏      | 14000512/14920505 [1:38:13<06:02, 2535.82it/s]"
     ]
    },
    {
     "name": "stdout",
     "output_type": "stream",
     "text": [
      "Белиберлер - ең сильные, ең благородные адамдар.\n",
      "Белиберы - самые сильные, самые благородные люди. \n",
      "\n"
     ]
    },
    {
     "name": "stderr",
     "output_type": "stream",
     "text": [
      " 95%|████████████████████████████████████████████████████████████████████████████████████████████████████████▉      | 14100401/14920505 [1:38:53<05:16, 2593.23it/s]"
     ]
    },
    {
     "name": "stdout",
     "output_type": "stream",
     "text": [
      "Завтра НГ??\n",
      "Завтра НГ?? \n",
      "\n"
     ]
    },
    {
     "name": "stderr",
     "output_type": "stream",
     "text": [
      " 95%|█████████████████████████████████████████████████████████████████████████████████████████████████████████▋     | 14200471/14920505 [1:39:32<04:48, 2499.66it/s]"
     ]
    },
    {
     "name": "stdout",
     "output_type": "stream",
     "text": [
      "Сәуір, Доброе Доброе\n",
      "Доброе утро... Хорошего настроения:) \n",
      "\n"
     ]
    },
    {
     "name": "stderr",
     "output_type": "stream",
     "text": [
      " 96%|██████████████████████████████████████████████████████████████████████████████████████████████████████████▍    | 14300478/14920505 [1:40:13<04:09, 2481.82it/s]"
     ]
    },
    {
     "name": "stdout",
     "output_type": "stream",
     "text": [
      "Ертең Юның туған күні болады! Ол то ойлап отыр.\n",
      "Завтра у Ю день рождения!Она что то задумала.Ну а что именно,узнаем завтра \n",
      "\n"
     ]
    },
    {
     "name": "stderr",
     "output_type": "stream",
     "text": [
      " 97%|███████████████████████████████████████████████████████████████████████████████████████████████████████████▏   | 14400200/14920505 [1:41:11<05:06, 1696.03it/s]"
     ]
    },
    {
     "name": "stdout",
     "output_type": "stream",
     "text": [
      "Ладаның сайтта \"оқыршы\" функциясы нет екенін Мало аз!\n",
      "Мало кто знает, что на сайте завода Лада нет функции \"комментарии\"! \n",
      "\n"
     ]
    },
    {
     "name": "stderr",
     "output_type": "stream",
     "text": [
      " 97%|███████████████████████████████████████████████████████████████████████████████████████████████████████████▊   | 14500402/14920505 [1:41:51<02:51, 2447.55it/s]"
     ]
    },
    {
     "name": "stdout",
     "output_type": "stream",
     "text": [
      "Бұл бәрі Степанның өзі тому, байланысты был\n",
      "Все это сводилось к тому, что это был Стефан. \n",
      "\n"
     ]
    },
    {
     "name": "stderr",
     "output_type": "stream",
     "text": [
      " 98%|████████████████████████████████████████████████████████████████████████████████████████████████████████████▌  | 14600465/14920505 [1:42:31<02:10, 2443.64it/s]"
     ]
    },
    {
     "name": "stdout",
     "output_type": "stream",
     "text": [
      "Әке, сен маған өте загадочная!\n",
      "Мама ты у меня такая загадочная! \n",
      "\n"
     ]
    },
    {
     "name": "stderr",
     "output_type": "stream",
     "text": [
      " 99%|█████████████████████████████████████████████████████████████████████████████████████████████████████████████▎ | 14700420/14920505 [1:43:11<01:28, 2492.85it/s]"
     ]
    },
    {
     "name": "stdout",
     "output_type": "stream",
     "text": [
      "Таспа, кешіріңіз, бірақ маған кому что керек.\n",
      "Лента простите что я ною..но мне надо кому то всё высказать \n",
      "\n"
     ]
    },
    {
     "name": "stderr",
     "output_type": "stream",
     "text": [
      " 99%|██████████████████████████████████████████████████████████████████████████████████████████████████████████████ | 14800206/14920505 [1:44:04<01:09, 1742.89it/s]"
     ]
    },
    {
     "name": "stdout",
     "output_type": "stream",
     "text": [
      "2013-жылдан года Чехов атындағы МКТ-ың актері.\n",
      "С 2013 года играет на Кипре. \n",
      "\n"
     ]
    },
    {
     "name": "stderr",
     "output_type": "stream",
     "text": [
      "100%|██████████████████████████████████████████████████████████████████████████████████████████████████████████████▊| 14900235/14920505 [1:45:03<00:11, 1722.03it/s]"
     ]
    },
    {
     "name": "stdout",
     "output_type": "stream",
     "text": [
      "Лусио осы в гуси негізгі ойыншыларының бірі болды.\n",
      "И прилетели гуси в края свои родные. \n",
      "\n"
     ]
    },
    {
     "name": "stderr",
     "output_type": "stream",
     "text": [
      "100%|███████████████████████████████████████████████████████████████████████████████████████████████████████████████| 14920505/14920505 [1:45:19<00:00, 2361.10it/s]\n"
     ]
    }
   ],
   "source": [
    "\n",
    "all_src_data_decoded = []\n",
    "all_tgt_data_decoded = []\n",
    "\n",
    "for i, (src_example, tgt_example) in tqdm(enumerate(zip(all_src_data, all_tgt_data)), total=len(all_tgt_data)):\n",
    "    src_decoded = model.decode(src_example)\n",
    "    tgt_decoded = model.decode(tgt_example)\n",
    "\n",
    "    if i % 100_000 == 0:\n",
    "        print(src_decoded)\n",
    "        print(tgt_decoded, \"\\n\")\n",
    "        \n",
    "    all_src_data_decoded.append(src_decoded)\n",
    "    all_tgt_data_decoded.append(tgt_decoded)"
   ]
  },
  {
   "cell_type": "code",
   "execution_count": 17,
   "id": "9ec8fb87-f70d-4aa5-af5c-f2cd966b1872",
   "metadata": {},
   "outputs": [
    {
     "data": {
      "text/plain": [
       "'« 1 января бастап біздің государства Еуразиялық экономикалық одақ аясында ықпалдасатын болады .'"
      ]
     },
     "execution_count": 17,
     "metadata": {},
     "output_type": "execute_result"
    }
   ],
   "source": [
    "all_src_data_decoded[0]"
   ]
  },
  {
   "cell_type": "code",
   "execution_count": 48,
   "id": "272fb248-268a-4c60-91cc-3ddbd03f3c25",
   "metadata": {},
   "outputs": [],
   "source": [
    "end_nu = 'В заключительном слове Глава государства отметил необходимость продолжения программы « Культурное наследие » и дал поручение Министерству культуры и информации разработать и реализовать новую отраслевую программу на 2007-2009 годы , предусмотрев необходимые средства в бюджете страны .'\n",
    "end_kaznu = 'Идёт мелкий дождь .'\n",
    "end_opus = 'Экстракт лимонника на спирту принимают от 25 до 30 капель дважды в день.'\n",
    "end_RTC = 'во мне в такие моменты просыпается еврей и делает смерти всем.'\n",
    "end_statmt = 'По данным Института мировых ресурсов, на долю США приходятся поражающие воображение 26,6% всех глобальных выбросов парниковых газов, зафиксированных с 1850 по 2013 годы.'\n",
    "wiki_end = 'В 1939 году хутор Подлужный получил статус села.'"
   ]
  },
  {
   "cell_type": "code",
   "execution_count": 49,
   "id": "c4994609-1ac8-47f3-bfc8-b37673b96678",
   "metadata": {},
   "outputs": [
    {
     "name": "stdout",
     "output_type": "stream",
     "text": [
      "14920504\n"
     ]
    }
   ],
   "source": [
    "for i in range(len(all_tgt_data_decoded)):\n",
    "    if all_tgt_data_decoded[i] == wiki_end:\n",
    "        print(i)\n",
    "        # break\n",
    "        "
   ]
  },
  {
   "cell_type": "code",
   "execution_count": null,
   "id": "df54e4d8-c3fe-443c-b5db-8743ec74bfdb",
   "metadata": {},
   "outputs": [],
   "source": []
  },
  {
   "cell_type": "code",
   "execution_count": 53,
   "id": "f0839c83-2805-4626-ad2c-c33e208b905b",
   "metadata": {},
   "outputs": [],
   "source": [
    "nu_data_src = all_src_data_decoded[:836394]\n",
    "nu_data_tgt = all_tgt_data_decoded[:836394]\n",
    "\n",
    "kaznu_data_src = all_src_data_decoded[836394:914979]\n",
    "kaznu_data_tgt = all_tgt_data_decoded[836394:914979]\n",
    "\n",
    "opus_data_src = all_src_data_decoded[914979:2857970]\n",
    "opus_data_tgt = all_tgt_data_decoded[914979:2857970]\n",
    "\n",
    "RTC_data_src = all_src_data_decoded[2857970:14749906]\n",
    "RTC_data_tgt = all_tgt_data_decoded[2857970:14749906]\n",
    "\n",
    "statmt_data_src = all_src_data_decoded[14749906:14763255]\n",
    "statmt_data_tgt = all_tgt_data_decoded[14749906:14763255]\n",
    "\n",
    "wiki_data_src = all_src_data_decoded[14763255:14920505]\n",
    "wiki_data_tgt = all_tgt_data_decoded[14763255:14920505]"
   ]
  },
  {
   "cell_type": "code",
   "execution_count": null,
   "id": "f07da978-5c7d-47dc-8222-dd55ce16b7c7",
   "metadata": {},
   "outputs": [],
   "source": []
  },
  {
   "cell_type": "code",
   "execution_count": null,
   "id": "0eaf13a5-1714-48fe-8aa5-ec7f1829a7e9",
   "metadata": {},
   "outputs": [],
   "source": []
  },
  {
   "cell_type": "code",
   "execution_count": 58,
   "id": "3e114009-f8a9-43ba-85aa-142571dd8a36",
   "metadata": {},
   "outputs": [],
   "source": [
    "from pathlib import Path\n",
    "\n",
    "DATA_PATH = \"/home/itmo/datasets/\"\n",
    "DATASETS = {p: Path(DATA_PATH + p) for p in os.listdir(DATA_PATH)}"
   ]
  },
  {
   "cell_type": "code",
   "execution_count": 67,
   "id": "168101b0-0ed5-462d-b1ca-f8ac55bb58c2",
   "metadata": {},
   "outputs": [
    {
     "data": {
      "text/plain": [
       "{'RTC': PosixPath('/home/itmo/datasets/RTC'),\n",
       " 'ted': PosixPath('/home/itmo/datasets/ted'),\n",
       " 'mix_test': PosixPath('/home/itmo/datasets/mix_test'),\n",
       " 'RTC_subset': PosixPath('/home/itmo/datasets/RTC_subset'),\n",
       " 'statmt': PosixPath('/home/itmo/datasets/statmt'),\n",
       " 'wikimatrix': PosixPath('/home/itmo/datasets/wikimatrix'),\n",
       " 'ntrex': PosixPath('/home/itmo/datasets/ntrex'),\n",
       " 'nu': PosixPath('/home/itmo/datasets/nu'),\n",
       " 'kaznu': PosixPath('/home/itmo/datasets/kaznu'),\n",
       " 'opus': PosixPath('/home/itmo/datasets/opus')}"
      ]
     },
     "execution_count": 67,
     "metadata": {},
     "output_type": "execute_result"
    }
   ],
   "source": [
    "DATASETS"
   ]
  },
  {
   "cell_type": "code",
   "execution_count": 68,
   "id": "e20a5ea2-3523-40ca-8cd4-7027b2582d13",
   "metadata": {},
   "outputs": [],
   "source": [
    "path = DATASETS['wikimatrix'] / 'processed' / 'train' / 'cs-4-ru_processed'\n",
    "\n",
    "with open(str(path) + '.kk', 'w') as f_src,  open(str(path) + '.ru', 'w') as f_tgt:\n",
    "    for src_line, tgt_line in zip(wiki_data_src, wiki_data_tgt):\n",
    "        f_src.write(src_line + \"\\n\")\n",
    "        f_tgt.write(tgt_line + \"\\n\")\n",
    "\n"
   ]
  },
  {
   "cell_type": "code",
   "execution_count": 61,
   "id": "e2f9ce44-3d67-44e5-8fe9-9127394c7ead",
   "metadata": {},
   "outputs": [
    {
     "data": {
      "text/plain": [
       "PosixPath('/home/itmo/datasets/nu/processed/train/cs-4-ru_processed')"
      ]
     },
     "execution_count": 61,
     "metadata": {},
     "output_type": "execute_result"
    }
   ],
   "source": [
    "path"
   ]
  },
  {
   "cell_type": "code",
   "execution_count": null,
   "id": "e9d5d96f-939e-488c-a38a-8b4a76615b73",
   "metadata": {},
   "outputs": [],
   "source": []
  },
  {
   "cell_type": "code",
   "execution_count": 11,
   "id": "a711dce0-8172-487e-9aea-f3cf6369319b",
   "metadata": {},
   "outputs": [
    {
     "name": "stdout",
     "output_type": "stream",
     "text": [
      "« 1 \u001b[32mянваря\u001b[0m бастап біздің \u001b[32mгосударства\u001b[0m Еуразиялық экономикалық одақ аясында ықпалдасатын болады .\n",
      "« С 1 \u001b[32mянваря\u001b[0m наши \u001b[32mгосударства\u001b[0m будут взаимодействовать в рамках Евразийского экономического союза . \n",
      "\n",
      "« \u001b[32mАпимондия\u001b[0m » омарта В келешекте \u001b[32mпчеловодческое\u001b[0m өңдеу бойынша \u001b[32mцех\u001b[0m \u001b[32mпостроить\u001b[0m \u001b[32mпланирует\u001b[0m балды бөлшектеп өлшеу бойынша автоматтандырылған желіні іске қосуды жоспарлап отыр , соның арқасында қосымша шамамен \u001b[32m20\u001b[0m жұмыс орны құрылады .\n",
      "В перспективе \u001b[32mпчеловодческое\u001b[0m хозяйство « \u001b[32mАпимондия\u001b[0m » \u001b[32mпланирует\u001b[0m \u001b[32mпостроить\u001b[0m \u001b[32mцех\u001b[0m по переработке воска , ввести автоматическую линию по фасовке меда , за счет чего будет создано дополнительно порядка \u001b[32m20\u001b[0m рабочих мест . \n",
      "\n",
      "« \u001b[32mМеня\u001b[0m алыстағы ауыл \u001b[32mглубинки\u001b[0m ретінде \u001b[32mкак\u001b[0m \u001b[32mакима\u001b[0m дағдарысқа қарсы Ұлт жоспарын орындауда « Қазақстан - 2050 » Стратегиясын жүзеге асыру бағыты бойынша айтқан сөздері қатты әсер етті .\n",
      "« \u001b[32mМеня\u001b[0m , \u001b[32mкак\u001b[0m \u001b[32mакима\u001b[0m из сельской \u001b[32mглубинки\u001b[0m , больше всего заинтересовали и тронули душу слова Главы государства о неуклонном курсе на реализацию Стратегии « Казахстан-2050 » , осуществлении антикризисной программы , выполнении Плана нации . \n",
      "\n",
      "Балықшылар тарапынан мұз үстінде \u001b[32mчасто\u001b[0m жіберілетін бұзушылықтар айтылды .\n",
      "Были озвучены наиболее \u001b[32mчасто\u001b[0m встречающиеся нарушения , допускаемые рыбаками во время нахождения на льду . \n",
      "\n",
      "Құжат \u001b[32mКазахстана\u001b[0m көлік жүйесінің бәсекеге \u001b[32mконкурентоспособности\u001b[0m арттыруға и елдің транзиттік әлеуетін жүзеге асыруға , жаңа жұмыс орындарын ашуға , сондай-ақ көліктегі қауіпсіздік деңгейі мен қызмет көрсету сапасын көтеруге \u001b[32mориентирована\u001b[0m .\n",
      "Программа \u001b[32mориентирована\u001b[0m на повышение \u001b[32mконкурентоспособности\u001b[0m транспортной системы \u001b[32mКазахстана\u001b[0m и реализацию транзитного потенциала страны , создание новых рабочих мест , а также повышение уровня безопасности и качества обслуживания на транспорте . \n",
      "\n",
      "Осыдан кейін \u001b[32mнаселение\u001b[0m жергілікті . база құрылысы идеясын қолдады .\n",
      "После этого местное \u001b[32mнаселение\u001b[0m поддержало идею строительства базы . \n",
      "\n",
      "Бір аптада жол \u001b[32mправил\u001b[0m ережелерін бұзудың \u001b[32m7,5\u001b[0m мың \u001b[32m7,5\u001b[0m тіркелді\n",
      "За неделю пресечено \u001b[32m7,5\u001b[0m тысяч нарушений \u001b[32mправил\u001b[0m дорожного движения \n",
      "\n",
      "Эйфель \u001b[32mбашня\u001b[0m - Париждің \u001b[32mсамая\u001b[0m танымал сәулеттік туындысы .\n",
      "Эйфелева \u001b[32mбашня\u001b[0m - \u001b[32mсамая\u001b[0m посещаемая , \u001b[32mсамая\u001b[0m узнаваемая и \u001b[32mсамая\u001b[0m фотографируемая достопримечательность Парижа . \n",
      "\n",
      "Машина жасау компаниясы металл құрастырылымдарын , тұрғын мобильді ғимараттарын \u001b[32mтакже\u001b[0m құрылыс жабдықтарын және ауыл \u001b[32mкомплекс\u001b[0m жабдықтарын шығарумен айналысатын жоғары технологиялық \u001b[32mпроизводственный\u001b[0m \u001b[32mпредставляет\u001b[0m .\n",
      "Машиностроительная компания \u001b[32mпредставляет\u001b[0m собой высокотехнологичный \u001b[32mпроизводственный\u001b[0m \u001b[32mкомплекс\u001b[0m , который \u001b[32mтакже\u001b[0m занимается выпуском металлоконструкций , жилых мобильных зданий , строительной оснастки и сельскохозяйственного оборудования . \n",
      "\n",
      "Ол жерде әскери дайындық , әскери техника и әскери істерді зерттеумен айналысты , В \u001b[32mтечение\u001b[0m \u001b[32mон\u001b[0m зеңбірекші , танкке қарсы қару көздеуші , жүргізуші болып істеді .\n",
      "В \u001b[32mтечение\u001b[0m всех этих лет \u001b[32mон\u001b[0m был и пулеметчиком , и наводчиком противотанкового оружия , и танкистом , и даже шофером . \n",
      "\n"
     ]
    }
   ],
   "source": [
    "for i in range(10):\n",
    "    src_sentence = pairs[i][0]\n",
    "    tgt_sentence = pairs[i][1]\n",
    "\n",
    "    common = set(src_sentence.split()) & set(tgt_sentence.split())\n",
    "    common = [x for x in common if len(x) > 1]\n",
    "    \n",
    "    print(\" \".join([x if x not in common else colored(x, 'green')  for x in src_sentence.split()]))\n",
    "    print(\" \".join([x if x not in common else colored(x, 'green')  for x in tgt_sentence.split()]), \"\\n\")\n"
   ]
  },
  {
   "cell_type": "code",
   "execution_count": 16,
   "id": "a769a496-4260-4ef2-986e-6d00af7741fa",
   "metadata": {},
   "outputs": [],
   "source": [
    "all_params = 0\n",
    "for param in model.parameters():\n",
    "    break"
   ]
  },
  {
   "cell_type": "code",
   "execution_count": 23,
   "id": "473cd67e-9bea-4ce9-9879-8d8a197e49a9",
   "metadata": {},
   "outputs": [
    {
     "data": {
      "text/plain": [
       "50030592"
      ]
     },
     "execution_count": 23,
     "metadata": {},
     "output_type": "execute_result"
    }
   ],
   "source": [
    "param.numel()"
   ]
  },
  {
   "cell_type": "code",
   "execution_count": 24,
   "id": "0a641066-703f-45dd-9037-e57268528013",
   "metadata": {},
   "outputs": [],
   "source": [
    "total_params = sum(p.numel() for p in model.parameters())\n"
   ]
  },
  {
   "cell_type": "code",
   "execution_count": 27,
   "id": "7392310a-fb03-441e-b603-ecd6076082f1",
   "metadata": {},
   "outputs": [
    {
     "data": {
      "text/plain": [
       "1.158313984"
      ]
     },
     "execution_count": 27,
     "metadata": {},
     "output_type": "execute_result"
    }
   ],
   "source": [
    "total_params / 1_000_000_000"
   ]
  },
  {
   "cell_type": "code",
   "execution_count": null,
   "id": "cf240dfb-5738-4172-8d24-26c74a8c67dc",
   "metadata": {},
   "outputs": [],
   "source": []
  }
 ],
 "metadata": {
  "kernelspec": {
   "display_name": "Python 3 (ipykernel)",
   "language": "python",
   "name": "python3"
  },
  "language_info": {
   "codemirror_mode": {
    "name": "ipython",
    "version": 3
   },
   "file_extension": ".py",
   "mimetype": "text/x-python",
   "name": "python",
   "nbconvert_exporter": "python",
   "pygments_lexer": "ipython3",
   "version": "3.10.13"
  }
 },
 "nbformat": 4,
 "nbformat_minor": 5
}
