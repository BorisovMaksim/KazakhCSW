{
 "cells": [
  {
   "cell_type": "code",
   "execution_count": 1,
   "id": "a8264077-7ab5-4c8a-8592-b09236a01573",
   "metadata": {},
   "outputs": [],
   "source": [
    "from fairseq.models.transformer import TransformerModel\n",
    "from termcolor import colored\n",
    "import os "
   ]
  },
  {
   "cell_type": "code",
   "execution_count": 2,
   "id": "2872b566-a3ec-4115-9eb5-8053033c19f5",
   "metadata": {},
   "outputs": [],
   "source": [
    "\n",
    "model_dir = \"./\"\n",
    "data_dir = \"./fairseq_data/\"\n",
    "checkpoint_file = './checkpoint/m2m/checkpoint_best.pt'"
   ]
  },
  {
   "cell_type": "code",
   "execution_count": 3,
   "id": "01a9b0f6-e107-45e3-a219-ca55f24f3079",
   "metadata": {},
   "outputs": [
    {
     "name": "stderr",
     "output_type": "stream",
     "text": [
      "2024-01-01 20:01:07 | INFO | fairseq.file_utils | loading archive file ./\n",
      "2024-01-01 20:01:14 | INFO | fairseq.data.multilingual.multilingual_data_manager | parsed the language list as they are ordered in the option: ['kk', 'ru']\n",
      "2024-01-01 20:01:14 | INFO | fairseq.data.multilingual.multilingual_data_manager | [kk] dictionary: 48858 types\n",
      "2024-01-01 20:01:14 | INFO | fairseq.data.multilingual.multilingual_data_manager | [ru] dictionary: 48858 types\n",
      "2024-01-01 20:01:25 | INFO | fairseq.models.fairseq_model | {'_name': None, 'common': {'_name': None, 'no_progress_bar': False, 'log_interval': 50, 'log_format': 'simple', 'log_file': None, 'aim_repo': None, 'aim_run_hash': None, 'tensorboard_logdir': None, 'wandb_project': 'kk-ru-csw', 'azureml_logging': False, 'seed': 222, 'cpu': False, 'tpu': False, 'bf16': False, 'memory_efficient_bf16': False, 'fp16': True, 'memory_efficient_fp16': False, 'fp16_no_flatten_grads': False, 'fp16_init_scale': 128, 'fp16_scale_window': None, 'fp16_scale_tolerance': 0.0, 'on_cpu_convert_precision': False, 'min_loss_scale': 0.0001, 'threshold_loss_scale': None, 'amp': False, 'amp_batch_retries': 2, 'amp_init_scale': 128, 'amp_scale_window': None, 'user_dir': None, 'empty_cache_freq': 0, 'all_gather_list_size': 16384, 'model_parallel_size': 1, 'quantization_config_path': None, 'profile': False, 'reset_logging': False, 'suppress_crashes': False, 'use_plasma_view': False, 'plasma_path': '/tmp/plasma'}, 'common_eval': {'_name': None, 'path': None, 'post_process': None, 'quiet': False, 'model_overrides': '{}', 'results_path': None}, 'distributed_training': {'_name': None, 'distributed_world_size': 1, 'distributed_num_procs': 1, 'distributed_rank': 0, 'distributed_backend': 'nccl', 'distributed_init_method': None, 'distributed_port': -1, 'device_id': 0, 'distributed_no_spawn': False, 'ddp_backend': 'no_c10d', 'ddp_comm_hook': 'none', 'bucket_cap_mb': 25, 'fix_batches_to_gpus': False, 'find_unused_parameters': False, 'gradient_as_bucket_view': False, 'fast_stat_sync': False, 'heartbeat_timeout': -1, 'broadcast_buffers': False, 'slowmo_momentum': None, 'slowmo_base_algorithm': 'localsgd', 'localsgd_frequency': 3, 'nprocs_per_node': 1, 'pipeline_model_parallel': False, 'pipeline_balance': None, 'pipeline_devices': None, 'pipeline_chunks': 0, 'pipeline_encoder_balance': None, 'pipeline_encoder_devices': None, 'pipeline_decoder_balance': None, 'pipeline_decoder_devices': None, 'pipeline_checkpoint': 'never', 'zero_sharding': 'none', 'fp16': True, 'memory_efficient_fp16': False, 'tpu': False, 'no_reshard_after_forward': False, 'fp32_reduce_scatter': False, 'cpu_offload': False, 'use_sharded_state': False, 'not_fsdp_flatten_parameters': False}, 'dataset': {'_name': None, 'num_workers': 1, 'skip_invalid_size_inputs_valid_test': False, 'max_tokens': 1800, 'batch_size': None, 'required_batch_size_multiple': 8, 'required_seq_len_multiple': 1, 'dataset_impl': None, 'data_buffer_size': 10, 'train_subset': 'train', 'valid_subset': 'test3', 'combine_valid_subsets': None, 'ignore_unused_valid_subsets': False, 'validate_interval': 1, 'validate_interval_updates': 0, 'validate_after_updates': 0, 'fixed_validation_seed': None, 'disable_validation': False, 'max_tokens_valid': 1800, 'batch_size_valid': None, 'max_valid_steps': None, 'curriculum': 0, 'gen_subset': 'test', 'num_shards': 1, 'shard_id': 0, 'grouped_shuffling': False, 'update_epoch_batch_itr': False, 'update_ordered_indices_seed': False}, 'optimization': {'_name': None, 'max_epoch': 0, 'max_update': 983680, 'stop_time_hours': 0.0, 'clip_norm': 0.0, 'sentence_avg': False, 'update_freq': [1], 'lr': [3e-05], 'stop_min_lr': -1.0, 'use_bmuf': False, 'skip_remainder_batch': False, 'debug_param_names': False}, 'checkpoint': {'_name': None, 'save_dir': './checkpoint/m2m/', 'restore_file': 'checkpoint_last.pt', 'continue_once': None, 'finetune_from_model': None, 'reset_dataloader': False, 'reset_lr_scheduler': False, 'reset_meters': False, 'reset_optimizer': False, 'optimizer_overrides': '{}', 'save_interval': 1, 'save_interval_updates': 0, 'keep_interval_updates': -1, 'keep_interval_updates_pattern': -1, 'keep_last_epochs': -1, 'keep_best_checkpoints': -1, 'no_save': False, 'no_epoch_checkpoints': True, 'no_last_checkpoints': True, 'no_save_optimizer_state': False, 'best_checkpoint_metric': 'loss', 'maximize_best_checkpoint_metric': False, 'patience': 10, 'checkpoint_suffix': '', 'checkpoint_shard_count': 1, 'load_checkpoint_on_all_dp_ranks': False, 'write_checkpoints_asynchronously': False, 'model_parallel_size': 1}, 'bmuf': {'_name': None, 'block_lr': 1.0, 'block_momentum': 0.875, 'global_sync_iter': 50, 'warmup_iterations': 500, 'use_nbm': False, 'average_sync': False, 'distributed_world_size': 1}, 'generation': {'_name': None, 'beam': 5, 'beam_mt': 0, 'nbest': 1, 'max_len_a': 0.0, 'max_len_b': 200, 'max_len_a_mt': 0.0, 'max_len_b_mt': 200, 'min_len': 1, 'match_source_len': False, 'unnormalized': False, 'no_early_stop': False, 'no_beamable_mm': False, 'lenpen': 1.0, 'lenpen_mt': 1.0, 'unkpen': 0.0, 'replace_unk': None, 'sacrebleu': False, 'score_reference': False, 'prefix_size': 0, 'no_repeat_ngram_size': 0, 'sampling': False, 'sampling_topk': -1, 'sampling_topp': -1.0, 'constraints': None, 'temperature': 1.0, 'diverse_beam_groups': -1, 'diverse_beam_strength': 0.5, 'diversity_rate': -1.0, 'print_alignment': None, 'print_step': False, 'lm_path': None, 'lm_weight': 0.0, 'iter_decode_eos_penalty': 0.0, 'iter_decode_max_iter': 10, 'iter_decode_force_max_iter': False, 'iter_decode_with_beam': 1, 'iter_decode_with_external_reranker': False, 'retain_iter_history': False, 'retain_dropout': False, 'retain_dropout_modules': None, 'decoding_format': None, 'no_seed_provided': False, 'eos_token': None}, 'eval_lm': {'_name': None, 'output_word_probs': False, 'output_word_stats': False, 'context_window': 0, 'softmax_batch': 9223372036854775807}, 'interactive': {'_name': None, 'buffer_size': 0, 'input': '-'}, 'model': Namespace(no_progress_bar=False, log_interval=50, log_format='simple', log_file=None, aim_repo=None, aim_run_hash=None, tensorboard_logdir=None, wandb_project='kk-ru-csw', azureml_logging=False, seed=222, cpu=False, tpu=False, bf16=False, memory_efficient_bf16=False, fp16=True, memory_efficient_fp16=False, fp16_no_flatten_grads=False, fp16_init_scale=128, fp16_scale_window=None, fp16_scale_tolerance=0.0, on_cpu_convert_precision=False, min_loss_scale=0.0001, threshold_loss_scale=None, amp=False, amp_batch_retries=2, amp_init_scale=128, amp_scale_window=None, user_dir=None, empty_cache_freq=0, all_gather_list_size=16384, model_parallel_size=1, quantization_config_path=None, profile=False, reset_logging=False, suppress_crashes=False, use_plasma_view=False, plasma_path='/tmp/plasma', criterion='label_smoothed_cross_entropy', tokenizer=None, bpe='sentencepiece', optimizer='adam', lr_scheduler='inverse_sqrt', scoring='bleu', task='translation_multi_simple_epoch', num_workers=1, skip_invalid_size_inputs_valid_test=False, max_tokens=1800, batch_size=None, required_batch_size_multiple=8, required_seq_len_multiple=1, dataset_impl=None, data_buffer_size=10, train_subset='train', valid_subset='test3', combine_valid_subsets=None, ignore_unused_valid_subsets=False, validate_interval=1, validate_interval_updates=0, validate_after_updates=0, fixed_validation_seed=None, disable_validation=False, max_tokens_valid=1800, batch_size_valid=None, max_valid_steps=None, curriculum=0, gen_subset='test', num_shards=1, shard_id=0, grouped_shuffling=False, update_epoch_batch_itr=False, update_ordered_indices_seed=False, distributed_world_size=1, distributed_num_procs=1, distributed_rank=0, distributed_backend='nccl', distributed_init_method=None, distributed_port=-1, device_id=0, distributed_no_spawn=False, ddp_backend='no_c10d', ddp_comm_hook='none', bucket_cap_mb=25, fix_batches_to_gpus=False, find_unused_parameters=False, gradient_as_bucket_view=False, fast_stat_sync=False, heartbeat_timeout=-1, broadcast_buffers=False, slowmo_momentum=None, slowmo_base_algorithm='localsgd', localsgd_frequency=3, nprocs_per_node=1, pipeline_model_parallel=False, pipeline_balance=None, pipeline_devices=None, pipeline_chunks=0, pipeline_encoder_balance=None, pipeline_encoder_devices=None, pipeline_decoder_balance=None, pipeline_decoder_devices=None, pipeline_checkpoint='never', zero_sharding='none', no_reshard_after_forward=False, fp32_reduce_scatter=False, cpu_offload=False, use_sharded_state=False, not_fsdp_flatten_parameters=False, arch='transformer_wmt_en_de_big', max_epoch=0, max_update=983680, stop_time_hours=0, clip_norm=0.0, sentence_avg=False, update_freq=[1], lr=[3e-05], stop_min_lr=-1.0, use_bmuf=False, skip_remainder_batch=False, debug_param_names=False, save_dir='./checkpoint/m2m/', restore_file='checkpoint_last.pt', continue_once=None, finetune_from_model=None, reset_dataloader=False, reset_lr_scheduler=False, reset_meters=False, reset_optimizer=False, optimizer_overrides='{}', save_interval=1, save_interval_updates=0, keep_interval_updates=-1, keep_interval_updates_pattern=-1, keep_last_epochs=-1, keep_best_checkpoints=-1, no_save=False, no_epoch_checkpoints=True, no_last_checkpoints=True, no_save_optimizer_state=False, best_checkpoint_metric='loss', maximize_best_checkpoint_metric=False, patience=10, checkpoint_suffix='', checkpoint_shard_count=1, load_checkpoint_on_all_dp_ranks=False, write_checkpoints_asynchronously=False, store_ema=False, ema_decay=0.9999, ema_start_update=0, ema_seed_model=None, ema_update_freq=1, ema_fp32=False, source_lang=None, target_lang=None, lang_pairs='kk-ru', keep_inference_langtok=False, sampling_method='temperature', sampling_temperature=1.5, data='/home/itmo/Projects/KazakhCSW/experiments/exp_bigger_transformer_all_data_cs-4/fairseq_data', langs=['kk', 'ru'], lang_dict=None, source_dict=None, target_dict=None, lang_tok_style='multilingual', load_alignments=False, left_pad_source='True', left_pad_target='False', upsample_primary=1, truncate_source=False, encoder_langtok='src', decoder_langtok=True, lang_tok_replacing_bos_eos=False, enable_lang_ids=False, enable_reservsed_directions_shared_datasets=False, extra_data=None, extra_lang_pairs=None, fixed_dictionary=None, langtoks_specs=['main'], langtoks=None, sampling_weights_from_file=None, sampling_weights=None, virtual_epoch_size=None, virtual_data_size=None, label_smoothing=0.2, report_accuracy=False, ignore_prefix_size=0, adam_betas='(0.9, 0.98)', adam_eps=1e-06, weight_decay=0.0, use_old_adam=False, fp16_adam_stats=False, warmup_updates=2500, warmup_init_lr=-1, pad=1, eos=2, unk=3, encoder_normalize_before=True, decoder_normalize_before=True, dropout=0.3, attention_dropout=0.1, encoder_layers=24, decoder_layers=24, encoder_ffn_embed_dim=8192, decoder_ffn_embed_dim=8192, encoder_layerdrop=0.05, decoder_layerdrop=0.05, share_decoder_input_output_embed=True, share_all_embeddings=True, no_seed_provided=False, encoder_embed_dim=1024, encoder_attention_heads=16, decoder_embed_dim=1024, decoder_attention_heads=16, encoder_embed_path=None, encoder_learned_pos=False, decoder_embed_path=None, decoder_learned_pos=False, activation_dropout=0.0, activation_fn='relu', adaptive_softmax_cutoff=None, adaptive_softmax_dropout=0, merge_src_tgt_embed=False, no_token_positional_embeddings=False, adaptive_input=False, no_cross_attention=False, cross_self_attention=False, decoder_output_dim=1024, decoder_input_dim=1024, no_scale_embedding=False, layernorm_embedding=False, tie_adaptive_weights=False, checkpoint_activations=False, offload_activations=False, encoder_layers_to_keep=None, decoder_layers_to_keep=None, quant_noise_pq=0, quant_noise_pq_block_size=8, quant_noise_scalar=0, _name='transformer_wmt_en_de_big', max_source_positions=1024, max_target_positions=1024, sentencepiece_model='./spm.model'), 'task': Namespace(no_progress_bar=False, log_interval=50, log_format='simple', log_file=None, aim_repo=None, aim_run_hash=None, tensorboard_logdir=None, wandb_project='kk-ru-csw', azureml_logging=False, seed=222, cpu=False, tpu=False, bf16=False, memory_efficient_bf16=False, fp16=True, memory_efficient_fp16=False, fp16_no_flatten_grads=False, fp16_init_scale=128, fp16_scale_window=None, fp16_scale_tolerance=0.0, on_cpu_convert_precision=False, min_loss_scale=0.0001, threshold_loss_scale=None, amp=False, amp_batch_retries=2, amp_init_scale=128, amp_scale_window=None, user_dir=None, empty_cache_freq=0, all_gather_list_size=16384, model_parallel_size=1, quantization_config_path=None, profile=False, reset_logging=False, suppress_crashes=False, use_plasma_view=False, plasma_path='/tmp/plasma', criterion='label_smoothed_cross_entropy', tokenizer=None, bpe='sentencepiece', optimizer='adam', lr_scheduler='inverse_sqrt', scoring='bleu', task='translation_multi_simple_epoch', num_workers=1, skip_invalid_size_inputs_valid_test=False, max_tokens=1800, batch_size=None, required_batch_size_multiple=8, required_seq_len_multiple=1, dataset_impl=None, data_buffer_size=10, train_subset='train', valid_subset='test3', combine_valid_subsets=None, ignore_unused_valid_subsets=False, validate_interval=1, validate_interval_updates=0, validate_after_updates=0, fixed_validation_seed=None, disable_validation=False, max_tokens_valid=1800, batch_size_valid=None, max_valid_steps=None, curriculum=0, gen_subset='test', num_shards=1, shard_id=0, grouped_shuffling=False, update_epoch_batch_itr=False, update_ordered_indices_seed=False, distributed_world_size=1, distributed_num_procs=1, distributed_rank=0, distributed_backend='nccl', distributed_init_method=None, distributed_port=-1, device_id=0, distributed_no_spawn=False, ddp_backend='no_c10d', ddp_comm_hook='none', bucket_cap_mb=25, fix_batches_to_gpus=False, find_unused_parameters=False, gradient_as_bucket_view=False, fast_stat_sync=False, heartbeat_timeout=-1, broadcast_buffers=False, slowmo_momentum=None, slowmo_base_algorithm='localsgd', localsgd_frequency=3, nprocs_per_node=1, pipeline_model_parallel=False, pipeline_balance=None, pipeline_devices=None, pipeline_chunks=0, pipeline_encoder_balance=None, pipeline_encoder_devices=None, pipeline_decoder_balance=None, pipeline_decoder_devices=None, pipeline_checkpoint='never', zero_sharding='none', no_reshard_after_forward=False, fp32_reduce_scatter=False, cpu_offload=False, use_sharded_state=False, not_fsdp_flatten_parameters=False, arch='transformer_wmt_en_de_big', max_epoch=0, max_update=983680, stop_time_hours=0, clip_norm=0.0, sentence_avg=False, update_freq=[1], lr=[3e-05], stop_min_lr=-1.0, use_bmuf=False, skip_remainder_batch=False, debug_param_names=False, save_dir='./checkpoint/m2m/', restore_file='checkpoint_last.pt', continue_once=None, finetune_from_model=None, reset_dataloader=False, reset_lr_scheduler=False, reset_meters=False, reset_optimizer=False, optimizer_overrides='{}', save_interval=1, save_interval_updates=0, keep_interval_updates=-1, keep_interval_updates_pattern=-1, keep_last_epochs=-1, keep_best_checkpoints=-1, no_save=False, no_epoch_checkpoints=True, no_last_checkpoints=True, no_save_optimizer_state=False, best_checkpoint_metric='loss', maximize_best_checkpoint_metric=False, patience=10, checkpoint_suffix='', checkpoint_shard_count=1, load_checkpoint_on_all_dp_ranks=False, write_checkpoints_asynchronously=False, store_ema=False, ema_decay=0.9999, ema_start_update=0, ema_seed_model=None, ema_update_freq=1, ema_fp32=False, source_lang=None, target_lang=None, lang_pairs=['kk-ru'], keep_inference_langtok=False, sampling_method='temperature', sampling_temperature=1.5, data='/home/itmo/Projects/KazakhCSW/experiments/exp_bigger_transformer_all_data_cs-4/fairseq_data', langs=['kk', 'ru'], lang_dict=None, source_dict=None, target_dict=None, lang_tok_style='multilingual', load_alignments=False, left_pad_source=False, left_pad_target=False, upsample_primary=1, truncate_source=False, encoder_langtok='src', decoder_langtok=True, lang_tok_replacing_bos_eos=False, enable_lang_ids=False, enable_reservsed_directions_shared_datasets=False, extra_data=None, extra_lang_pairs=None, fixed_dictionary=None, langtoks_specs=['main'], langtoks={'main': ('src', 'tgt')}, sampling_weights_from_file=None, sampling_weights=None, virtual_epoch_size=None, virtual_data_size=None, label_smoothing=0.2, report_accuracy=False, ignore_prefix_size=0, adam_betas='(0.9, 0.98)', adam_eps=1e-06, weight_decay=0.0, use_old_adam=False, fp16_adam_stats=False, warmup_updates=2500, warmup_init_lr=-1, pad=1, eos=2, unk=3, encoder_normalize_before=True, decoder_normalize_before=True, dropout=0.3, attention_dropout=0.1, encoder_layers=24, decoder_layers=24, encoder_ffn_embed_dim=8192, decoder_ffn_embed_dim=8192, encoder_layerdrop=0.05, decoder_layerdrop=0.05, share_decoder_input_output_embed=True, share_all_embeddings=True, no_seed_provided=False, encoder_embed_dim=1024, encoder_attention_heads=16, decoder_embed_dim=1024, decoder_attention_heads=16, encoder_embed_path=None, encoder_learned_pos=False, decoder_embed_path=None, decoder_learned_pos=False, activation_dropout=0.0, activation_fn='relu', adaptive_softmax_cutoff=None, adaptive_softmax_dropout=0, merge_src_tgt_embed=False, no_token_positional_embeddings=False, adaptive_input=False, no_cross_attention=False, cross_self_attention=False, decoder_output_dim=1024, decoder_input_dim=1024, no_scale_embedding=False, layernorm_embedding=False, tie_adaptive_weights=False, checkpoint_activations=False, offload_activations=False, encoder_layers_to_keep=None, decoder_layers_to_keep=None, quant_noise_pq=0, quant_noise_pq_block_size=8, quant_noise_scalar=0, max_source_positions=1024, max_target_positions=1024, _name='translation_multi_simple_epoch', shuffle_instance=False, sentencepiece_model='./spm.model'), 'criterion': {'_name': 'label_smoothed_cross_entropy', 'label_smoothing': 0.2, 'report_accuracy': False, 'ignore_prefix_size': 0, 'sentence_avg': False}, 'optimizer': {'_name': 'adam', 'adam_betas': '(0.9, 0.98)', 'adam_eps': 1e-06, 'weight_decay': 0.0, 'use_old_adam': False, 'fp16_adam_stats': False, 'tpu': False, 'lr': [3e-05]}, 'lr_scheduler': {'_name': 'inverse_sqrt', 'warmup_updates': 2500, 'warmup_init_lr': -1.0, 'lr': [3e-05]}, 'scoring': {'_name': 'bleu', 'pad': 1, 'eos': 2, 'unk': 3}, 'bpe': {'_name': 'sentencepiece', 'sentencepiece_model': './spm.model', 'sentencepiece_enable_sampling': False, 'sentencepiece_alpha': None}, 'tokenizer': None, 'ema': {'_name': None, 'store_ema': False, 'ema_decay': 0.9999, 'ema_start_update': 0, 'ema_seed_model': None, 'ema_update_freq': 1, 'ema_fp32': False}}\n",
      "2024-01-01 20:01:25 | INFO | fairseq.tasks.translation_multi_simple_epoch | loading data for train epoch=1/None\n",
      "2024-01-01 20:01:25 | INFO | fairseq.tasks.translation_multi_simple_epoch | mem usage: used=15204.0Mb; avail=384266.46875Mb\n",
      "2024-01-01 20:01:25 | INFO | fairseq.data.multilingual.multilingual_data_manager | langtoks settings: {'main': ('src', 'tgt')}\n",
      "2024-01-01 20:01:25 | INFO | fairseq.data.multilingual.multilingual_data_manager | [train] num of shards: {'main:kk-ru': 1}\n",
      "2024-01-01 20:01:25 | INFO | fairseq.data.multilingual.multilingual_data_manager | main:kk-ru src_langtok: 48856; tgt_langtok: 48857\n",
      "2024-01-01 20:01:26 | INFO | fairseq.data.data_utils | loaded 14,920,505 examples from: /home/itmo/Projects/KazakhCSW/experiments/exp_bigger_transformer_all_data_cs-4/fairseq_data/train.kk-ru.kk\n",
      "2024-01-01 20:01:27 | INFO | fairseq.data.data_utils | loaded 14,920,505 examples from: /home/itmo/Projects/KazakhCSW/experiments/exp_bigger_transformer_all_data_cs-4/fairseq_data/train.kk-ru.ru\n",
      "2024-01-01 20:01:27 | INFO | fairseq.data.multilingual.multilingual_data_manager | /home/itmo/Projects/KazakhCSW/experiments/exp_bigger_transformer_all_data_cs-4/fairseq_data train kk-ru 14920505 examples\n",
      "2024-01-01 20:01:27 | INFO | fairseq.data.multilingual.multilingual_data_manager | estimated total data sizes of all shards used in sampling ratios: [('main:kk-ru', 14920505)]. Note that if the data a shard has not been loaded yet, use the max known data size to approximate\n",
      "2024-01-01 20:01:27 | INFO | fairseq.data.multilingual.sampling_method | selected sampler: temperature\n",
      "2024-01-01 20:01:27 | INFO | fairseq.data.multilingual.multilingual_data_manager | | Upsample ratios: [('main:kk-ru', 1.0)]\n",
      "2024-01-01 20:01:28 | INFO | fairseq.data.multilingual.sampled_multi_dataset | [train] Raw sizes: {'main:kk-ru': 14920505}; raw total size: 14920505\n",
      "2024-01-01 20:01:28 | INFO | fairseq.data.multilingual.sampled_multi_dataset | [train] Resampled sizes: {'main:kk-ru': 14920505}; resampled total size: 14920505\n",
      "2024-01-01 20:01:28 | INFO | fairseq.data.multilingual.sampled_multi_dataset | [train] Upsampling ratios: {'main:kk-ru': 1.0}\n",
      "2024-01-01 20:01:28 | INFO | fairseq.data.multilingual.sampled_multi_dataset | [train] virtual dataset established time: 0:00:00.685528\n"
     ]
    }
   ],
   "source": [
    "\n",
    "\n",
    "model = TransformerModel.from_pretrained(\n",
    "    model_dir,\n",
    "    checkpoint_file=checkpoint_file,\n",
    "    data_name_or_path=data_dir,\n",
    "    bpe='sentencepiece', \n",
    "    sentencepiece_model='./spm.model'\n",
    ")\n",
    "model.task.load_dataset('train')\n",
    "data_bin = model.task.datasets['train']"
   ]
  },
  {
   "cell_type": "code",
   "execution_count": 4,
   "id": "dd2bac44-56d8-40ba-aa65-a51e28410258",
   "metadata": {},
   "outputs": [],
   "source": [
    "src_data = data_bin.datasets[0].src.dataset\n",
    "tgt_data = data_bin.datasets[0].tgt.dataset"
   ]
  },
  {
   "cell_type": "code",
   "execution_count": 5,
   "id": "1ca858be-ab05-4b0f-88f1-2bb1ec0188c2",
   "metadata": {},
   "outputs": [],
   "source": [
    "all_src_data = list(src_data)"
   ]
  },
  {
   "cell_type": "code",
   "execution_count": 8,
   "id": "0e8dc70b-21ff-4f1a-910d-6ffe9afc8ad4",
   "metadata": {},
   "outputs": [
    {
     "ename": "ValueError",
     "evalue": "setting an array element with a sequence. The requested array has an inhomogeneous shape after 1 dimensions. The detected shape was (14920505,) + inhomogeneous part.",
     "output_type": "error",
     "traceback": [
      "\u001b[0;31m---------------------------------------------------------------------------\u001b[0m",
      "\u001b[0;31mValueError\u001b[0m                                Traceback (most recent call last)",
      "Cell \u001b[0;32mIn[8], line 2\u001b[0m\n\u001b[1;32m      1\u001b[0m \u001b[38;5;28;01mimport\u001b[39;00m \u001b[38;5;21;01mnumpy\u001b[39;00m \u001b[38;5;28;01mas\u001b[39;00m \u001b[38;5;21;01mnp\u001b[39;00m\n\u001b[0;32m----> 2\u001b[0m all_src_data \u001b[38;5;241m=\u001b[39m \u001b[43mnp\u001b[49m\u001b[38;5;241;43m.\u001b[39;49m\u001b[43marray\u001b[49m\u001b[43m(\u001b[49m\u001b[43mall_src_data\u001b[49m\u001b[43m)\u001b[49m\n",
      "\u001b[0;31mValueError\u001b[0m: setting an array element with a sequence. The requested array has an inhomogeneous shape after 1 dimensions. The detected shape was (14920505,) + inhomogeneous part."
     ]
    }
   ],
   "source": [
    "import numpy as np\n",
    "all_src_data = np.array(all_src_data)"
   ]
  },
  {
   "cell_type": "code",
   "execution_count": 13,
   "id": "5e7b9f1e-1da7-4cf0-a452-381b7ff3aa6f",
   "metadata": {},
   "outputs": [
    {
     "data": {
      "text/plain": [
       "14920505"
      ]
     },
     "execution_count": 13,
     "metadata": {},
     "output_type": "execute_result"
    }
   ],
   "source": [
    "len(all_src_data)"
   ]
  },
  {
   "cell_type": "code",
   "execution_count": null,
   "id": "8ab510b4-3908-499d-aa6c-c708892bc0ca",
   "metadata": {},
   "outputs": [],
   "source": [
    "all_src_data_unique = np.unique(all_src_data)"
   ]
  },
  {
   "cell_type": "code",
   "execution_count": null,
   "id": "34336bca-56fc-430b-8788-b792581ef101",
   "metadata": {},
   "outputs": [],
   "source": [
    "len(all_src_data) - len(all_src_data_unique)"
   ]
  },
  {
   "cell_type": "code",
   "execution_count": null,
   "id": "aae5b5bf-ecfc-4098-bd07-349b0aaf5d38",
   "metadata": {},
   "outputs": [],
   "source": [
    "len(all_src_data_unique)  / len(all_src_data) * 100 "
   ]
  },
  {
   "cell_type": "code",
   "execution_count": null,
   "id": "75bac0ed-f44d-429a-982e-d0f89177d045",
   "metadata": {},
   "outputs": [],
   "source": []
  },
  {
   "cell_type": "code",
   "execution_count": null,
   "id": "5c496c19-e7f0-4868-8968-aedc1488fb2d",
   "metadata": {},
   "outputs": [],
   "source": [
    "14_920_505"
   ]
  },
  {
   "cell_type": "code",
   "execution_count": null,
   "id": "68c32d40-18f0-47a9-85e9-c2bccd8ccbe5",
   "metadata": {},
   "outputs": [
    {
     "name": "stderr",
     "output_type": "stream",
     "text": [
      " 55%|██████████████████████████████████████████████████████████████▏                                                   | 8144442/14920505 [29:46<22:15, 5071.98it/s]"
     ]
    }
   ],
   "source": [
    "from tqdm import tqdm\n",
    "all_src_data = []\n",
    "\n",
    "model = model.cuda(1)\n",
    "\n",
    "for src_example in tqdm(src_data, total=14920505):\n",
    "    all_src_data.append([model.decode(src_example)])\n",
    "\n"
   ]
  },
  {
   "cell_type": "code",
   "execution_count": 11,
   "id": "a711dce0-8172-487e-9aea-f3cf6369319b",
   "metadata": {},
   "outputs": [
    {
     "name": "stdout",
     "output_type": "stream",
     "text": [
      "« 1 \u001b[32mянваря\u001b[0m бастап біздің \u001b[32mгосударства\u001b[0m Еуразиялық экономикалық одақ аясында ықпалдасатын болады .\n",
      "« С 1 \u001b[32mянваря\u001b[0m наши \u001b[32mгосударства\u001b[0m будут взаимодействовать в рамках Евразийского экономического союза . \n",
      "\n",
      "« \u001b[32mАпимондия\u001b[0m » омарта В келешекте \u001b[32mпчеловодческое\u001b[0m өңдеу бойынша \u001b[32mцех\u001b[0m \u001b[32mпостроить\u001b[0m \u001b[32mпланирует\u001b[0m балды бөлшектеп өлшеу бойынша автоматтандырылған желіні іске қосуды жоспарлап отыр , соның арқасында қосымша шамамен \u001b[32m20\u001b[0m жұмыс орны құрылады .\n",
      "В перспективе \u001b[32mпчеловодческое\u001b[0m хозяйство « \u001b[32mАпимондия\u001b[0m » \u001b[32mпланирует\u001b[0m \u001b[32mпостроить\u001b[0m \u001b[32mцех\u001b[0m по переработке воска , ввести автоматическую линию по фасовке меда , за счет чего будет создано дополнительно порядка \u001b[32m20\u001b[0m рабочих мест . \n",
      "\n",
      "« \u001b[32mМеня\u001b[0m алыстағы ауыл \u001b[32mглубинки\u001b[0m ретінде \u001b[32mкак\u001b[0m \u001b[32mакима\u001b[0m дағдарысқа қарсы Ұлт жоспарын орындауда « Қазақстан - 2050 » Стратегиясын жүзеге асыру бағыты бойынша айтқан сөздері қатты әсер етті .\n",
      "« \u001b[32mМеня\u001b[0m , \u001b[32mкак\u001b[0m \u001b[32mакима\u001b[0m из сельской \u001b[32mглубинки\u001b[0m , больше всего заинтересовали и тронули душу слова Главы государства о неуклонном курсе на реализацию Стратегии « Казахстан-2050 » , осуществлении антикризисной программы , выполнении Плана нации . \n",
      "\n",
      "Балықшылар тарапынан мұз үстінде \u001b[32mчасто\u001b[0m жіберілетін бұзушылықтар айтылды .\n",
      "Были озвучены наиболее \u001b[32mчасто\u001b[0m встречающиеся нарушения , допускаемые рыбаками во время нахождения на льду . \n",
      "\n",
      "Құжат \u001b[32mКазахстана\u001b[0m көлік жүйесінің бәсекеге \u001b[32mконкурентоспособности\u001b[0m арттыруға и елдің транзиттік әлеуетін жүзеге асыруға , жаңа жұмыс орындарын ашуға , сондай-ақ көліктегі қауіпсіздік деңгейі мен қызмет көрсету сапасын көтеруге \u001b[32mориентирована\u001b[0m .\n",
      "Программа \u001b[32mориентирована\u001b[0m на повышение \u001b[32mконкурентоспособности\u001b[0m транспортной системы \u001b[32mКазахстана\u001b[0m и реализацию транзитного потенциала страны , создание новых рабочих мест , а также повышение уровня безопасности и качества обслуживания на транспорте . \n",
      "\n",
      "Осыдан кейін \u001b[32mнаселение\u001b[0m жергілікті . база құрылысы идеясын қолдады .\n",
      "После этого местное \u001b[32mнаселение\u001b[0m поддержало идею строительства базы . \n",
      "\n",
      "Бір аптада жол \u001b[32mправил\u001b[0m ережелерін бұзудың \u001b[32m7,5\u001b[0m мың \u001b[32m7,5\u001b[0m тіркелді\n",
      "За неделю пресечено \u001b[32m7,5\u001b[0m тысяч нарушений \u001b[32mправил\u001b[0m дорожного движения \n",
      "\n",
      "Эйфель \u001b[32mбашня\u001b[0m - Париждің \u001b[32mсамая\u001b[0m танымал сәулеттік туындысы .\n",
      "Эйфелева \u001b[32mбашня\u001b[0m - \u001b[32mсамая\u001b[0m посещаемая , \u001b[32mсамая\u001b[0m узнаваемая и \u001b[32mсамая\u001b[0m фотографируемая достопримечательность Парижа . \n",
      "\n",
      "Машина жасау компаниясы металл құрастырылымдарын , тұрғын мобильді ғимараттарын \u001b[32mтакже\u001b[0m құрылыс жабдықтарын және ауыл \u001b[32mкомплекс\u001b[0m жабдықтарын шығарумен айналысатын жоғары технологиялық \u001b[32mпроизводственный\u001b[0m \u001b[32mпредставляет\u001b[0m .\n",
      "Машиностроительная компания \u001b[32mпредставляет\u001b[0m собой высокотехнологичный \u001b[32mпроизводственный\u001b[0m \u001b[32mкомплекс\u001b[0m , который \u001b[32mтакже\u001b[0m занимается выпуском металлоконструкций , жилых мобильных зданий , строительной оснастки и сельскохозяйственного оборудования . \n",
      "\n",
      "Ол жерде әскери дайындық , әскери техника и әскери істерді зерттеумен айналысты , В \u001b[32mтечение\u001b[0m \u001b[32mон\u001b[0m зеңбірекші , танкке қарсы қару көздеуші , жүргізуші болып істеді .\n",
      "В \u001b[32mтечение\u001b[0m всех этих лет \u001b[32mон\u001b[0m был и пулеметчиком , и наводчиком противотанкового оружия , и танкистом , и даже шофером . \n",
      "\n"
     ]
    }
   ],
   "source": [
    "for i in range(10):\n",
    "    src_sentence = pairs[i][0]\n",
    "    tgt_sentence = pairs[i][1]\n",
    "\n",
    "    common = set(src_sentence.split()) & set(tgt_sentence.split())\n",
    "    common = [x for x in common if len(x) > 1]\n",
    "    \n",
    "    print(\" \".join([x if x not in common else colored(x, 'green')  for x in src_sentence.split()]))\n",
    "    print(\" \".join([x if x not in common else colored(x, 'green')  for x in tgt_sentence.split()]), \"\\n\")\n"
   ]
  },
  {
   "cell_type": "code",
   "execution_count": 16,
   "id": "a769a496-4260-4ef2-986e-6d00af7741fa",
   "metadata": {},
   "outputs": [],
   "source": [
    "all_params = 0\n",
    "for param in model.parameters():\n",
    "    break"
   ]
  },
  {
   "cell_type": "code",
   "execution_count": 23,
   "id": "473cd67e-9bea-4ce9-9879-8d8a197e49a9",
   "metadata": {},
   "outputs": [
    {
     "data": {
      "text/plain": [
       "50030592"
      ]
     },
     "execution_count": 23,
     "metadata": {},
     "output_type": "execute_result"
    }
   ],
   "source": [
    "param.numel()"
   ]
  },
  {
   "cell_type": "code",
   "execution_count": 24,
   "id": "0a641066-703f-45dd-9037-e57268528013",
   "metadata": {},
   "outputs": [],
   "source": [
    "total_params = sum(p.numel() for p in model.parameters())\n"
   ]
  },
  {
   "cell_type": "code",
   "execution_count": 27,
   "id": "7392310a-fb03-441e-b603-ecd6076082f1",
   "metadata": {},
   "outputs": [
    {
     "data": {
      "text/plain": [
       "1.158313984"
      ]
     },
     "execution_count": 27,
     "metadata": {},
     "output_type": "execute_result"
    }
   ],
   "source": [
    "total_params / 1_000_000_000"
   ]
  },
  {
   "cell_type": "code",
   "execution_count": null,
   "id": "cf240dfb-5738-4172-8d24-26c74a8c67dc",
   "metadata": {},
   "outputs": [],
   "source": []
  }
 ],
 "metadata": {
  "kernelspec": {
   "display_name": "Python 3 (ipykernel)",
   "language": "python",
   "name": "python3"
  },
  "language_info": {
   "codemirror_mode": {
    "name": "ipython",
    "version": 3
   },
   "file_extension": ".py",
   "mimetype": "text/x-python",
   "name": "python",
   "nbconvert_exporter": "python",
   "pygments_lexer": "ipython3",
   "version": "3.10.13"
  }
 },
 "nbformat": 4,
 "nbformat_minor": 5
}
